{
  "cells": [
    {
      "cell_type": "markdown",
      "metadata": {
        "id": "view-in-github",
        "colab_type": "text"
      },
      "source": [
        "<a href=\"https://colab.research.google.com/github/kailasa-Nischal/ML/blob/main/Paddy_disease.ipynb\" target=\"_parent\"><img src=\"https://colab.research.google.com/assets/colab-badge.svg\" alt=\"Open In Colab\"/></a>"
      ]
    },
    {
      "cell_type": "code",
      "execution_count": null,
      "metadata": {
        "colab": {
          "base_uri": "https://localhost:8080/"
        },
        "id": "dC91dS90hYKH",
        "outputId": "831d5f4e-0192-4c20-c085-6d1d1a666cfd"
      },
      "outputs": [
        {
          "output_type": "stream",
          "name": "stdout",
          "text": [
            "Cloning into 'paddy_disease_classification'...\n",
            "remote: Enumerating objects: 591, done.\u001b[K\n",
            "remote: Counting objects: 100% (591/591), done.\u001b[K\n",
            "remote: Compressing objects: 100% (571/571), done.\u001b[K\n",
            "remote: Total 591 (delta 58), reused 515 (delta 20), pack-reused 0\u001b[K\n",
            "Receiving objects: 100% (591/591), 43.21 MiB | 16.55 MiB/s, done.\n",
            "Resolving deltas: 100% (58/58), done.\n"
          ]
        }
      ],
      "source": [
        "!git clone https://github.com/yvkrishna/paddy_disease_classification.git"
      ]
    },
    {
      "cell_type": "code",
      "execution_count": null,
      "metadata": {
        "colab": {
          "base_uri": "https://localhost:8080/",
          "height": 1000
        },
        "id": "VpuKUk6K2MEa",
        "outputId": "398289dd-2d44-4efd-bf3f-96612c88d5c4"
      },
      "outputs": [
        {
          "output_type": "stream",
          "name": "stdout",
          "text": [
            "Collecting tensorflowjs\n",
            "  Downloading tensorflowjs-4.10.0-py3-none-any.whl (89 kB)\n",
            "\u001b[2K     \u001b[90m━━━━━━━━━━━━━━━━━━━━━━━━━━━━━━━━━━━━━━━\u001b[0m \u001b[32m89.2/89.2 kB\u001b[0m \u001b[31m851.6 kB/s\u001b[0m eta \u001b[36m0:00:00\u001b[0m\n",
            "\u001b[?25hCollecting flax<0.6.3,>=0.6.2 (from tensorflowjs)\n",
            "  Downloading flax-0.6.2-py3-none-any.whl (189 kB)\n",
            "\u001b[2K     \u001b[90m━━━━━━━━━━━━━━━━━━━━━━━━━━━━━━━━━━━━━━\u001b[0m \u001b[32m189.9/189.9 kB\u001b[0m \u001b[31m10.0 MB/s\u001b[0m eta \u001b[36m0:00:00\u001b[0m\n",
            "\u001b[?25hRequirement already satisfied: importlib_resources>=5.9.0 in /usr/local/lib/python3.10/dist-packages (from tensorflowjs) (6.0.1)\n",
            "Requirement already satisfied: jax>=0.3.16 in /usr/local/lib/python3.10/dist-packages (from tensorflowjs) (0.4.14)\n",
            "Requirement already satisfied: tensorflow<3,>=2.12.0 in /usr/local/lib/python3.10/dist-packages (from tensorflowjs) (2.12.0)\n",
            "Collecting tensorflow-decision-forests>=1.3.0 (from tensorflowjs)\n",
            "  Downloading tensorflow_decision_forests-1.5.0-cp310-cp310-manylinux_2_17_x86_64.manylinux2014_x86_64.whl (16.8 MB)\n",
            "\u001b[2K     \u001b[90m━━━━━━━━━━━━━━━━━━━━━━━━━━━━━━━━━━━━━━━━\u001b[0m \u001b[32m16.8/16.8 MB\u001b[0m \u001b[31m20.6 MB/s\u001b[0m eta \u001b[36m0:00:00\u001b[0m\n",
            "\u001b[?25hRequirement already satisfied: six<2,>=1.12.0 in /usr/local/lib/python3.10/dist-packages (from tensorflowjs) (1.16.0)\n",
            "Requirement already satisfied: tensorflow-hub>=0.13.0 in /usr/local/lib/python3.10/dist-packages (from tensorflowjs) (0.14.0)\n",
            "Collecting packaging~=20.9 (from tensorflowjs)\n",
            "  Downloading packaging-20.9-py2.py3-none-any.whl (40 kB)\n",
            "\u001b[2K     \u001b[90m━━━━━━━━━━━━━━━━━━━━━━━━━━━━━━━━━━━━━━━━\u001b[0m \u001b[32m40.9/40.9 kB\u001b[0m \u001b[31m6.3 MB/s\u001b[0m eta \u001b[36m0:00:00\u001b[0m\n",
            "\u001b[?25hRequirement already satisfied: numpy>=1.12 in /usr/local/lib/python3.10/dist-packages (from flax<0.6.3,>=0.6.2->tensorflowjs) (1.23.5)\n",
            "Requirement already satisfied: matplotlib in /usr/local/lib/python3.10/dist-packages (from flax<0.6.3,>=0.6.2->tensorflowjs) (3.7.1)\n",
            "Requirement already satisfied: msgpack in /usr/local/lib/python3.10/dist-packages (from flax<0.6.3,>=0.6.2->tensorflowjs) (1.0.5)\n",
            "Requirement already satisfied: optax in /usr/local/lib/python3.10/dist-packages (from flax<0.6.3,>=0.6.2->tensorflowjs) (0.1.7)\n",
            "Requirement already satisfied: tensorstore in /usr/local/lib/python3.10/dist-packages (from flax<0.6.3,>=0.6.2->tensorflowjs) (0.1.41)\n",
            "Requirement already satisfied: rich>=11.1 in /usr/local/lib/python3.10/dist-packages (from flax<0.6.3,>=0.6.2->tensorflowjs) (13.5.2)\n",
            "Requirement already satisfied: typing-extensions>=4.1.1 in /usr/local/lib/python3.10/dist-packages (from flax<0.6.3,>=0.6.2->tensorflowjs) (4.7.1)\n",
            "Requirement already satisfied: PyYAML>=5.4.1 in /usr/local/lib/python3.10/dist-packages (from flax<0.6.3,>=0.6.2->tensorflowjs) (6.0.1)\n",
            "Requirement already satisfied: ml-dtypes>=0.2.0 in /usr/local/lib/python3.10/dist-packages (from jax>=0.3.16->tensorflowjs) (0.2.0)\n",
            "Requirement already satisfied: opt-einsum in /usr/local/lib/python3.10/dist-packages (from jax>=0.3.16->tensorflowjs) (3.3.0)\n",
            "Requirement already satisfied: scipy>=1.7 in /usr/local/lib/python3.10/dist-packages (from jax>=0.3.16->tensorflowjs) (1.10.1)\n",
            "Requirement already satisfied: pyparsing>=2.0.2 in /usr/local/lib/python3.10/dist-packages (from packaging~=20.9->tensorflowjs) (3.1.1)\n",
            "Requirement already satisfied: absl-py>=1.0.0 in /usr/local/lib/python3.10/dist-packages (from tensorflow<3,>=2.12.0->tensorflowjs) (1.4.0)\n",
            "Requirement already satisfied: astunparse>=1.6.0 in /usr/local/lib/python3.10/dist-packages (from tensorflow<3,>=2.12.0->tensorflowjs) (1.6.3)\n",
            "Requirement already satisfied: flatbuffers>=2.0 in /usr/local/lib/python3.10/dist-packages (from tensorflow<3,>=2.12.0->tensorflowjs) (23.5.26)\n",
            "Requirement already satisfied: gast<=0.4.0,>=0.2.1 in /usr/local/lib/python3.10/dist-packages (from tensorflow<3,>=2.12.0->tensorflowjs) (0.4.0)\n",
            "Requirement already satisfied: google-pasta>=0.1.1 in /usr/local/lib/python3.10/dist-packages (from tensorflow<3,>=2.12.0->tensorflowjs) (0.2.0)\n",
            "Requirement already satisfied: grpcio<2.0,>=1.24.3 in /usr/local/lib/python3.10/dist-packages (from tensorflow<3,>=2.12.0->tensorflowjs) (1.57.0)\n",
            "Requirement already satisfied: h5py>=2.9.0 in /usr/local/lib/python3.10/dist-packages (from tensorflow<3,>=2.12.0->tensorflowjs) (3.9.0)\n",
            "Requirement already satisfied: keras<2.13,>=2.12.0 in /usr/local/lib/python3.10/dist-packages (from tensorflow<3,>=2.12.0->tensorflowjs) (2.12.0)\n",
            "Requirement already satisfied: libclang>=13.0.0 in /usr/local/lib/python3.10/dist-packages (from tensorflow<3,>=2.12.0->tensorflowjs) (16.0.6)\n",
            "Requirement already satisfied: protobuf!=4.21.0,!=4.21.1,!=4.21.2,!=4.21.3,!=4.21.4,!=4.21.5,<5.0.0dev,>=3.20.3 in /usr/local/lib/python3.10/dist-packages (from tensorflow<3,>=2.12.0->tensorflowjs) (3.20.3)\n",
            "Requirement already satisfied: setuptools in /usr/local/lib/python3.10/dist-packages (from tensorflow<3,>=2.12.0->tensorflowjs) (67.7.2)\n",
            "Requirement already satisfied: tensorboard<2.13,>=2.12 in /usr/local/lib/python3.10/dist-packages (from tensorflow<3,>=2.12.0->tensorflowjs) (2.12.3)\n",
            "Requirement already satisfied: tensorflow-estimator<2.13,>=2.12.0 in /usr/local/lib/python3.10/dist-packages (from tensorflow<3,>=2.12.0->tensorflowjs) (2.12.0)\n",
            "Requirement already satisfied: termcolor>=1.1.0 in /usr/local/lib/python3.10/dist-packages (from tensorflow<3,>=2.12.0->tensorflowjs) (2.3.0)\n",
            "Requirement already satisfied: wrapt<1.15,>=1.11.0 in /usr/local/lib/python3.10/dist-packages (from tensorflow<3,>=2.12.0->tensorflowjs) (1.14.1)\n",
            "Requirement already satisfied: tensorflow-io-gcs-filesystem>=0.23.1 in /usr/local/lib/python3.10/dist-packages (from tensorflow<3,>=2.12.0->tensorflowjs) (0.33.0)\n",
            "Requirement already satisfied: pandas in /usr/local/lib/python3.10/dist-packages (from tensorflow-decision-forests>=1.3.0->tensorflowjs) (1.5.3)\n",
            "Collecting tensorflow<3,>=2.12.0 (from tensorflowjs)\n",
            "  Downloading tensorflow-2.13.0-cp310-cp310-manylinux_2_17_x86_64.manylinux2014_x86_64.whl (524.1 MB)\n",
            "\u001b[2K     \u001b[90m━━━━━━━━━━━━━━━━━━━━━━━━━━━━━━━━━━━━━━━\u001b[0m \u001b[32m524.1/524.1 MB\u001b[0m \u001b[31m2.6 MB/s\u001b[0m eta \u001b[36m0:00:00\u001b[0m\n",
            "\u001b[?25hRequirement already satisfied: wheel in /usr/local/lib/python3.10/dist-packages (from tensorflow-decision-forests>=1.3.0->tensorflowjs) (0.41.1)\n",
            "Collecting wurlitzer (from tensorflow-decision-forests>=1.3.0->tensorflowjs)\n",
            "  Downloading wurlitzer-3.0.3-py3-none-any.whl (7.3 kB)\n",
            "Collecting keras<2.14,>=2.13.1 (from tensorflow<3,>=2.12.0->tensorflowjs)\n",
            "  Downloading keras-2.13.1-py3-none-any.whl (1.7 MB)\n",
            "\u001b[2K     \u001b[90m━━━━━━━━━━━━━━━━━━━━━━━━━━━━━━━━━━━━━━━━\u001b[0m \u001b[32m1.7/1.7 MB\u001b[0m \u001b[31m72.2 MB/s\u001b[0m eta \u001b[36m0:00:00\u001b[0m\n",
            "\u001b[?25hCollecting tensorboard<2.14,>=2.13 (from tensorflow<3,>=2.12.0->tensorflowjs)\n",
            "  Downloading tensorboard-2.13.0-py3-none-any.whl (5.6 MB)\n",
            "\u001b[2K     \u001b[90m━━━━━━━━━━━━━━━━━━━━━━━━━━━━━━━━━━━━━━━━\u001b[0m \u001b[32m5.6/5.6 MB\u001b[0m \u001b[31m65.4 MB/s\u001b[0m eta \u001b[36m0:00:00\u001b[0m\n",
            "\u001b[?25hCollecting tensorflow-estimator<2.14,>=2.13.0 (from tensorflow<3,>=2.12.0->tensorflowjs)\n",
            "  Downloading tensorflow_estimator-2.13.0-py2.py3-none-any.whl (440 kB)\n",
            "\u001b[2K     \u001b[90m━━━━━━━━━━━━━━━━━━━━━━━━━━━━━━━━━━━━━━\u001b[0m \u001b[32m440.8/440.8 kB\u001b[0m \u001b[31m45.6 MB/s\u001b[0m eta \u001b[36m0:00:00\u001b[0m\n",
            "\u001b[?25hCollecting typing-extensions>=4.1.1 (from flax<0.6.3,>=0.6.2->tensorflowjs)\n",
            "  Downloading typing_extensions-4.5.0-py3-none-any.whl (27 kB)\n",
            "Requirement already satisfied: markdown-it-py>=2.2.0 in /usr/local/lib/python3.10/dist-packages (from rich>=11.1->flax<0.6.3,>=0.6.2->tensorflowjs) (3.0.0)\n",
            "Requirement already satisfied: pygments<3.0.0,>=2.13.0 in /usr/local/lib/python3.10/dist-packages (from rich>=11.1->flax<0.6.3,>=0.6.2->tensorflowjs) (2.16.1)\n",
            "Requirement already satisfied: google-auth<3,>=1.6.3 in /usr/local/lib/python3.10/dist-packages (from tensorboard<2.14,>=2.13->tensorflow<3,>=2.12.0->tensorflowjs) (2.17.3)\n",
            "Requirement already satisfied: google-auth-oauthlib<1.1,>=0.5 in /usr/local/lib/python3.10/dist-packages (from tensorboard<2.14,>=2.13->tensorflow<3,>=2.12.0->tensorflowjs) (1.0.0)\n",
            "Requirement already satisfied: markdown>=2.6.8 in /usr/local/lib/python3.10/dist-packages (from tensorboard<2.14,>=2.13->tensorflow<3,>=2.12.0->tensorflowjs) (3.4.4)\n",
            "Requirement already satisfied: requests<3,>=2.21.0 in /usr/local/lib/python3.10/dist-packages (from tensorboard<2.14,>=2.13->tensorflow<3,>=2.12.0->tensorflowjs) (2.31.0)\n",
            "Requirement already satisfied: tensorboard-data-server<0.8.0,>=0.7.0 in /usr/local/lib/python3.10/dist-packages (from tensorboard<2.14,>=2.13->tensorflow<3,>=2.12.0->tensorflowjs) (0.7.1)\n",
            "Requirement already satisfied: werkzeug>=1.0.1 in /usr/local/lib/python3.10/dist-packages (from tensorboard<2.14,>=2.13->tensorflow<3,>=2.12.0->tensorflowjs) (2.3.7)\n",
            "Requirement already satisfied: contourpy>=1.0.1 in /usr/local/lib/python3.10/dist-packages (from matplotlib->flax<0.6.3,>=0.6.2->tensorflowjs) (1.1.0)\n",
            "Requirement already satisfied: cycler>=0.10 in /usr/local/lib/python3.10/dist-packages (from matplotlib->flax<0.6.3,>=0.6.2->tensorflowjs) (0.11.0)\n",
            "Requirement already satisfied: fonttools>=4.22.0 in /usr/local/lib/python3.10/dist-packages (from matplotlib->flax<0.6.3,>=0.6.2->tensorflowjs) (4.42.0)\n",
            "Requirement already satisfied: kiwisolver>=1.0.1 in /usr/local/lib/python3.10/dist-packages (from matplotlib->flax<0.6.3,>=0.6.2->tensorflowjs) (1.4.4)\n",
            "Requirement already satisfied: pillow>=6.2.0 in /usr/local/lib/python3.10/dist-packages (from matplotlib->flax<0.6.3,>=0.6.2->tensorflowjs) (9.4.0)\n",
            "Requirement already satisfied: python-dateutil>=2.7 in /usr/local/lib/python3.10/dist-packages (from matplotlib->flax<0.6.3,>=0.6.2->tensorflowjs) (2.8.2)\n",
            "Requirement already satisfied: chex>=0.1.5 in /usr/local/lib/python3.10/dist-packages (from optax->flax<0.6.3,>=0.6.2->tensorflowjs) (0.1.7)\n",
            "Requirement already satisfied: jaxlib>=0.1.37 in /usr/local/lib/python3.10/dist-packages (from optax->flax<0.6.3,>=0.6.2->tensorflowjs) (0.4.14+cuda11.cudnn86)\n",
            "Requirement already satisfied: pytz>=2020.1 in /usr/local/lib/python3.10/dist-packages (from pandas->tensorflow-decision-forests>=1.3.0->tensorflowjs) (2023.3)\n",
            "Requirement already satisfied: dm-tree>=0.1.5 in /usr/local/lib/python3.10/dist-packages (from chex>=0.1.5->optax->flax<0.6.3,>=0.6.2->tensorflowjs) (0.1.8)\n",
            "Requirement already satisfied: toolz>=0.9.0 in /usr/local/lib/python3.10/dist-packages (from chex>=0.1.5->optax->flax<0.6.3,>=0.6.2->tensorflowjs) (0.12.0)\n",
            "Requirement already satisfied: cachetools<6.0,>=2.0.0 in /usr/local/lib/python3.10/dist-packages (from google-auth<3,>=1.6.3->tensorboard<2.14,>=2.13->tensorflow<3,>=2.12.0->tensorflowjs) (5.3.1)\n",
            "Requirement already satisfied: pyasn1-modules>=0.2.1 in /usr/local/lib/python3.10/dist-packages (from google-auth<3,>=1.6.3->tensorboard<2.14,>=2.13->tensorflow<3,>=2.12.0->tensorflowjs) (0.3.0)\n",
            "Requirement already satisfied: rsa<5,>=3.1.4 in /usr/local/lib/python3.10/dist-packages (from google-auth<3,>=1.6.3->tensorboard<2.14,>=2.13->tensorflow<3,>=2.12.0->tensorflowjs) (4.9)\n",
            "Requirement already satisfied: requests-oauthlib>=0.7.0 in /usr/local/lib/python3.10/dist-packages (from google-auth-oauthlib<1.1,>=0.5->tensorboard<2.14,>=2.13->tensorflow<3,>=2.12.0->tensorflowjs) (1.3.1)\n",
            "Requirement already satisfied: mdurl~=0.1 in /usr/local/lib/python3.10/dist-packages (from markdown-it-py>=2.2.0->rich>=11.1->flax<0.6.3,>=0.6.2->tensorflowjs) (0.1.2)\n",
            "Requirement already satisfied: charset-normalizer<4,>=2 in /usr/local/lib/python3.10/dist-packages (from requests<3,>=2.21.0->tensorboard<2.14,>=2.13->tensorflow<3,>=2.12.0->tensorflowjs) (3.2.0)\n",
            "Requirement already satisfied: idna<4,>=2.5 in /usr/local/lib/python3.10/dist-packages (from requests<3,>=2.21.0->tensorboard<2.14,>=2.13->tensorflow<3,>=2.12.0->tensorflowjs) (3.4)\n",
            "Requirement already satisfied: urllib3<3,>=1.21.1 in /usr/local/lib/python3.10/dist-packages (from requests<3,>=2.21.0->tensorboard<2.14,>=2.13->tensorflow<3,>=2.12.0->tensorflowjs) (2.0.4)\n",
            "Requirement already satisfied: certifi>=2017.4.17 in /usr/local/lib/python3.10/dist-packages (from requests<3,>=2.21.0->tensorboard<2.14,>=2.13->tensorflow<3,>=2.12.0->tensorflowjs) (2023.7.22)\n",
            "Requirement already satisfied: MarkupSafe>=2.1.1 in /usr/local/lib/python3.10/dist-packages (from werkzeug>=1.0.1->tensorboard<2.14,>=2.13->tensorflow<3,>=2.12.0->tensorflowjs) (2.1.3)\n",
            "Requirement already satisfied: pyasn1<0.6.0,>=0.4.6 in /usr/local/lib/python3.10/dist-packages (from pyasn1-modules>=0.2.1->google-auth<3,>=1.6.3->tensorboard<2.14,>=2.13->tensorflow<3,>=2.12.0->tensorflowjs) (0.5.0)\n",
            "Requirement already satisfied: oauthlib>=3.0.0 in /usr/local/lib/python3.10/dist-packages (from requests-oauthlib>=0.7.0->google-auth-oauthlib<1.1,>=0.5->tensorboard<2.14,>=2.13->tensorflow<3,>=2.12.0->tensorflowjs) (3.2.2)\n",
            "Installing collected packages: wurlitzer, typing-extensions, tensorflow-estimator, packaging, keras, tensorboard, tensorflow, flax, tensorflow-decision-forests, tensorflowjs\n",
            "  Attempting uninstall: typing-extensions\n",
            "    Found existing installation: typing_extensions 4.7.1\n",
            "    Uninstalling typing_extensions-4.7.1:\n",
            "      Successfully uninstalled typing_extensions-4.7.1\n",
            "  Attempting uninstall: tensorflow-estimator\n",
            "    Found existing installation: tensorflow-estimator 2.12.0\n",
            "    Uninstalling tensorflow-estimator-2.12.0:\n",
            "      Successfully uninstalled tensorflow-estimator-2.12.0\n",
            "  Attempting uninstall: packaging\n",
            "    Found existing installation: packaging 23.1\n",
            "    Uninstalling packaging-23.1:\n",
            "      Successfully uninstalled packaging-23.1\n",
            "  Attempting uninstall: keras\n",
            "    Found existing installation: keras 2.12.0\n",
            "    Uninstalling keras-2.12.0:\n",
            "      Successfully uninstalled keras-2.12.0\n",
            "  Attempting uninstall: tensorboard\n",
            "    Found existing installation: tensorboard 2.12.3\n",
            "    Uninstalling tensorboard-2.12.3:\n",
            "      Successfully uninstalled tensorboard-2.12.3\n",
            "  Attempting uninstall: tensorflow\n",
            "    Found existing installation: tensorflow 2.12.0\n",
            "    Uninstalling tensorflow-2.12.0:\n",
            "      Successfully uninstalled tensorflow-2.12.0\n",
            "  Attempting uninstall: flax\n",
            "    Found existing installation: flax 0.7.2\n",
            "    Uninstalling flax-0.7.2:\n",
            "      Successfully uninstalled flax-0.7.2\n",
            "\u001b[31mERROR: pip's dependency resolver does not currently take into account all the packages that are installed. This behaviour is the source of the following dependency conflicts.\n",
            "pydantic 2.2.0 requires typing-extensions>=4.6.1, but you have typing-extensions 4.5.0 which is incompatible.\n",
            "pydantic-core 2.6.0 requires typing-extensions!=4.7.0,>=4.6.0, but you have typing-extensions 4.5.0 which is incompatible.\n",
            "statsmodels 0.14.0 requires packaging>=21.3, but you have packaging 20.9 which is incompatible.\n",
            "xarray 2023.7.0 requires packaging>=21.3, but you have packaging 20.9 which is incompatible.\u001b[0m\u001b[31m\n",
            "\u001b[0mSuccessfully installed flax-0.6.2 keras-2.13.1 packaging-20.9 tensorboard-2.13.0 tensorflow-2.13.0 tensorflow-decision-forests-1.5.0 tensorflow-estimator-2.13.0 tensorflowjs-4.10.0 typing-extensions-4.5.0 wurlitzer-3.0.3\n"
          ]
        },
        {
          "output_type": "display_data",
          "data": {
            "application/vnd.colab-display-data+json": {
              "pip_warning": {
                "packages": [
                  "packaging"
                ]
              }
            }
          },
          "metadata": {}
        }
      ],
      "source": [
        "!pip install tensorflowjs"
      ]
    },
    {
      "cell_type": "code",
      "execution_count": null,
      "metadata": {
        "id": "NJDCUFXPTHzD",
        "colab": {
          "base_uri": "https://localhost:8080/"
        },
        "outputId": "4bfcec21-bf64-4ead-e170-28eb3fb6d6a9"
      },
      "outputs": [
        {
          "output_type": "stream",
          "name": "stdout",
          "text": [
            "Mounted at /content/drive\n"
          ]
        }
      ],
      "source": [
        "from google.colab import drive\n",
        "drive.mount('/content/drive')"
      ]
    },
    {
      "cell_type": "code",
      "execution_count": null,
      "metadata": {
        "id": "P0L1w3fj2MEf"
      },
      "outputs": [],
      "source": [
        "import tensorflowjs as tfjs"
      ]
    },
    {
      "cell_type": "code",
      "execution_count": 1,
      "metadata": {
        "id": "azTtX3ecNoX8",
        "colab": {
          "base_uri": "https://localhost:8080/",
          "height": 383
        },
        "outputId": "44ac816f-1772-433b-bec3-8edb643016de"
      },
      "outputs": [
        {
          "output_type": "error",
          "ename": "ImportError",
          "evalue": "cannot import name 'interp' from 'scipy' (/usr/local/lib/python3.10/dist-packages/scipy/__init__.py)",
          "traceback": [
            "\u001b[0;31m---------------------------------------------------------------------------\u001b[0m",
            "\u001b[0;31mImportError\u001b[0m                               Traceback (most recent call last)",
            "\u001b[0;32m<ipython-input-1-a61b3381b736>\u001b[0m in \u001b[0;36m<cell line: 11>\u001b[0;34m()\u001b[0m\n\u001b[1;32m      9\u001b[0m \u001b[0;32mfrom\u001b[0m \u001b[0msklearn\u001b[0m\u001b[0;34m.\u001b[0m\u001b[0mmetrics\u001b[0m \u001b[0;32mimport\u001b[0m \u001b[0mroc_curve\u001b[0m\u001b[0;34m,\u001b[0m \u001b[0mauc\u001b[0m\u001b[0;34m\u001b[0m\u001b[0;34m\u001b[0m\u001b[0m\n\u001b[1;32m     10\u001b[0m \u001b[0;32mfrom\u001b[0m \u001b[0msklearn\u001b[0m\u001b[0;34m.\u001b[0m\u001b[0mmetrics\u001b[0m \u001b[0;32mimport\u001b[0m \u001b[0mconfusion_matrix\u001b[0m\u001b[0;34m\u001b[0m\u001b[0;34m\u001b[0m\u001b[0m\n\u001b[0;32m---> 11\u001b[0;31m \u001b[0;32mfrom\u001b[0m \u001b[0mscipy\u001b[0m \u001b[0;32mimport\u001b[0m \u001b[0minterp\u001b[0m\u001b[0;34m\u001b[0m\u001b[0;34m\u001b[0m\u001b[0m\n\u001b[0m\u001b[1;32m     12\u001b[0m \u001b[0;32mfrom\u001b[0m \u001b[0mitertools\u001b[0m \u001b[0;32mimport\u001b[0m \u001b[0mcycle\u001b[0m\u001b[0;34m\u001b[0m\u001b[0;34m\u001b[0m\u001b[0m\n\u001b[1;32m     13\u001b[0m \u001b[0;32mimport\u001b[0m \u001b[0mpandas\u001b[0m \u001b[0;32mas\u001b[0m \u001b[0mpd\u001b[0m\u001b[0;34m\u001b[0m\u001b[0;34m\u001b[0m\u001b[0m\n",
            "\u001b[0;31mImportError\u001b[0m: cannot import name 'interp' from 'scipy' (/usr/local/lib/python3.10/dist-packages/scipy/__init__.py)",
            "",
            "\u001b[0;31m---------------------------------------------------------------------------\u001b[0;32m\nNOTE: If your import is failing due to a missing package, you can\nmanually install dependencies using either !pip or !apt.\n\nTo view examples of installing some common dependencies, click the\n\"Open Examples\" button below.\n\u001b[0;31m---------------------------------------------------------------------------\u001b[0m\n"
          ],
          "errorDetails": {
            "actions": [
              {
                "action": "open_url",
                "actionText": "Open Examples",
                "url": "/notebooks/snippets/importing_libraries.ipynb"
              }
            ]
          }
        }
      ],
      "source": [
        "import numpy as np\n",
        "import pandas as pd\n",
        "import matplotlib.pyplot as plt\n",
        "import cv2\n",
        "import os\n",
        "from os import path\n",
        "from PIL import Image, ImageFilter, ImageDraw\n",
        "from tqdm import tqdm\n",
        "from sklearn.metrics import roc_curve, auc\n",
        "from sklearn.metrics import confusion_matrix\n",
        "from scipy import interp\n",
        "from itertools import cycle\n",
        "import pandas as pd\n",
        "import seaborn as sn\n",
        "import shutil\n",
        "from sklearn.model_selection import train_test_split\n",
        "from google.colab import files"
      ]
    },
    {
      "cell_type": "code",
      "execution_count": null,
      "metadata": {
        "id": "M3wOljxuNqQZ"
      },
      "outputs": [],
      "source": [
        "# importing all tensorflow modules\n",
        "import tensorflow as tf\n",
        "import keras\n",
        "from tensorflow.keras.preprocessing.image import ImageDataGenerator\n",
        "from tensorflow.keras.applications import InceptionResNetV2\n",
        "from tensorflow.keras.applications import InceptionV3\n",
        "from tensorflow.keras.applications import ResNet50\n",
        "from tensorflow.keras.models import Sequential\n",
        "from tensorflow.keras.layers import Conv2D, MaxPooling2D, BatchNormalization, ReLU, Dropout, Dense, Flatten\n",
        "from tensorflow.keras import Model"
      ]
    },
    {
      "cell_type": "code",
      "execution_count": null,
      "metadata": {
        "id": "ge7S6IFzIQk2"
      },
      "outputs": [],
      "source": []
    },
    {
      "cell_type": "code",
      "execution_count": null,
      "metadata": {
        "id": "oU1-JYKBPAER"
      },
      "outputs": [],
      "source": [
        "os.chdir('/content')"
      ]
    },
    {
      "cell_type": "markdown",
      "metadata": {
        "id": "7XEde0Cln5wX"
      },
      "source": [
        "Numpy is used to manipulating and using arrays of data easily.\n",
        "\n",
        "Pandas helps us to play with the data .\n",
        "\n",
        "Matplotlib is used to visulaize the data."
      ]
    },
    {
      "cell_type": "code",
      "execution_count": null,
      "metadata": {
        "id": "lHO7qXc-nVeM",
        "colab": {
          "base_uri": "https://localhost:8080/"
        },
        "outputId": "571aac0e-4e51-4c5e-d084-f7160a887170"
      },
      "outputs": [
        {
          "output_type": "stream",
          "name": "stdout",
          "text": [
            "['Bacterial leaf blight', 'Brown spot', 'Leaf smut']\n"
          ]
        }
      ],
      "source": [
        "os.chdir('paddy_disease_classification/rice_leaf_diseases')\n",
        "path = os.getcwd()\n",
        "training_classes = [f.name for f in os.scandir(path) if f.is_dir()]\n",
        "print(training_classes)"
      ]
    },
    {
      "cell_type": "markdown",
      "metadata": {
        "id": "MKLuxBjaQNPt"
      },
      "source": [
        "Image Pre Processing Steps"
      ]
    },
    {
      "cell_type": "code",
      "execution_count": null,
      "metadata": {
        "id": "XXHis6zDo1EY"
      },
      "outputs": [],
      "source": [
        "def applyMedian(folder):\n",
        "  '''\n",
        "    Applies Meadian Filter to all the images in the given folder.\n",
        "    Args :\n",
        "      Folder : (str). : Image_directory\n",
        "  '''\n",
        "  previous_path = os.getcwd()\n",
        "  os.chdir(folder)\n",
        "  current_path = os.getcwd()\n",
        "\n",
        "  for image in tqdm(list(os.listdir(current_path))):\n",
        "    img = cv2.imread(image)\n",
        "    # applies median filter to the image.\n",
        "    median = cv2.medianBlur(img, 5)\n",
        "    # saving the image by adding the blur feature.\n",
        "    im = Image.fromarray(median)\n",
        "    im.save(image)\n",
        "  os.chdir(previous_path)"
      ]
    },
    {
      "cell_type": "code",
      "execution_count": null,
      "metadata": {
        "id": "AYJQMPRM0hqw",
        "colab": {
          "base_uri": "https://localhost:8080/"
        },
        "outputId": "f9f8cd98-32f6-415b-8f8f-e5ad053dfb7e"
      },
      "outputs": [
        {
          "output_type": "stream",
          "name": "stderr",
          "text": [
            "100%|██████████| 40/40 [00:02<00:00, 14.20it/s]\n",
            "100%|██████████| 40/40 [00:02<00:00, 16.40it/s]\n",
            "100%|██████████| 40/40 [00:03<00:00, 12.37it/s]\n"
          ]
        }
      ],
      "source": [
        "for folder in training_classes:\n",
        "  applyMedian(folder)"
      ]
    },
    {
      "cell_type": "code",
      "execution_count": null,
      "metadata": {
        "id": "ZqoubpPR467k"
      },
      "outputs": [],
      "source": [
        "os.chdir('/content')"
      ]
    },
    {
      "cell_type": "code",
      "execution_count": null,
      "metadata": {
        "id": "sRucI3QqVrVy"
      },
      "outputs": [],
      "source": [
        "base_dir = 'paddy_disease_classification'\n",
        "train_dir = os.path.join(base_dir, 'rice_leaf_diseases')"
      ]
    },
    {
      "cell_type": "code",
      "execution_count": null,
      "metadata": {
        "id": "UkpRx2aY47C2"
      },
      "outputs": [],
      "source": [
        "train_bact_leaf_smut_dir = os.path.join(train_dir, 'Bacterial leaf blight')  # directory with our training cat pictures\n",
        "train_brown_spot_dir = os.path.join(train_dir, 'Brown spot')  # directory with our training dog pictures\n",
        "train_leaf_smut_dir = os.path.join(train_dir, 'Leaf smut')  # directory with our training dog pictures"
      ]
    },
    {
      "cell_type": "code",
      "execution_count": null,
      "metadata": {
        "id": "nBc67CSp5nPg"
      },
      "outputs": [],
      "source": [
        "num_bact_leaf_smut_tr = len(os.listdir(train_bact_leaf_smut_dir))\n",
        "num_brown_spot_tr = len(os.listdir(train_brown_spot_dir))\n",
        "num_leaf_smut_tr = len(os.listdir(train_leaf_smut_dir))\n",
        "\n",
        "total_train = num_bact_leaf_smut_tr + num_brown_spot_tr + num_leaf_smut_tr"
      ]
    },
    {
      "cell_type": "code",
      "execution_count": null,
      "metadata": {
        "id": "-22gZwup6Nt-",
        "colab": {
          "base_uri": "https://localhost:8080/"
        },
        "outputId": "2f856a96-9a8d-4cd2-fb2d-fe74ae1f0f4e"
      },
      "outputs": [
        {
          "output_type": "stream",
          "name": "stdout",
          "text": [
            "Data before Data augumentation\n",
            "--\n",
            "total training Bacterial leaf blight images: 40\n",
            "total training Brown spot images: 40\n",
            "total training Leaf smut images: 40\n",
            "--\n",
            "Total training images: 120\n"
          ]
        }
      ],
      "source": [
        "print('Data before Data augumentation')\n",
        "print(\"--\")\n",
        "print('total training Bacterial leaf blight images:', num_bact_leaf_smut_tr)\n",
        "print('total training Brown spot images:', num_brown_spot_tr)\n",
        "print('total training Leaf smut images:', num_leaf_smut_tr)\n",
        "print(\"--\")\n",
        "print(\"Total training images:\", total_train)"
      ]
    },
    {
      "cell_type": "code",
      "execution_count": null,
      "metadata": {
        "id": "aI3gETR08FP8"
      },
      "outputs": [],
      "source": [
        "BATCH_SIZE = 20\n",
        "IMG_SHAPE  = 299"
      ]
    },
    {
      "cell_type": "code",
      "execution_count": null,
      "metadata": {
        "id": "u_wDGe_TC5Vp"
      },
      "outputs": [],
      "source": []
    },
    {
      "cell_type": "code",
      "execution_count": null,
      "metadata": {
        "id": "9f2dvgsoC5nj"
      },
      "outputs": [],
      "source": [
        "def rotateImages(rotationAmt,folder):\n",
        "  '''\n",
        "    rotateImages is used as one of the image augumentation techniques to\n",
        "    increase the dataset thereby increasing the accuracy.\n",
        "\n",
        "    rotateImages function rotates images in the current directory.\n",
        "\n",
        "   Args:\n",
        "   rotationAmt : int. The value of rotation in the image.\n",
        "\n",
        "  '''\n",
        "  previous_path = os.getcwd()\n",
        "  os.chdir(folder)\n",
        "  current_path = os.getcwd()\n",
        "\n",
        "  total_images = 0\n",
        "\n",
        "  for image in tqdm(list(os.listdir(current_path))):\n",
        "    # check if the image is already rotated.\n",
        "    if (image.find(\"rot\") == -1):\n",
        "      img = Image.open(image)\n",
        "      # get the image name\n",
        "      img_name = list(image.split(\".\"))[0]\n",
        "      rotimg = img.rotate(rotationAmt)\n",
        "      # saving the image with its rotation information as well.\n",
        "      rotimg.save(img_name+\"rot\"+str(rotationAmt)+\".jpg\")\n",
        "      img.close()\n",
        "      total_images+=1\n",
        "  print(total_images)\n",
        "  os.chdir(previous_path)"
      ]
    },
    {
      "cell_type": "code",
      "execution_count": null,
      "metadata": {
        "id": "2ZUcOdUkC5k7"
      },
      "outputs": [],
      "source": [
        "def addBlur(folder):\n",
        "  '''\n",
        "    Adds Blur to the images.\n",
        "    This function will list out all the images in the current directory and\n",
        "    applies blur to the image and saves it in the same folder.\n",
        "  '''\n",
        "  previous_path = os.getcwd()\n",
        "  os.chdir(folder)\n",
        "  current_path = os.getcwd()\n",
        "  # for each image in the current directory\n",
        "  total_images = 0\n",
        "\n",
        "  for image in tqdm(list(os.listdir(current_path))):\n",
        "    if (image.find(\"rot\") == -1):\n",
        "      img = Image.open(image)\n",
        "      # adds blur to the image using ImageFilter.Blur\n",
        "      blured_image = img.filter(ImageFilter.BLUR)\n",
        "      # get the image name\n",
        "      img_name = list(image.split(\".\"))[0]\n",
        "      # saving the image by adding the blur feature.\n",
        "      blured_image.save(img_name+\"blur.jpg\")\n",
        "      total_images+=1\n",
        "  print(total_images)\n",
        "  os.chdir(previous_path)\n"
      ]
    },
    {
      "cell_type": "code",
      "execution_count": null,
      "metadata": {
        "id": "vkNa2uL8C5iO"
      },
      "outputs": [],
      "source": [
        "def addUniformNoise(folder):\n",
        "  '''\n",
        "    Adds Uniform Noise to the images.\n",
        "    This function will list out all the images in the current directory and\n",
        "    applies Uniform Noise to the image and saves it in the same folder.\n",
        "    Args :\n",
        "    img_loc: list. list containing image locations\n",
        "  '''\n",
        "  previous_path = os.getcwd()\n",
        "  os.chdir(folder)\n",
        "  current_path = os.getcwd()\n",
        "  total_images = 0\n",
        "\n",
        "  # for each image in the current directory\n",
        "  for image in tqdm(list(os.listdir(current_path))):\n",
        "    if (image.find(\"rot\") == -1 and image.find(\"blur\") == -1 and image.find(\"uniform_noise\") == -1):\n",
        "      img_name = list(image.split(\".\"))[0]\n",
        "      image = cv2.imread(img_name)\n",
        "      gray = cv2.cvtColor(image, cv2.COLOR_BGR2GRAY)\n",
        "      # creating random noise\n",
        "      uniform_noise = np.zeros((image.shape[0], image.shape[1]),dtype=np.uint8)\n",
        "      cv2.randu(uniform_noise,0,255)\n",
        "      uniform_noise = (uniform_noise*0.2).astype(np.uint8)\n",
        "      # Adding noise to the image\n",
        "      noisy_image2 = cv2.add(gray,uniform_noise)\n",
        "      noisy_image2 = cv2.cvtColor(noisy_image2,cv2.COLOR_GRAY2RGB)\n",
        "      # get the image name\n",
        "      img_name = list(image_name.split(\".\"))[0]\n",
        "      # saving the image by adding the uniform_noise feature.\n",
        "      cv2.imwrite(img_name+\"uniform_noise.jpg\",noisy_image2)\n",
        "      total_images +=1\n",
        "  print(total_images)\n",
        "  os.chdir(previous_path)"
      ]
    },
    {
      "cell_type": "code",
      "execution_count": null,
      "metadata": {
        "id": "lt58a9g4C5fm"
      },
      "outputs": [],
      "source": [
        "def horizontalFlip(folder):\n",
        "  '''\n",
        "    Adds Blur to the images.\n",
        "    This function will list out all the images in the current directory and\n",
        "    applies blur to the image and saves it in the same folder.\n",
        "  '''\n",
        "  previous_path = os.getcwd()\n",
        "  os.chdir(folder)\n",
        "  current_path = os.getcwd()\n",
        "  # for each image in the current directory\n",
        "  total_images = 0\n",
        "\n",
        "  for image in tqdm(list(os.listdir(current_path))):\n",
        "    if (image.find(\"rot\") == -1 and image.find(\"blur\") == -1):\n",
        "      img = cv2.imread(image)\n",
        "      # Flips the image\n",
        "      flip = cv2.flip(img, 1)\n",
        "      # get the image name\n",
        "      img_name = list(image.split(\".\"))[0]\n",
        "      # saving the image by adding the flip feature.\n",
        "      cv2.imwrite(img_name+\"flip.jpg\",flip)\n",
        "      total_images+=1\n",
        "  print(total_images)\n",
        "  os.chdir(previous_path)\n"
      ]
    },
    {
      "cell_type": "code",
      "execution_count": null,
      "metadata": {
        "id": "PeSOsjGoGCuH",
        "colab": {
          "base_uri": "https://localhost:8080/"
        },
        "outputId": "2dbd7b81-94e7-4490-c85d-30712359eaab"
      },
      "outputs": [
        {
          "output_type": "stream",
          "name": "stderr",
          "text": [
            "100%|██████████| 5/5 [00:00<00:00,  9.15it/s]\n"
          ]
        },
        {
          "output_type": "stream",
          "name": "stdout",
          "text": [
            "5\n"
          ]
        },
        {
          "output_type": "stream",
          "name": "stderr",
          "text": [
            "100%|██████████| 10/10 [00:02<00:00,  4.14it/s]\n"
          ]
        },
        {
          "output_type": "stream",
          "name": "stdout",
          "text": [
            "5\n"
          ]
        },
        {
          "output_type": "stream",
          "name": "stderr",
          "text": [
            "100%|██████████| 15/15 [00:00<00:00, 16.45it/s]\n"
          ]
        },
        {
          "output_type": "stream",
          "name": "stdout",
          "text": [
            "5\n",
            "\n"
          ]
        },
        {
          "output_type": "stream",
          "name": "stderr",
          "text": [
            "100%|██████████| 5/5 [00:00<00:00, 147.24it/s]\n"
          ]
        },
        {
          "output_type": "stream",
          "name": "stdout",
          "text": [
            "5\n"
          ]
        },
        {
          "output_type": "stream",
          "name": "stderr",
          "text": [
            "100%|██████████| 10/10 [00:00<00:00, 42.01it/s]\n"
          ]
        },
        {
          "output_type": "stream",
          "name": "stdout",
          "text": [
            "5\n"
          ]
        },
        {
          "output_type": "stream",
          "name": "stderr",
          "text": [
            "100%|██████████| 15/15 [00:00<00:00, 195.97it/s]\n"
          ]
        },
        {
          "output_type": "stream",
          "name": "stdout",
          "text": [
            "5\n",
            "\n"
          ]
        },
        {
          "output_type": "stream",
          "name": "stderr",
          "text": [
            "100%|██████████| 5/5 [00:00<00:00, 12.87it/s]\n"
          ]
        },
        {
          "output_type": "stream",
          "name": "stdout",
          "text": [
            "5\n"
          ]
        },
        {
          "output_type": "stream",
          "name": "stderr",
          "text": [
            "100%|██████████| 10/10 [00:01<00:00,  5.33it/s]\n"
          ]
        },
        {
          "output_type": "stream",
          "name": "stdout",
          "text": [
            "5\n"
          ]
        },
        {
          "output_type": "stream",
          "name": "stderr",
          "text": [
            "100%|██████████| 15/15 [00:00<00:00, 19.89it/s]"
          ]
        },
        {
          "output_type": "stream",
          "name": "stdout",
          "text": [
            "5\n",
            "\n"
          ]
        },
        {
          "output_type": "stream",
          "name": "stderr",
          "text": [
            "\n"
          ]
        }
      ],
      "source": [
        "os.chdir('paddy_disease_classification/testing')\n",
        "for folder in training_classes:\n",
        "  # Rotating images of train_label_img_locations with an angle of 90 deg.\n",
        "  rotateImages(90,folder)\n",
        "\n",
        "  # Blur images in train_label_img_locations\n",
        "  addBlur(folder)\n",
        "\n",
        "  # # Adds Uniform Noise to images in train_label_img_locations\n",
        "  # addUniformNoise(folder)\n",
        "\n",
        "  # horizontally flips the images\n",
        "  horizontalFlip(folder)\n",
        "\n",
        "  print()\n",
        "os.chdir('/content')"
      ]
    },
    {
      "cell_type": "code",
      "execution_count": null,
      "metadata": {
        "id": "v2A1lUpv2fwY",
        "colab": {
          "base_uri": "https://localhost:8080/"
        },
        "outputId": "505dd4d9-b87f-4240-e58a-3cf7a5fc50c1"
      },
      "outputs": [
        {
          "output_type": "stream",
          "name": "stderr",
          "text": [
            "100%|██████████| 40/40 [00:02<00:00, 16.83it/s]\n"
          ]
        },
        {
          "output_type": "stream",
          "name": "stdout",
          "text": [
            "40\n"
          ]
        },
        {
          "output_type": "stream",
          "name": "stderr",
          "text": [
            "100%|██████████| 80/80 [00:20<00:00,  3.95it/s]\n"
          ]
        },
        {
          "output_type": "stream",
          "name": "stdout",
          "text": [
            "40\n"
          ]
        },
        {
          "output_type": "stream",
          "name": "stderr",
          "text": [
            "100%|██████████| 120/120 [00:06<00:00, 18.94it/s]\n"
          ]
        },
        {
          "output_type": "stream",
          "name": "stdout",
          "text": [
            "40\n",
            "\n"
          ]
        },
        {
          "output_type": "stream",
          "name": "stderr",
          "text": [
            "100%|██████████| 40/40 [00:00<00:00, 67.19it/s]\n"
          ]
        },
        {
          "output_type": "stream",
          "name": "stdout",
          "text": [
            "40\n"
          ]
        },
        {
          "output_type": "stream",
          "name": "stderr",
          "text": [
            "100%|██████████| 80/80 [00:03<00:00, 22.26it/s]\n"
          ]
        },
        {
          "output_type": "stream",
          "name": "stdout",
          "text": [
            "40\n"
          ]
        },
        {
          "output_type": "stream",
          "name": "stderr",
          "text": [
            "100%|██████████| 120/120 [00:01<00:00, 76.25it/s]\n"
          ]
        },
        {
          "output_type": "stream",
          "name": "stdout",
          "text": [
            "40\n",
            "\n"
          ]
        },
        {
          "output_type": "stream",
          "name": "stderr",
          "text": [
            "100%|██████████| 40/40 [00:00<00:00, 49.71it/s]\n"
          ]
        },
        {
          "output_type": "stream",
          "name": "stdout",
          "text": [
            "40\n"
          ]
        },
        {
          "output_type": "stream",
          "name": "stderr",
          "text": [
            "100%|██████████| 80/80 [00:06<00:00, 13.25it/s]\n"
          ]
        },
        {
          "output_type": "stream",
          "name": "stdout",
          "text": [
            "40\n"
          ]
        },
        {
          "output_type": "stream",
          "name": "stderr",
          "text": [
            "100%|██████████| 120/120 [00:03<00:00, 38.09it/s]"
          ]
        },
        {
          "output_type": "stream",
          "name": "stdout",
          "text": [
            "40\n",
            "\n"
          ]
        },
        {
          "output_type": "stream",
          "name": "stderr",
          "text": [
            "\n"
          ]
        }
      ],
      "source": [
        "os.chdir('paddy_disease_classification/rice_leaf_diseases')\n",
        "for folder in training_classes:\n",
        "  # Rotating images of train_label_img_locations with an angle of 90 deg.\n",
        "  rotateImages(90,folder)\n",
        "\n",
        "  # Blur images in train_label_img_locations\n",
        "  addBlur(folder)\n",
        "\n",
        "  # # Adds Uniform Noise to images in train_label_img_locations\n",
        "  # addUniformNoise(folder)\n",
        "\n",
        "  # horizontally flips the images\n",
        "  horizontalFlip(folder)\n",
        "\n",
        "  print()\n",
        "os.chdir('/content')"
      ]
    },
    {
      "cell_type": "code",
      "execution_count": null,
      "metadata": {
        "id": "I6wx_kdyLsv_"
      },
      "outputs": [],
      "source": [
        "base_dir = 'paddy_disease_classification'\n",
        "train_dir = os.path.join(base_dir, 'rice_leaf_diseases')"
      ]
    },
    {
      "cell_type": "code",
      "execution_count": null,
      "metadata": {
        "id": "xpiY2M5qLswD"
      },
      "outputs": [],
      "source": [
        "train_bact_leaf_smut_dir = os.path.join(train_dir, 'Bacterial leaf blight')  # directory with our training cat pictures\n",
        "train_brown_spot_dir = os.path.join(train_dir, 'Brown spot')  # directory with our training dog pictures\n",
        "train_leaf_smut_dir = os.path.join(train_dir, 'Leaf smut')  # directory with our training dog pictures"
      ]
    },
    {
      "cell_type": "code",
      "execution_count": null,
      "metadata": {
        "id": "6ifsw_YPLswG"
      },
      "outputs": [],
      "source": [
        "num_bact_leaf_smut_tr = len(os.listdir(train_bact_leaf_smut_dir))\n",
        "num_brown_spot_tr = len(os.listdir(train_brown_spot_dir))\n",
        "num_leaf_smut_tr = len(os.listdir(train_leaf_smut_dir))\n",
        "\n",
        "total_train = num_bact_leaf_smut_tr + num_brown_spot_tr + num_leaf_smut_tr"
      ]
    },
    {
      "cell_type": "code",
      "execution_count": null,
      "metadata": {
        "id": "XlhcO3HwLswJ",
        "colab": {
          "base_uri": "https://localhost:8080/"
        },
        "outputId": "73083546-5e30-4803-b4be-35f2d51b645a"
      },
      "outputs": [
        {
          "output_type": "stream",
          "name": "stdout",
          "text": [
            "Data after Data augumentation\n",
            "--\n",
            "total training Bacterial leaf blight images: 160\n",
            "total training Brown spot images: 160\n",
            "total training Leaf smut images: 160\n",
            "--\n",
            "Total training images: 480\n"
          ]
        }
      ],
      "source": [
        "print('Data after Data augumentation')\n",
        "print(\"--\")\n",
        "print('total training Bacterial leaf blight images:', num_bact_leaf_smut_tr)\n",
        "print('total training Brown spot images:', num_brown_spot_tr)\n",
        "print('total training Leaf smut images:', num_leaf_smut_tr)\n",
        "print(\"--\")\n",
        "print(\"Total training images:\", total_train)"
      ]
    },
    {
      "cell_type": "code",
      "execution_count": null,
      "metadata": {
        "id": "c561uDwyMRBz",
        "colab": {
          "base_uri": "https://localhost:8080/",
          "height": 813
        },
        "outputId": "b5c5cdff-629e-4fc6-a439-b86619528877"
      },
      "outputs": [
        {
          "output_type": "stream",
          "name": "stdout",
          "text": [
            "\n",
            "  Dataset After Data Augumentation\n",
            "\n",
            "number of images in training dataset is 480\n",
            "\n"
          ]
        },
        {
          "output_type": "display_data",
          "data": {
            "text/plain": [
              "<Figure size 1000x800 with 1 Axes>"
            ],
            "image/png": "[encoded data removed]"
          },
          "metadata": {}
        }
      ],
      "source": [
        "num_imgs_train = total_train\n",
        "\n",
        "print('''\n",
        "  Dataset After Data Augumentation\n",
        "''')\n",
        "print(\"number of images in training dataset is {}\".format(num_imgs_train))\n",
        "print()\n",
        "x = np.arange(4)\n",
        "y = [40, 80, 120, 160]\n",
        "\n",
        "plt.figure(figsize=[10,8])\n",
        "\n",
        "plt.bar(x,y, width = 0.5, color='#00904C',alpha=0.7)\n",
        "plt.grid(axis='y', alpha=0.75)\n",
        "plt.xlabel('Images',fontsize=15, color=\"#000\")\n",
        "plt.xticks(x,('Without Data Augumentation',\"90 deg rotation\",\"Blur\",\"flip\"), color=\"#000\")\n",
        "plt.yticks(fontsize=15, color=\"#000\")\n",
        "plt.ylabel('Number Of Images',fontsize=15, color=\"#000\")\n",
        "plt.title('Data Distribution after Data Augumentation',fontsize=15, color=\"#000\")\n",
        "plt.show()"
      ]
    },
    {
      "cell_type": "code",
      "execution_count": null,
      "metadata": {
        "id": "LjUZoNNi6Nwz"
      },
      "outputs": [],
      "source": [
        "# # This function will plot images in the form of a grid with 1 row and 5 columns where images are placed in each column.\n",
        "# def plotImages(images_arr):\n",
        "#     fig, axes = plt.subplots(1, 5, figsize=(20,20))\n",
        "#     axes = axes.flatten()\n",
        "#     for img, ax in zip(images_arr, axes):\n",
        "#         ax.imshow(img)\n",
        "#     plt.tight_layout()\n",
        "#     plt.show()"
      ]
    },
    {
      "cell_type": "code",
      "execution_count": null,
      "metadata": {
        "id": "5v01EZfX7e0F"
      },
      "outputs": [],
      "source": [
        "# # Putting All Together\n",
        "\n",
        "# image_gen_train = ImageDataGenerator(\n",
        "#       rescale=1./255,\n",
        "#       rotation_range=90,\n",
        "#       width_shift_range=0.2,\n",
        "#       height_shift_range=0.2,\n",
        "#       shear_range=0.2,\n",
        "#       zoom_range=0.2,\n",
        "#       horizontal_flip=True,\n",
        "#       fill_mode='nearest')\n",
        "\n",
        "# train_data_gen = image_gen_train.flow_from_directory(batch_size=BATCH_SIZE,\n",
        "#                                                      directory=train_dir,\n",
        "#                                                      shuffle=True,\n",
        "#                                                      target_size=(IMG_SHAPE,IMG_SHAPE),\n",
        "#                                                      class_mode='categorical')"
      ]
    },
    {
      "cell_type": "code",
      "execution_count": null,
      "metadata": {
        "id": "8fElrdr47W9U"
      },
      "outputs": [],
      "source": [
        "# augmented_images = [train_data_gen[0][0][0] for i in range(5)]\n",
        "# plotImages(augmented_images)"
      ]
    },
    {
      "cell_type": "code",
      "execution_count": null,
      "metadata": {
        "id": "vg9d_GSOsQH0"
      },
      "outputs": [],
      "source": []
    },
    {
      "cell_type": "code",
      "execution_count": null,
      "metadata": {
        "id": "UJUjnd9EsQMs"
      },
      "outputs": [],
      "source": []
    },
    {
      "cell_type": "code",
      "execution_count": null,
      "metadata": {
        "id": "qxgQlFqusQKy"
      },
      "outputs": [],
      "source": []
    },
    {
      "cell_type": "code",
      "execution_count": null,
      "metadata": {
        "id": "KeJs8Eu1sQFx"
      },
      "outputs": [],
      "source": []
    },
    {
      "cell_type": "code",
      "execution_count": null,
      "metadata": {
        "id": "3CQnE-gP46-B"
      },
      "outputs": [],
      "source": [
        "# rotate = plt.imread('Rotation.png')\n",
        "# zoom = plt.imread('Zoom.png')\n",
        "# flipping = plt.imread('flipping.png')\n",
        "\n",
        "# plt.figure(num=None, figsize=(20,20), dpi=40, facecolor='w', edgecolor='k')\n",
        "\n",
        "# plt.subplot(3,1,1)\n",
        "# plt.imshow(rotate,aspect='auto')\n",
        "# plt.title('Rotation',fontsize=40)\n",
        "# plt.xticks([])\n",
        "# plt.yticks([])\n",
        "# plt.subplot(3,1,2)\n",
        "# plt.imshow(zoom,aspect='auto')\n",
        "# plt.title('Zoom',fontsize=40)\n",
        "# plt.xticks([])\n",
        "# plt.yticks([])\n",
        "# plt.subplot(3,1,3)\n",
        "# plt.imshow(flipping,aspect='auto')\n",
        "# plt.title('Flipping',fontsize=40)\n",
        "# plt.xticks([])\n",
        "# plt.yticks([])"
      ]
    },
    {
      "cell_type": "code",
      "execution_count": null,
      "metadata": {
        "id": "wilCGtictatn"
      },
      "outputs": [],
      "source": [
        "# initial1 = plt.imread('1.JPG')\n",
        "# initial2 = plt.imread('2.JPG')\n",
        "# # middle = plt.imread('3.png')\n",
        "# # final = plt.imread('4.png')\n",
        "\n",
        "\n",
        "# plt.figure(num=None, figsize=(20,20), dpi=40, facecolor='w', edgecolor='k')\n",
        "\n",
        "# plt.subplot(2,2,1)\n",
        "# plt.imshow(initial1,aspect='auto')\n",
        "# # plt.title(\"Initial Layer ( 'conv2d_14' )\",fontsize=40)\n",
        "# plt.xticks([])\n",
        "# plt.yticks([])\n",
        "# plt.subplot(2,2,2)\n",
        "# plt.imshow(initial2,aspect='auto')\n",
        "# # plt.title(\"Initial Layer ( 'conv2d_16' )\",fontsize=40)\n",
        "# plt.xticks([])\n",
        "# plt.yticks([])\n",
        "# # plt.subplot(2,2,3)\n",
        "# # plt.imshow(middle,aspect='auto')\n",
        "# # plt.title(\"Middle Layer ( 'conv2d_114' )\",fontsize=40)\n",
        "# # plt.xticks([])\n",
        "# # plt.yticks([])\n",
        "# # plt.subplot(2,2,4)\n",
        "# # plt.imshow(final,aspect='auto')\n",
        "# # plt.title(\"Last Layer ( 'block8_1_conv' )\",fontsize=40)\n",
        "# # plt.xticks([])\n",
        "# # plt.yticks([])"
      ]
    },
    {
      "cell_type": "code",
      "execution_count": null,
      "metadata": {
        "id": "X7TxrE_PHtRF"
      },
      "outputs": [],
      "source": [
        "# Deenin in reference ga ikkade unchu. Dont change the code\n",
        "# img = cv2.imread('leaf.JPG')\n",
        "# leaf_img = plt.imread('leaf.JPG')\n",
        "# median = cv2.medianBlur(img, 5)\n",
        "# compare = np.concatenate((img, median), axis=1) #side by side comparison\n",
        "# plt.subplot(1,2,1)\n",
        "# plt.imshow(leaf_img,aspect='auto')\n",
        "# plt.subplot(1,2,2)\n",
        "# plt.imshow(median,aspect='auto')"
      ]
    },
    {
      "cell_type": "code",
      "execution_count": null,
      "metadata": {
        "id": "4HzxZiSMPA8l"
      },
      "outputs": [],
      "source": [
        "os.chdir('paddy_disease_classification')\n",
        "!mkdir train\n",
        "os.chdir('/content')"
      ]
    },
    {
      "cell_type": "code",
      "execution_count": null,
      "metadata": {
        "id": "3Lclwc3hNPVL"
      },
      "outputs": [],
      "source": [
        "def create_dataset(folder):\n",
        "  previous_path = os.getcwd()\n",
        "  os.chdir(folder)\n",
        "  current_path = os.getcwd()\n",
        "  # for each image in the current directory\n",
        "  total_images = 0\n",
        "\n",
        "  for image in tqdm(list(os.listdir(current_path))):\n",
        "\n",
        "    shutil.move(image, \"/content/paddy_disease_classification/train\")\n",
        "\n",
        "    if (folder=='Bacterial leaf blight'):\n",
        "      img_label[image] = np.asarray([1,0,0], dtype=np.float32)\n",
        "    elif (folder=='Brown spot'):\n",
        "      img_label[image] = np.asarray([0,0,1], dtype=np.float32)\n",
        "    else:\n",
        "      img_label[image] = np.asarray([0,1,0], dtype=np.float32)\n",
        "\n",
        "  os.chdir(previous_path)"
      ]
    },
    {
      "cell_type": "code",
      "execution_count": null,
      "metadata": {
        "id": "4U54lUP6NPZ9",
        "colab": {
          "base_uri": "https://localhost:8080/"
        },
        "outputId": "a481f9c0-4470-4dbe-ee01-5b46ef4759ea"
      },
      "outputs": [
        {
          "output_type": "stream",
          "name": "stderr",
          "text": [
            "100%|██████████| 160/160 [00:00<00:00, 12806.79it/s]\n",
            "100%|██████████| 160/160 [00:00<00:00, 11453.98it/s]\n",
            "100%|██████████| 160/160 [00:00<00:00, 14155.30it/s]\n"
          ]
        }
      ],
      "source": [
        "os.chdir('paddy_disease_classification/rice_leaf_diseases')\n",
        "\n",
        "img_label = {}\n",
        "\n",
        "for folder in training_classes:\n",
        "  create_dataset(folder)\n",
        "\n",
        "os.chdir('/content')"
      ]
    },
    {
      "cell_type": "code",
      "execution_count": null,
      "metadata": {
        "id": "VbnU2Z91k34w",
        "colab": {
          "base_uri": "https://localhost:8080/"
        },
        "outputId": "de98e744-1d93-4f93-b8b2-cccbddcf8963"
      },
      "outputs": [
        {
          "output_type": "stream",
          "name": "stdout",
          "text": [
            "{'DSC_0379.JPG': array([1., 0., 0.], dtype=float32), 'DSC_0388flip.jpg': array([1., 0., 0.], dtype=float32), 'DSC_0379blur.jpg': array([1., 0., 0.], dtype=float32), 'DSC_0385blur.jpg': array([1., 0., 0.], dtype=float32), 'DSC_0395.JPG': array([1., 0., 0.], dtype=float32), 'DSC_0375flip.jpg': array([1., 0., 0.], dtype=float32), 'DSC_0398flip.jpg': array([1., 0., 0.], dtype=float32), 'DSC_0392blur.jpg': array([1., 0., 0.], dtype=float32), 'DSC_0392rot90.jpg': array([1., 0., 0.], dtype=float32), 'DSC_0703.JPG': array([1., 0., 0.], dtype=float32), 'DSC_0388blur.jpg': array([1., 0., 0.], dtype=float32), 'DSC_0386rot90.jpg': array([1., 0., 0.], dtype=float32), 'DSC_0382rot90.jpg': array([1., 0., 0.], dtype=float32), 'DSC_0703blur.jpg': array([1., 0., 0.], dtype=float32), 'DSC_0402blur.jpg': array([1., 0., 0.], dtype=float32), 'DSC_0398rot90.jpg': array([1., 0., 0.], dtype=float32), 'DSC_0398blur.jpg': array([1., 0., 0.], dtype=float32), 'DSC_0403flip.jpg': array([1., 0., 0.], dtype=float32), 'DSC_0376blur.jpg': array([1., 0., 0.], dtype=float32), 'DSC_0366blur.jpg': array([1., 0., 0.], dtype=float32), 'DSC_0389.JPG': array([1., 0., 0.], dtype=float32), 'DSC_0389flip.jpg': array([1., 0., 0.], dtype=float32), 'DSC_0385.jpg': array([1., 0., 0.], dtype=float32), 'DSC_0401rot90.jpg': array([1., 0., 0.], dtype=float32), 'DSC_0379flip.jpg': array([1., 0., 0.], dtype=float32), 'DSC_0380flip.jpg': array([1., 0., 0.], dtype=float32), 'DSC_0405blur.jpg': array([1., 0., 0.], dtype=float32), 'DSC_0370blur.jpg': array([1., 0., 0.], dtype=float32), 'DSC_0404blur.jpg': array([1., 0., 0.], dtype=float32), 'DSC_0395rot90.jpg': array([1., 0., 0.], dtype=float32), 'DSC_0400flip.jpg': array([1., 0., 0.], dtype=float32), 'DSC_0701.jpg': array([1., 0., 0.], dtype=float32), 'DSC_0383blur.jpg': array([1., 0., 0.], dtype=float32), 'DSC_0398.JPG': array([1., 0., 0.], dtype=float32), 'DSC_0399flip.jpg': array([1., 0., 0.], dtype=float32), 'DSC_0703flip.jpg': array([1., 0., 0.], dtype=float32), 'DSC_0702rot90.jpg': array([1., 0., 0.], dtype=float32), 'DSC_0396rot90.jpg': array([1., 0., 0.], dtype=float32), 'DSC_0384flip.jpg': array([1., 0., 0.], dtype=float32), 'DSC_0381.JPG': array([1., 0., 0.], dtype=float32), 'DSC_0399blur.jpg': array([1., 0., 0.], dtype=float32), 'DSC_0372blur.jpg': array([1., 0., 0.], dtype=float32), 'DSC_0402.JPG': array([1., 0., 0.], dtype=float32), 'DSC_0389rot90.jpg': array([1., 0., 0.], dtype=float32), 'DSC_0382blur.jpg': array([1., 0., 0.], dtype=float32), 'DSC_0386flip.jpg': array([1., 0., 0.], dtype=float32), 'DSC_0397blur.jpg': array([1., 0., 0.], dtype=float32), 'DSC_0377flip.jpg': array([1., 0., 0.], dtype=float32), 'DSC_0401.JPG': array([1., 0., 0.], dtype=float32), 'DSC_0405flip.jpg': array([1., 0., 0.], dtype=float32), 'DSC_0377blur.jpg': array([1., 0., 0.], dtype=float32), 'DSC_0380blur.jpg': array([1., 0., 0.], dtype=float32), 'DSC_0374flip.jpg': array([1., 0., 0.], dtype=float32), 'DSC_0370.jpg': array([1., 0., 0.], dtype=float32), 'DSC_0386.JPG': array([1., 0., 0.], dtype=float32), 'DSC_0367flip.jpg': array([1., 0., 0.], dtype=float32), 'DSC_0392.JPG': array([1., 0., 0.], dtype=float32), 'DSC_0382flip.jpg': array([1., 0., 0.], dtype=float32), 'DSC_0701blur.jpg': array([1., 0., 0.], dtype=float32), 'DSC_0372flip.jpg': array([1., 0., 0.], dtype=float32), 'DSC_0384rot90.jpg': array([1., 0., 0.], dtype=float32), 'DSC_0365rot90.jpg': array([1., 0., 0.], dtype=float32), 'DSC_0370flip.jpg': array([1., 0., 0.], dtype=float32), 'DSC_0406rot90.jpg': array([1., 0., 0.], dtype=float32), 'DSC_0392flip.jpg': array([1., 0., 0.], dtype=float32), 'DSC_0377rot90.jpg': array([1., 0., 0.], dtype=float32), 'DSC_0404flip.jpg': array([1., 0., 0.], dtype=float32), 'DSC_0401blur.jpg': array([1., 0., 0.], dtype=float32), 'DSC_0376.JPG': array([1., 0., 0.], dtype=float32), 'DSC_0379rot90.jpg': array([1., 0., 0.], dtype=float32), 'DSC_0375blur.jpg': array([1., 0., 0.], dtype=float32), 'DSC_0373.JPG': array([1., 0., 0.], dtype=float32), 'DSC_0404rot90.jpg': array([1., 0., 0.], dtype=float32), 'DSC_0375.JPG': array([1., 0., 0.], dtype=float32), 'DSC_0390blur.jpg': array([1., 0., 0.], dtype=float32), 'DSC_0700flip.jpg': array([1., 0., 0.], dtype=float32), 'DSC_0380rot90.jpg': array([1., 0., 0.], dtype=float32), 'DSC_0406blur.jpg': array([1., 0., 0.], dtype=float32), 'DSC_0390.JPG': array([1., 0., 0.], dtype=float32), 'DSC_0378blur.jpg': array([1., 0., 0.], dtype=float32), 'DSC_0395flip.jpg': array([1., 0., 0.], dtype=float32), 'DSC_0380.JPG': array([1., 0., 0.], dtype=float32), 'DSC_0367blur.jpg': array([1., 0., 0.], dtype=float32), 'DSC_0385rot90.jpg': array([1., 0., 0.], dtype=float32), 'DSC_0383rot90.jpg': array([1., 0., 0.], dtype=float32), 'DSC_0378.JPG': array([1., 0., 0.], dtype=float32), 'DSC_0366rot90.jpg': array([1., 0., 0.], dtype=float32), 'DSC_0396blur.jpg': array([1., 0., 0.], dtype=float32), 'DSC_0383.JPG': array([1., 0., 0.], dtype=float32), 'DSC_0374rot90.jpg': array([1., 0., 0.], dtype=float32), 'DSC_0402rot90.jpg': array([1., 0., 0.], dtype=float32), 'DSC_0381blur.jpg': array([1., 0., 0.], dtype=float32), 'DSC_0396flip.jpg': array([1., 0., 0.], dtype=float32), 'DSC_0406flip.jpg': array([1., 0., 0.], dtype=float32), 'DSC_0702.jpg': array([1., 0., 0.], dtype=float32), 'DSC_0400.JPG': array([1., 0., 0.], dtype=float32), 'DSC_0378rot90.jpg': array([1., 0., 0.], dtype=float32), 'DSC_0397.JPG': array([1., 0., 0.], dtype=float32), 'DSC_0395blur.jpg': array([1., 0., 0.], dtype=float32), 'DSC_0402flip.jpg': array([1., 0., 0.], dtype=float32), 'DSC_0700rot90.jpg': array([1., 0., 0.], dtype=float32), 'DSC_0397flip.jpg': array([1., 0., 0.], dtype=float32), 'DSC_0377.JPG': array([1., 0., 0.], dtype=float32), 'DSC_0385flip.jpg': array([1., 0., 0.], dtype=float32), 'DSC_0367.JPG': array([1., 0., 0.], dtype=float32), 'DSC_0399rot90.jpg': array([1., 0., 0.], dtype=float32), 'DSC_0393blur.jpg': array([1., 0., 0.], dtype=float32), 'DSC_0403blur.jpg': array([1., 0., 0.], dtype=float32), 'DSC_0376rot90.jpg': array([1., 0., 0.], dtype=float32), 'DSC_0382.JPG': array([1., 0., 0.], dtype=float32), 'DSC_0701flip.jpg': array([1., 0., 0.], dtype=float32), 'DSC_0404.JPG': array([1., 0., 0.], dtype=float32), 'DSC_0393flip.jpg': array([1., 0., 0.], dtype=float32), 'DSC_0373blur.jpg': array([1., 0., 0.], dtype=float32), 'DSC_0374blur.jpg': array([1., 0., 0.], dtype=float32), 'DSC_0376flip.jpg': array([1., 0., 0.], dtype=float32), 'DSC_0388rot90.jpg': array([1., 0., 0.], dtype=float32), 'DSC_0373rot90.jpg': array([1., 0., 0.], dtype=float32), 'DSC_0401flip.jpg': array([1., 0., 0.], dtype=float32), 'DSC_0390rot90.jpg': array([1., 0., 0.], dtype=float32), 'DSC_0372.JPG': array([1., 0., 0.], dtype=float32), 'DSC_0397rot90.jpg': array([1., 0., 0.], dtype=float32), 'DSC_0393rot90.jpg': array([1., 0., 0.], dtype=float32), 'DSC_0366flip.jpg': array([1., 0., 0.], dtype=float32), 'DSC_0378flip.jpg': array([1., 0., 0.], dtype=float32), 'DSC_0700.jpg': array([1., 0., 0.], dtype=float32), 'DSC_0396.JPG': array([1., 0., 0.], dtype=float32), 'DSC_0393.JPG': array([1., 0., 0.], dtype=float32), 'DSC_0384blur.jpg': array([1., 0., 0.], dtype=float32), 'DSC_0700blur.jpg': array([1., 0., 0.], dtype=float32), 'DSC_0375rot90.jpg': array([1., 0., 0.], dtype=float32), 'DSC_0702flip.jpg': array([1., 0., 0.], dtype=float32), 'DSC_0381rot90.jpg': array([1., 0., 0.], dtype=float32), 'DSC_0381flip.jpg': array([1., 0., 0.], dtype=float32), 'DSC_0373flip.jpg': array([1., 0., 0.], dtype=float32), 'DSC_0400blur.jpg': array([1., 0., 0.], dtype=float32), 'DSC_0383flip.jpg': array([1., 0., 0.], dtype=float32), 'DSC_0367rot90.jpg': array([1., 0., 0.], dtype=float32), 'DSC_0386blur.jpg': array([1., 0., 0.], dtype=float32), 'DSC_0365flip.jpg': array([1., 0., 0.], dtype=float32), 'DSC_0389blur.jpg': array([1., 0., 0.], dtype=float32), 'DSC_0702blur.jpg': array([1., 0., 0.], dtype=float32), 'DSC_0400rot90.jpg': array([1., 0., 0.], dtype=float32), 'DSC_0403rot90.jpg': array([1., 0., 0.], dtype=float32), 'DSC_0403.JPG': array([1., 0., 0.], dtype=float32), 'DSC_0390flip.jpg': array([1., 0., 0.], dtype=float32), 'DSC_0405rot90.jpg': array([1., 0., 0.], dtype=float32), 'DSC_0366.jpg': array([1., 0., 0.], dtype=float32), 'DSC_0365.JPG': array([1., 0., 0.], dtype=float32), 'DSC_0365blur.jpg': array([1., 0., 0.], dtype=float32), 'DSC_0372rot90.jpg': array([1., 0., 0.], dtype=float32), 'DSC_0374.JPG': array([1., 0., 0.], dtype=float32), 'DSC_0384.JPG': array([1., 0., 0.], dtype=float32), 'DSC_0399.JPG': array([1., 0., 0.], dtype=float32), 'DSC_0370rot90.jpg': array([1., 0., 0.], dtype=float32), 'DSC_0406.JPG': array([1., 0., 0.], dtype=float32), 'DSC_0405.JPG': array([1., 0., 0.], dtype=float32), 'DSC_0703rot90.jpg': array([1., 0., 0.], dtype=float32), 'DSC_0388.JPG': array([1., 0., 0.], dtype=float32), 'DSC_0701rot90.jpg': array([1., 0., 0.], dtype=float32), 'DSC_0292.JPG': array([0., 0., 1.], dtype=float32), 'DSC_0299.JPG': array([0., 0., 1.], dtype=float32), 'DSC_0292blur.jpg': array([0., 0., 1.], dtype=float32), 'DSC_0300flip.jpg': array([0., 0., 1.], dtype=float32), 'DSC_0106blur.jpg': array([0., 0., 1.], dtype=float32), 'DSC_0329blur.jpg': array([0., 0., 1.], dtype=float32), 'DSC_0305blur.jpg': array([0., 0., 1.], dtype=float32), 'DSC_0391blur.jpg': array([0., 0., 1.], dtype=float32), 'DSC_0113.jpg': array([0., 0., 1.], dtype=float32), 'DSC_0111flip.jpg': array([0., 0., 1.], dtype=float32), 'DSC_0116blur.jpg': array([0., 0., 1.], dtype=float32), 'DSC_0325.JPG': array([0., 0., 1.], dtype=float32), 'DSC_0116rot90.jpg': array([0., 0., 1.], dtype=float32), 'DSC_0104rot90.jpg': array([0., 0., 1.], dtype=float32), 'DSC_0109.jpg': array([0., 0., 1.], dtype=float32), 'DSC_0306rot90.jpg': array([0., 0., 1.], dtype=float32), 'DSC_0107flip.jpg': array([0., 0., 1.], dtype=float32), 'DSC_0303rot90.jpg': array([0., 0., 1.], dtype=float32), 'DSC_0100rot90.jpg': array([0., 0., 1.], dtype=float32), 'DSC_0118rot90.jpg': array([0., 0., 1.], dtype=float32), 'DSC_0323flip.jpg': array([0., 0., 1.], dtype=float32), 'DSC_0106.jpg': array([0., 0., 1.], dtype=float32), 'DSC_0329flip.jpg': array([0., 0., 1.], dtype=float32), 'DSC_0108blur.jpg': array([0., 0., 1.], dtype=float32), 'DSC_0112rot90.jpg': array([0., 0., 1.], dtype=float32), 'DSC_0307flip.jpg': array([0., 0., 1.], dtype=float32), 'DSC_0108flip.jpg': array([0., 0., 1.], dtype=float32), 'DSC_0105flip.jpg': array([0., 0., 1.], dtype=float32), 'DSC_0299blur.jpg': array([0., 0., 1.], dtype=float32), 'DSC_0109rot90.jpg': array([0., 0., 1.], dtype=float32), 'DSC_0113flip.jpg': array([0., 0., 1.], dtype=float32), 'DSC_0117blur.jpg': array([0., 0., 1.], dtype=float32), 'DSC_0296blur.jpg': array([0., 0., 1.], dtype=float32), 'DSC_0333.JPG': array([0., 0., 1.], dtype=float32), 'DSC_0104flip.jpg': array([0., 0., 1.], dtype=float32), 'DSC_0323blur.jpg': array([0., 0., 1.], dtype=float32), 'DSC_0306.JPG': array([0., 0., 1.], dtype=float32), 'DSC_0100.jpg': array([0., 0., 1.], dtype=float32), 'DSC_0332blur.jpg': array([0., 0., 1.], dtype=float32), 'DSC_0109flip.jpg': array([0., 0., 1.], dtype=float32), 'DSC_0325rot90.jpg': array([0., 0., 1.], dtype=float32), 'DSC_0329.jpg': array([0., 0., 1.], dtype=float32), 'DSC_0332rot90.jpg': array([0., 0., 1.], dtype=float32), 'DSC_0300.JPG': array([0., 0., 1.], dtype=float32), 'DSC_0106flip.jpg': array([0., 0., 1.], dtype=float32), 'DSC_0299flip.jpg': array([0., 0., 1.], dtype=float32), 'DSC_0305flip.jpg': array([0., 0., 1.], dtype=float32), 'DSC_0109blur.jpg': array([0., 0., 1.], dtype=float32), 'DSC_0394rot90.jpg': array([0., 0., 1.], dtype=float32), 'DSC_0116.jpg': array([0., 0., 1.], dtype=float32), 'DSC_0112.jpg': array([0., 0., 1.], dtype=float32), 'DSC_0115blur.jpg': array([0., 0., 1.], dtype=float32), 'DSC_0337blur.jpg': array([0., 0., 1.], dtype=float32), 'DSC_0101blur.jpg': array([0., 0., 1.], dtype=float32), 'DSC_0105.jpg': array([0., 0., 1.], dtype=float32), 'DSC_0296flip.jpg': array([0., 0., 1.], dtype=float32), 'DSC_0299rot90.jpg': array([0., 0., 1.], dtype=float32), 'DSC_0301flip.jpg': array([0., 0., 1.], dtype=float32), 'DSC_0323rot90.jpg': array([0., 0., 1.], dtype=float32), 'DSC_0333blur.jpg': array([0., 0., 1.], dtype=float32), 'DSC_0118blur.jpg': array([0., 0., 1.], dtype=float32), 'DSC_0121.jpg': array([0., 0., 1.], dtype=float32), 'DSC_0121rot90.jpg': array([0., 0., 1.], dtype=float32), 'DSC_0301blur.jpg': array([0., 0., 1.], dtype=float32), 'DSC_0107blur.jpg': array([0., 0., 1.], dtype=float32), 'DSC_0295blur.jpg': array([0., 0., 1.], dtype=float32), 'DSC_0302rot90.jpg': array([0., 0., 1.], dtype=float32), 'DSC_0307blur.jpg': array([0., 0., 1.], dtype=float32), 'DSC_0394.jpg': array([0., 0., 1.], dtype=float32), 'DSC_0112blur.jpg': array([0., 0., 1.], dtype=float32), 'DSC_0332.JPG': array([0., 0., 1.], dtype=float32), 'DSC_0110blur.jpg': array([0., 0., 1.], dtype=float32), 'DSC_0117rot90.jpg': array([0., 0., 1.], dtype=float32), 'DSC_0112flip.jpg': array([0., 0., 1.], dtype=float32), 'DSC_0101rot90.jpg': array([0., 0., 1.], dtype=float32), 'DSC_0300blur.jpg': array([0., 0., 1.], dtype=float32), 'DSC_0325blur.jpg': array([0., 0., 1.], dtype=float32), 'DSC_0105rot90.jpg': array([0., 0., 1.], dtype=float32), 'DSC_0292rot90.jpg': array([0., 0., 1.], dtype=float32), 'DSC_0108rot90.jpg': array([0., 0., 1.], dtype=float32), 'DSC_0105blur.jpg': array([0., 0., 1.], dtype=float32), 'DSC_0296.jpg': array([0., 0., 1.], dtype=float32), 'DSC_0301.JPG': array([0., 0., 1.], dtype=float32), 'DSC_0394flip.jpg': array([0., 0., 1.], dtype=float32), 'DSC_0304.JPG': array([0., 0., 1.], dtype=float32), 'DSC_0107.jpg': array([0., 0., 1.], dtype=float32), 'DSC_0114rot90.jpg': array([0., 0., 1.], dtype=float32), 'DSC_0303flip.jpg': array([0., 0., 1.], dtype=float32), 'DSC_0121flip.jpg': array([0., 0., 1.], dtype=float32), 'DSC_0107rot90.jpg': array([0., 0., 1.], dtype=float32), 'DSC_0303.JPG': array([0., 0., 1.], dtype=float32), 'DSC_0115rot90.jpg': array([0., 0., 1.], dtype=float32), 'DSC_0300rot90.jpg': array([0., 0., 1.], dtype=float32), 'DSC_0111.jpg': array([0., 0., 1.], dtype=float32), 'DSC_0307.JPG': array([0., 0., 1.], dtype=float32), 'DSC_0100flip.jpg': array([0., 0., 1.], dtype=float32), 'DSC_0110rot90.jpg': array([0., 0., 1.], dtype=float32), 'DSC_0118.jpg': array([0., 0., 1.], dtype=float32), 'DSC_0295flip.jpg': array([0., 0., 1.], dtype=float32), 'DSC_0117.jpg': array([0., 0., 1.], dtype=float32), 'DSC_0110.jpg': array([0., 0., 1.], dtype=float32), 'DSC_0337rot90.jpg': array([0., 0., 1.], dtype=float32), 'DSC_0119flip.jpg': array([0., 0., 1.], dtype=float32), 'DSC_0111rot90.jpg': array([0., 0., 1.], dtype=float32), 'DSC_0108.jpg': array([0., 0., 1.], dtype=float32), 'DSC_0100blur.jpg': array([0., 0., 1.], dtype=float32), 'DSC_0301rot90.jpg': array([0., 0., 1.], dtype=float32), 'DSC_0302flip.jpg': array([0., 0., 1.], dtype=float32), 'DSC_0333flip.jpg': array([0., 0., 1.], dtype=float32), 'DSC_0391flip.jpg': array([0., 0., 1.], dtype=float32), 'DSC_0323.JPG': array([0., 0., 1.], dtype=float32), 'DSC_0110flip.jpg': array([0., 0., 1.], dtype=float32), 'DSC_0337flip.jpg': array([0., 0., 1.], dtype=float32), 'DSC_0302.JPG': array([0., 0., 1.], dtype=float32), 'DSC_0114.jpg': array([0., 0., 1.], dtype=float32), 'DSC_0332flip.jpg': array([0., 0., 1.], dtype=float32), 'DSC_0305.JPG': array([0., 0., 1.], dtype=float32), 'DSC_0295rot90.jpg': array([0., 0., 1.], dtype=float32), 'DSC_0307rot90.jpg': array([0., 0., 1.], dtype=float32), 'DSC_0114flip.jpg': array([0., 0., 1.], dtype=float32), 'DSC_0104.jpg': array([0., 0., 1.], dtype=float32), 'DSC_0111blur.jpg': array([0., 0., 1.], dtype=float32), 'DSC_0117flip.jpg': array([0., 0., 1.], dtype=float32), 'DSC_0115flip.jpg': array([0., 0., 1.], dtype=float32), 'DSC_0303blur.jpg': array([0., 0., 1.], dtype=float32), 'DSC_0304rot90.jpg': array([0., 0., 1.], dtype=float32), 'DSC_0391rot90.jpg': array([0., 0., 1.], dtype=float32), 'DSC_0296rot90.jpg': array([0., 0., 1.], dtype=float32), 'DSC_0304flip.jpg': array([0., 0., 1.], dtype=float32), 'DSC_0101flip.jpg': array([0., 0., 1.], dtype=float32), 'DSC_0306flip.jpg': array([0., 0., 1.], dtype=float32), 'DSC_0119rot90.jpg': array([0., 0., 1.], dtype=float32), 'DSC_0324rot90.jpg': array([0., 0., 1.], dtype=float32), 'DSC_0324flip.jpg': array([0., 0., 1.], dtype=float32), 'DSC_0106rot90.jpg': array([0., 0., 1.], dtype=float32), 'DSC_0394blur.jpg': array([0., 0., 1.], dtype=float32), 'DSC_0302blur.jpg': array([0., 0., 1.], dtype=float32), 'DSC_0324.JPG': array([0., 0., 1.], dtype=float32), 'DSC_0115.jpg': array([0., 0., 1.], dtype=float32), 'DSC_0114blur.jpg': array([0., 0., 1.], dtype=float32), 'DSC_0121blur.jpg': array([0., 0., 1.], dtype=float32), 'DSC_0119blur.jpg': array([0., 0., 1.], dtype=float32), 'DSC_0391.jpg': array([0., 0., 1.], dtype=float32), 'DSC_0325flip.jpg': array([0., 0., 1.], dtype=float32), 'DSC_0113rot90.jpg': array([0., 0., 1.], dtype=float32), 'DSC_0305rot90.jpg': array([0., 0., 1.], dtype=float32), 'DSC_0119.jpg': array([0., 0., 1.], dtype=float32), 'DSC_0295.JPG': array([0., 0., 1.], dtype=float32), 'DSC_0113blur.jpg': array([0., 0., 1.], dtype=float32), 'DSC_0337.JPG': array([0., 0., 1.], dtype=float32), 'DSC_0333rot90.jpg': array([0., 0., 1.], dtype=float32), 'DSC_0324blur.jpg': array([0., 0., 1.], dtype=float32), 'DSC_0116flip.jpg': array([0., 0., 1.], dtype=float32), 'DSC_0292flip.jpg': array([0., 0., 1.], dtype=float32), 'DSC_0104blur.jpg': array([0., 0., 1.], dtype=float32), 'DSC_0101.jpg': array([0., 0., 1.], dtype=float32), 'DSC_0306blur.jpg': array([0., 0., 1.], dtype=float32), 'DSC_0304blur.jpg': array([0., 0., 1.], dtype=float32), 'DSC_0118flip.jpg': array([0., 0., 1.], dtype=float32), 'DSC_0329rot90.jpg': array([0., 0., 1.], dtype=float32), 'DSC_0507.jpg': array([0., 1., 0.], dtype=float32), 'DSC_0508flip.jpg': array([0., 1., 0.], dtype=float32), 'DSC_0313flip.jpg': array([0., 1., 0.], dtype=float32), 'DSC_0501blur.jpg': array([0., 1., 0.], dtype=float32), 'DSC_0315blur.jpg': array([0., 1., 0.], dtype=float32), 'DSC_0336flip.jpg': array([0., 1., 0.], dtype=float32), 'DSC_0318blur.jpg': array([0., 1., 0.], dtype=float32), 'DSC_0308flip.jpg': array([0., 1., 0.], dtype=float32), 'DSC_0293blur.jpg': array([0., 1., 0.], dtype=float32), 'DSC_0511blur.jpg': array([0., 1., 0.], dtype=float32), 'DSC_0516blur.jpg': array([0., 1., 0.], dtype=float32), 'DSC_0509blur.jpg': array([0., 1., 0.], dtype=float32), 'DSC_0314rot90.jpg': array([0., 1., 0.], dtype=float32), 'DSC_0338flip.jpg': array([0., 1., 0.], dtype=float32), 'DSC_0504.jpg': array([0., 1., 0.], dtype=float32), 'DSC_0510blur.jpg': array([0., 1., 0.], dtype=float32), 'DSC_0514rot90.jpg': array([0., 1., 0.], dtype=float32), 'DSC_0502blur.jpg': array([0., 1., 0.], dtype=float32), 'DSC_0336blur.jpg': array([0., 1., 0.], dtype=float32), 'DSC_0322.jpg': array([0., 1., 0.], dtype=float32), 'DSC_0310flip.jpg': array([0., 1., 0.], dtype=float32), 'DSC_0318flip.jpg': array([0., 1., 0.], dtype=float32), 'DSC_0506rot90.jpg': array([0., 1., 0.], dtype=float32), 'DSC_0339rot90.jpg': array([0., 1., 0.], dtype=float32), 'DSC_0504flip.jpg': array([0., 1., 0.], dtype=float32), 'DSC_0317flip.jpg': array([0., 1., 0.], dtype=float32), 'DSC_0331.JPG': array([0., 1., 0.], dtype=float32), 'DSC_0293flip.jpg': array([0., 1., 0.], dtype=float32), 'DSC_0309rot90.jpg': array([0., 1., 0.], dtype=float32), 'DSC_0509rot90.jpg': array([0., 1., 0.], dtype=float32), 'DSC_0505rot90.jpg': array([0., 1., 0.], dtype=float32), 'DSC_0506blur.jpg': array([0., 1., 0.], dtype=float32), 'DSC_0515.jpg': array([0., 1., 0.], dtype=float32), 'DSC_0501rot90.jpg': array([0., 1., 0.], dtype=float32), 'DSC_0501flip.jpg': array([0., 1., 0.], dtype=float32), 'DSC_0331rot90.jpg': array([0., 1., 0.], dtype=float32), 'DSC_0336.jpg': array([0., 1., 0.], dtype=float32), 'DSC_0338rot90.jpg': array([0., 1., 0.], dtype=float32), 'DSC_0504blur.jpg': array([0., 1., 0.], dtype=float32), 'DSC_0338.JPG': array([0., 1., 0.], dtype=float32), 'DSC_0320flip.jpg': array([0., 1., 0.], dtype=float32), 'DSC_0313.JPG': array([0., 1., 0.], dtype=float32), 'DSC_0320rot90.jpg': array([0., 1., 0.], dtype=float32), 'DSC_0506flip.jpg': array([0., 1., 0.], dtype=float32), 'DSC_0504rot90.jpg': array([0., 1., 0.], dtype=float32), 'DSC_0328rot90.jpg': array([0., 1., 0.], dtype=float32), 'DSC_0512flip.jpg': array([0., 1., 0.], dtype=float32), 'DSC_0339.jpg': array([0., 1., 0.], dtype=float32), 'DSC_0505flip.jpg': array([0., 1., 0.], dtype=float32), 'DSC_0321blur.jpg': array([0., 1., 0.], dtype=float32), 'DSC_0316rot90.jpg': array([0., 1., 0.], dtype=float32), 'DSC_0321rot90.jpg': array([0., 1., 0.], dtype=float32), 'DSC_0502rot90.jpg': array([0., 1., 0.], dtype=float32), 'DSC_0308.JPG': array([0., 1., 0.], dtype=float32), 'DSC_0514.jpg': array([0., 1., 0.], dtype=float32), 'DSC_0515flip.jpg': array([0., 1., 0.], dtype=float32), 'DSC_0315.jpg': array([0., 1., 0.], dtype=float32), 'DSC_0339blur.jpg': array([0., 1., 0.], dtype=float32), 'DSC_0328blur.jpg': array([0., 1., 0.], dtype=float32), 'DSC_0309.JPG': array([0., 1., 0.], dtype=float32), 'DSC_0315flip.jpg': array([0., 1., 0.], dtype=float32), 'DSC_0314blur.jpg': array([0., 1., 0.], dtype=float32), 'DSC_0309blur.jpg': array([0., 1., 0.], dtype=float32), 'DSC_0322blur.jpg': array([0., 1., 0.], dtype=float32), 'DSC_0330.jpg': array([0., 1., 0.], dtype=float32), 'DSC_0312blur.jpg': array([0., 1., 0.], dtype=float32), 'DSC_0335flip.jpg': array([0., 1., 0.], dtype=float32), 'DSC_0514flip.jpg': array([0., 1., 0.], dtype=float32), 'DSC_0317blur.jpg': array([0., 1., 0.], dtype=float32), 'DSC_0510rot90.jpg': array([0., 1., 0.], dtype=float32), 'DSC_0503blur.jpg': array([0., 1., 0.], dtype=float32), 'DSC_0511rot90.jpg': array([0., 1., 0.], dtype=float32), 'DSC_0327.JPG': array([0., 1., 0.], dtype=float32), 'DSC_0330flip.jpg': array([0., 1., 0.], dtype=float32), 'DSC_0317.JPG': array([0., 1., 0.], dtype=float32), 'DSC_0508.jpg': array([0., 1., 0.], dtype=float32), 'DSC_0335blur.jpg': array([0., 1., 0.], dtype=float32), 'DSC_0316blur.jpg': array([0., 1., 0.], dtype=float32), 'DSC_0318rot90.jpg': array([0., 1., 0.], dtype=float32), 'DSC_0330blur.jpg': array([0., 1., 0.], dtype=float32), 'DSC_0510flip.jpg': array([0., 1., 0.], dtype=float32), 'DSC_0327blur.jpg': array([0., 1., 0.], dtype=float32), 'DSC_0513blur.jpg': array([0., 1., 0.], dtype=float32), 'DSC_0327rot90.jpg': array([0., 1., 0.], dtype=float32), 'DSC_0308blur.jpg': array([0., 1., 0.], dtype=float32), 'DSC_0315rot90.jpg': array([0., 1., 0.], dtype=float32), 'DSC_0328.jpg': array([0., 1., 0.], dtype=float32), 'DSC_0321flip.jpg': array([0., 1., 0.], dtype=float32), 'DSC_0507rot90.jpg': array([0., 1., 0.], dtype=float32), 'DSC_0505blur.jpg': array([0., 1., 0.], dtype=float32), 'DSC_0331flip.jpg': array([0., 1., 0.], dtype=float32), 'DSC_0500flip.jpg': array([0., 1., 0.], dtype=float32), 'DSC_0339flip.jpg': array([0., 1., 0.], dtype=float32), 'DSC_0513rot90.jpg': array([0., 1., 0.], dtype=float32), 'DSC_0500rot90.jpg': array([0., 1., 0.], dtype=float32), 'DSC_0330rot90.jpg': array([0., 1., 0.], dtype=float32), 'DSC_0322flip.jpg': array([0., 1., 0.], dtype=float32), 'DSC_0317rot90.jpg': array([0., 1., 0.], dtype=float32), 'DSC_0314.JPG': array([0., 1., 0.], dtype=float32), 'DSC_0506.jpg': array([0., 1., 0.], dtype=float32), 'DSC_0516flip.jpg': array([0., 1., 0.], dtype=float32), 'DSC_0320.JPG': array([0., 1., 0.], dtype=float32), 'DSC_0514blur.jpg': array([0., 1., 0.], dtype=float32), 'DSC_0322rot90.jpg': array([0., 1., 0.], dtype=float32), 'DSC_0318.JPG': array([0., 1., 0.], dtype=float32), 'DSC_0338blur.jpg': array([0., 1., 0.], dtype=float32), 'DSC_0507blur.jpg': array([0., 1., 0.], dtype=float32), 'DSC_0505.jpg': array([0., 1., 0.], dtype=float32), 'DSC_0321.JPG': array([0., 1., 0.], dtype=float32), 'DSC_0511.jpg': array([0., 1., 0.], dtype=float32), 'DSC_0319rot90.jpg': array([0., 1., 0.], dtype=float32), 'DSC_0316flip.jpg': array([0., 1., 0.], dtype=float32), 'DSC_0502.jpg': array([0., 1., 0.], dtype=float32), 'DSC_0313blur.jpg': array([0., 1., 0.], dtype=float32), 'DSC_0335rot90.jpg': array([0., 1., 0.], dtype=float32), 'DSC_0319blur.jpg': array([0., 1., 0.], dtype=float32), 'DSC_0503flip.jpg': array([0., 1., 0.], dtype=float32), 'DSC_0293.JPG': array([0., 1., 0.], dtype=float32), 'DSC_0313rot90.jpg': array([0., 1., 0.], dtype=float32), 'DSC_0335.JPG': array([0., 1., 0.], dtype=float32), 'DSC_0328flip.jpg': array([0., 1., 0.], dtype=float32), 'DSC_0510.jpg': array([0., 1., 0.], dtype=float32), 'DSC_0509flip.jpg': array([0., 1., 0.], dtype=float32), 'DSC_0511flip.jpg': array([0., 1., 0.], dtype=float32), 'DSC_0327flip.jpg': array([0., 1., 0.], dtype=float32), 'DSC_0310rot90.jpg': array([0., 1., 0.], dtype=float32), 'DSC_0508rot90.jpg': array([0., 1., 0.], dtype=float32), 'DSC_0516.jpg': array([0., 1., 0.], dtype=float32), 'DSC_0331blur.jpg': array([0., 1., 0.], dtype=float32), 'DSC_0509.jpg': array([0., 1., 0.], dtype=float32), 'DSC_0508blur.jpg': array([0., 1., 0.], dtype=float32), 'DSC_0314flip.jpg': array([0., 1., 0.], dtype=float32), 'DSC_0512rot90.jpg': array([0., 1., 0.], dtype=float32), 'DSC_0500.jpg': array([0., 1., 0.], dtype=float32), 'DSC_0319flip.jpg': array([0., 1., 0.], dtype=float32), 'DSC_0316.JPG': array([0., 1., 0.], dtype=float32), 'DSC_0336rot90.jpg': array([0., 1., 0.], dtype=float32), 'DSC_0310blur.jpg': array([0., 1., 0.], dtype=float32), 'DSC_0515blur.jpg': array([0., 1., 0.], dtype=float32), 'DSC_0513.jpg': array([0., 1., 0.], dtype=float32), 'DSC_0512blur.jpg': array([0., 1., 0.], dtype=float32), 'DSC_0513flip.jpg': array([0., 1., 0.], dtype=float32), 'DSC_0320blur.jpg': array([0., 1., 0.], dtype=float32), 'DSC_0516rot90.jpg': array([0., 1., 0.], dtype=float32), 'DSC_0319.jpg': array([0., 1., 0.], dtype=float32), 'DSC_0512.jpg': array([0., 1., 0.], dtype=float32), 'DSC_0309flip.jpg': array([0., 1., 0.], dtype=float32), 'DSC_0503rot90.jpg': array([0., 1., 0.], dtype=float32), 'DSC_0507flip.jpg': array([0., 1., 0.], dtype=float32), 'DSC_0503.jpg': array([0., 1., 0.], dtype=float32), 'DSC_0502flip.jpg': array([0., 1., 0.], dtype=float32), 'DSC_0312flip.jpg': array([0., 1., 0.], dtype=float32), 'DSC_0293rot90.jpg': array([0., 1., 0.], dtype=float32), 'DSC_0308rot90.jpg': array([0., 1., 0.], dtype=float32), 'DSC_0515rot90.jpg': array([0., 1., 0.], dtype=float32), 'DSC_0312.JPG': array([0., 1., 0.], dtype=float32), 'DSC_0500blur.jpg': array([0., 1., 0.], dtype=float32), 'DSC_0312rot90.jpg': array([0., 1., 0.], dtype=float32), 'DSC_0501.jpg': array([0., 1., 0.], dtype=float32), 'DSC_0310.JPG': array([0., 1., 0.], dtype=float32)}\n"
          ]
        }
      ],
      "source": [
        "print(img_label)"
      ]
    },
    {
      "cell_type": "code",
      "execution_count": null,
      "metadata": {
        "id": "57qoBvMGNCCa",
        "colab": {
          "base_uri": "https://localhost:8080/",
          "height": 790
        },
        "outputId": "9e8b7ac8-b0fd-47e7-e14d-bb04e7a7ae5e"
      },
      "outputs": [
        {
          "output_type": "stream",
          "name": "stdout",
          "text": [
            "\n",
            "  printing random images with their data augumented versions.\n",
            "\n",
            "Column 1 images are taken from the dataset\n",
            "Column 2 images represent + 90 degree rotation of images from the dataset\n",
            "Column 3 images represent blurred version of images from the dataset\n",
            "Column 4 images represent flip version of images from the dataset\n",
            "\n"
          ]
        },
        {
          "output_type": "display_data",
          "data": {
            "text/plain": [
              "<Figure size 800x800 with 12 Axes>"
            ],
            "image/png": "[encoded data removed]"
          },
          "metadata": {}
        }
      ],
      "source": [
        "print('''\n",
        "  printing random images with their data augumented versions.\n",
        "''')\n",
        "\n",
        "actual_training_data_length = 480\n",
        "j=1\n",
        "cnt=3\n",
        "plt.figure(num=None, figsize=(20,20), dpi=40, facecolor='w', edgecolor='k')\n",
        "\n",
        "for i in range(20):\n",
        "  # Generating random number\n",
        "  image_index = np.random.randint(actual_training_data_length)\n",
        "\n",
        "  image = list(img_label.keys())[image_index]\n",
        "  img_name = list(image.split(\".\"))[0]\n",
        "\n",
        "  if (len(img_name)==8 and cnt!=0):\n",
        "    img_name1 = img_name + \"rot90.jpg\"\n",
        "    img_name2 = img_name + \"blur.jpg\"\n",
        "    img_name3 = img_name + \"flip.jpg\"\n",
        "\n",
        "    plt.subplot(3,4,j)\n",
        "    img = Image.open(\"paddy_disease_classification/train/\"+image)\n",
        "    plt.imshow(img,aspect='auto')\n",
        "    # plt.title(image,fontsize=30,color=\"blue\")\n",
        "    plt.subplot(3,4,j+1)\n",
        "    img = Image.open(\"paddy_disease_classification/train/\"+img_name1)\n",
        "    plt.imshow(img,aspect='auto')\n",
        "    #plt.title(img_name1,fontsize=30,color=\"red\")\n",
        "    plt.subplot(3,4,j+2)\n",
        "    img = Image.open(\"paddy_disease_classification/train/\"+img_name2)\n",
        "    plt.imshow(img,aspect='auto')\n",
        "    #plt.title(img_name2,fontsize=30,color=\"red\")\n",
        "    plt.subplot(3,4,j+3)\n",
        "    img = Image.open(\"paddy_disease_classification/train/\"+img_name3)\n",
        "    plt.imshow(img,aspect='auto')\n",
        "    #plt.title(img_name3,fontsize=30,color=\"red\")\n",
        "    j+=4\n",
        "    cnt-=1\n",
        "    if (cnt==0):\n",
        "      break\n",
        "\n",
        "print(\"Column 1 images are taken from the dataset\")\n",
        "print(\"Column 2 images represent + 90 degree rotation of images from the dataset\")\n",
        "print(\"Column 3 images represent blurred version of images from the dataset\")\n",
        "print(\"Column 4 images represent flip version of images from the dataset\")\n",
        "print()"
      ]
    },
    {
      "cell_type": "code",
      "execution_count": null,
      "metadata": {
        "id": "V-YSjS7HNPSr",
        "colab": {
          "base_uri": "https://localhost:8080/"
        },
        "outputId": "8b0a3fc9-83e2-4d9b-b618-820ae97a518c"
      },
      "outputs": [
        {
          "output_type": "stream",
          "name": "stdout",
          "text": [
            "{'DSC_0379.JPG': array([1., 0., 0.], dtype=float32), 'DSC_0388flip.jpg': array([1., 0., 0.], dtype=float32), 'DSC_0379blur.jpg': array([1., 0., 0.], dtype=float32), 'DSC_0385blur.jpg': array([1., 0., 0.], dtype=float32), 'DSC_0395.JPG': array([1., 0., 0.], dtype=float32), 'DSC_0375flip.jpg': array([1., 0., 0.], dtype=float32), 'DSC_0398flip.jpg': array([1., 0., 0.], dtype=float32), 'DSC_0392blur.jpg': array([1., 0., 0.], dtype=float32), 'DSC_0392rot90.jpg': array([1., 0., 0.], dtype=float32), 'DSC_0703.JPG': array([1., 0., 0.], dtype=float32), 'DSC_0388blur.jpg': array([1., 0., 0.], dtype=float32), 'DSC_0386rot90.jpg': array([1., 0., 0.], dtype=float32), 'DSC_0382rot90.jpg': array([1., 0., 0.], dtype=float32), 'DSC_0703blur.jpg': array([1., 0., 0.], dtype=float32), 'DSC_0402blur.jpg': array([1., 0., 0.], dtype=float32), 'DSC_0398rot90.jpg': array([1., 0., 0.], dtype=float32), 'DSC_0398blur.jpg': array([1., 0., 0.], dtype=float32), 'DSC_0403flip.jpg': array([1., 0., 0.], dtype=float32), 'DSC_0376blur.jpg': array([1., 0., 0.], dtype=float32), 'DSC_0366blur.jpg': array([1., 0., 0.], dtype=float32), 'DSC_0389.JPG': array([1., 0., 0.], dtype=float32), 'DSC_0389flip.jpg': array([1., 0., 0.], dtype=float32), 'DSC_0385.jpg': array([1., 0., 0.], dtype=float32), 'DSC_0401rot90.jpg': array([1., 0., 0.], dtype=float32), 'DSC_0379flip.jpg': array([1., 0., 0.], dtype=float32), 'DSC_0380flip.jpg': array([1., 0., 0.], dtype=float32), 'DSC_0405blur.jpg': array([1., 0., 0.], dtype=float32), 'DSC_0370blur.jpg': array([1., 0., 0.], dtype=float32), 'DSC_0404blur.jpg': array([1., 0., 0.], dtype=float32), 'DSC_0395rot90.jpg': array([1., 0., 0.], dtype=float32), 'DSC_0400flip.jpg': array([1., 0., 0.], dtype=float32), 'DSC_0701.jpg': array([1., 0., 0.], dtype=float32), 'DSC_0383blur.jpg': array([1., 0., 0.], dtype=float32), 'DSC_0398.JPG': array([1., 0., 0.], dtype=float32), 'DSC_0399flip.jpg': array([1., 0., 0.], dtype=float32), 'DSC_0703flip.jpg': array([1., 0., 0.], dtype=float32), 'DSC_0702rot90.jpg': array([1., 0., 0.], dtype=float32), 'DSC_0396rot90.jpg': array([1., 0., 0.], dtype=float32), 'DSC_0384flip.jpg': array([1., 0., 0.], dtype=float32), 'DSC_0381.JPG': array([1., 0., 0.], dtype=float32), 'DSC_0399blur.jpg': array([1., 0., 0.], dtype=float32), 'DSC_0372blur.jpg': array([1., 0., 0.], dtype=float32), 'DSC_0402.JPG': array([1., 0., 0.], dtype=float32), 'DSC_0389rot90.jpg': array([1., 0., 0.], dtype=float32), 'DSC_0382blur.jpg': array([1., 0., 0.], dtype=float32), 'DSC_0386flip.jpg': array([1., 0., 0.], dtype=float32), 'DSC_0397blur.jpg': array([1., 0., 0.], dtype=float32), 'DSC_0377flip.jpg': array([1., 0., 0.], dtype=float32), 'DSC_0401.JPG': array([1., 0., 0.], dtype=float32), 'DSC_0405flip.jpg': array([1., 0., 0.], dtype=float32), 'DSC_0377blur.jpg': array([1., 0., 0.], dtype=float32), 'DSC_0380blur.jpg': array([1., 0., 0.], dtype=float32), 'DSC_0374flip.jpg': array([1., 0., 0.], dtype=float32), 'DSC_0370.jpg': array([1., 0., 0.], dtype=float32), 'DSC_0386.JPG': array([1., 0., 0.], dtype=float32), 'DSC_0367flip.jpg': array([1., 0., 0.], dtype=float32), 'DSC_0392.JPG': array([1., 0., 0.], dtype=float32), 'DSC_0382flip.jpg': array([1., 0., 0.], dtype=float32), 'DSC_0701blur.jpg': array([1., 0., 0.], dtype=float32), 'DSC_0372flip.jpg': array([1., 0., 0.], dtype=float32), 'DSC_0384rot90.jpg': array([1., 0., 0.], dtype=float32), 'DSC_0365rot90.jpg': array([1., 0., 0.], dtype=float32), 'DSC_0370flip.jpg': array([1., 0., 0.], dtype=float32), 'DSC_0406rot90.jpg': array([1., 0., 0.], dtype=float32), 'DSC_0392flip.jpg': array([1., 0., 0.], dtype=float32), 'DSC_0377rot90.jpg': array([1., 0., 0.], dtype=float32), 'DSC_0404flip.jpg': array([1., 0., 0.], dtype=float32), 'DSC_0401blur.jpg': array([1., 0., 0.], dtype=float32), 'DSC_0376.JPG': array([1., 0., 0.], dtype=float32), 'DSC_0379rot90.jpg': array([1., 0., 0.], dtype=float32), 'DSC_0375blur.jpg': array([1., 0., 0.], dtype=float32), 'DSC_0373.JPG': array([1., 0., 0.], dtype=float32), 'DSC_0404rot90.jpg': array([1., 0., 0.], dtype=float32), 'DSC_0375.JPG': array([1., 0., 0.], dtype=float32), 'DSC_0390blur.jpg': array([1., 0., 0.], dtype=float32), 'DSC_0700flip.jpg': array([1., 0., 0.], dtype=float32), 'DSC_0380rot90.jpg': array([1., 0., 0.], dtype=float32), 'DSC_0406blur.jpg': array([1., 0., 0.], dtype=float32), 'DSC_0390.JPG': array([1., 0., 0.], dtype=float32), 'DSC_0378blur.jpg': array([1., 0., 0.], dtype=float32), 'DSC_0395flip.jpg': array([1., 0., 0.], dtype=float32), 'DSC_0380.JPG': array([1., 0., 0.], dtype=float32), 'DSC_0367blur.jpg': array([1., 0., 0.], dtype=float32), 'DSC_0385rot90.jpg': array([1., 0., 0.], dtype=float32), 'DSC_0383rot90.jpg': array([1., 0., 0.], dtype=float32), 'DSC_0378.JPG': array([1., 0., 0.], dtype=float32), 'DSC_0366rot90.jpg': array([1., 0., 0.], dtype=float32), 'DSC_0396blur.jpg': array([1., 0., 0.], dtype=float32), 'DSC_0383.JPG': array([1., 0., 0.], dtype=float32), 'DSC_0374rot90.jpg': array([1., 0., 0.], dtype=float32), 'DSC_0402rot90.jpg': array([1., 0., 0.], dtype=float32), 'DSC_0381blur.jpg': array([1., 0., 0.], dtype=float32), 'DSC_0396flip.jpg': array([1., 0., 0.], dtype=float32), 'DSC_0406flip.jpg': array([1., 0., 0.], dtype=float32), 'DSC_0702.jpg': array([1., 0., 0.], dtype=float32), 'DSC_0400.JPG': array([1., 0., 0.], dtype=float32), 'DSC_0378rot90.jpg': array([1., 0., 0.], dtype=float32), 'DSC_0397.JPG': array([1., 0., 0.], dtype=float32), 'DSC_0395blur.jpg': array([1., 0., 0.], dtype=float32), 'DSC_0402flip.jpg': array([1., 0., 0.], dtype=float32), 'DSC_0700rot90.jpg': array([1., 0., 0.], dtype=float32), 'DSC_0397flip.jpg': array([1., 0., 0.], dtype=float32), 'DSC_0377.JPG': array([1., 0., 0.], dtype=float32), 'DSC_0385flip.jpg': array([1., 0., 0.], dtype=float32), 'DSC_0367.JPG': array([1., 0., 0.], dtype=float32), 'DSC_0399rot90.jpg': array([1., 0., 0.], dtype=float32), 'DSC_0393blur.jpg': array([1., 0., 0.], dtype=float32), 'DSC_0403blur.jpg': array([1., 0., 0.], dtype=float32), 'DSC_0376rot90.jpg': array([1., 0., 0.], dtype=float32), 'DSC_0382.JPG': array([1., 0., 0.], dtype=float32), 'DSC_0701flip.jpg': array([1., 0., 0.], dtype=float32), 'DSC_0404.JPG': array([1., 0., 0.], dtype=float32), 'DSC_0393flip.jpg': array([1., 0., 0.], dtype=float32), 'DSC_0373blur.jpg': array([1., 0., 0.], dtype=float32), 'DSC_0374blur.jpg': array([1., 0., 0.], dtype=float32), 'DSC_0376flip.jpg': array([1., 0., 0.], dtype=float32), 'DSC_0388rot90.jpg': array([1., 0., 0.], dtype=float32), 'DSC_0373rot90.jpg': array([1., 0., 0.], dtype=float32), 'DSC_0401flip.jpg': array([1., 0., 0.], dtype=float32), 'DSC_0390rot90.jpg': array([1., 0., 0.], dtype=float32), 'DSC_0372.JPG': array([1., 0., 0.], dtype=float32), 'DSC_0397rot90.jpg': array([1., 0., 0.], dtype=float32), 'DSC_0393rot90.jpg': array([1., 0., 0.], dtype=float32), 'DSC_0366flip.jpg': array([1., 0., 0.], dtype=float32), 'DSC_0378flip.jpg': array([1., 0., 0.], dtype=float32), 'DSC_0700.jpg': array([1., 0., 0.], dtype=float32), 'DSC_0396.JPG': array([1., 0., 0.], dtype=float32), 'DSC_0393.JPG': array([1., 0., 0.], dtype=float32), 'DSC_0384blur.jpg': array([1., 0., 0.], dtype=float32), 'DSC_0700blur.jpg': array([1., 0., 0.], dtype=float32), 'DSC_0375rot90.jpg': array([1., 0., 0.], dtype=float32), 'DSC_0702flip.jpg': array([1., 0., 0.], dtype=float32), 'DSC_0381rot90.jpg': array([1., 0., 0.], dtype=float32), 'DSC_0381flip.jpg': array([1., 0., 0.], dtype=float32), 'DSC_0373flip.jpg': array([1., 0., 0.], dtype=float32), 'DSC_0400blur.jpg': array([1., 0., 0.], dtype=float32), 'DSC_0383flip.jpg': array([1., 0., 0.], dtype=float32), 'DSC_0367rot90.jpg': array([1., 0., 0.], dtype=float32), 'DSC_0386blur.jpg': array([1., 0., 0.], dtype=float32), 'DSC_0365flip.jpg': array([1., 0., 0.], dtype=float32), 'DSC_0389blur.jpg': array([1., 0., 0.], dtype=float32), 'DSC_0702blur.jpg': array([1., 0., 0.], dtype=float32), 'DSC_0400rot90.jpg': array([1., 0., 0.], dtype=float32), 'DSC_0403rot90.jpg': array([1., 0., 0.], dtype=float32), 'DSC_0403.JPG': array([1., 0., 0.], dtype=float32), 'DSC_0390flip.jpg': array([1., 0., 0.], dtype=float32), 'DSC_0405rot90.jpg': array([1., 0., 0.], dtype=float32), 'DSC_0366.jpg': array([1., 0., 0.], dtype=float32), 'DSC_0365.JPG': array([1., 0., 0.], dtype=float32), 'DSC_0365blur.jpg': array([1., 0., 0.], dtype=float32), 'DSC_0372rot90.jpg': array([1., 0., 0.], dtype=float32), 'DSC_0374.JPG': array([1., 0., 0.], dtype=float32), 'DSC_0384.JPG': array([1., 0., 0.], dtype=float32), 'DSC_0399.JPG': array([1., 0., 0.], dtype=float32), 'DSC_0370rot90.jpg': array([1., 0., 0.], dtype=float32), 'DSC_0406.JPG': array([1., 0., 0.], dtype=float32), 'DSC_0405.JPG': array([1., 0., 0.], dtype=float32), 'DSC_0703rot90.jpg': array([1., 0., 0.], dtype=float32), 'DSC_0388.JPG': array([1., 0., 0.], dtype=float32), 'DSC_0701rot90.jpg': array([1., 0., 0.], dtype=float32), 'DSC_0292.JPG': array([0., 0., 1.], dtype=float32), 'DSC_0299.JPG': array([0., 0., 1.], dtype=float32), 'DSC_0292blur.jpg': array([0., 0., 1.], dtype=float32), 'DSC_0300flip.jpg': array([0., 0., 1.], dtype=float32), 'DSC_0106blur.jpg': array([0., 0., 1.], dtype=float32), 'DSC_0329blur.jpg': array([0., 0., 1.], dtype=float32), 'DSC_0305blur.jpg': array([0., 0., 1.], dtype=float32), 'DSC_0391blur.jpg': array([0., 0., 1.], dtype=float32), 'DSC_0113.jpg': array([0., 0., 1.], dtype=float32), 'DSC_0111flip.jpg': array([0., 0., 1.], dtype=float32), 'DSC_0116blur.jpg': array([0., 0., 1.], dtype=float32), 'DSC_0325.JPG': array([0., 0., 1.], dtype=float32), 'DSC_0116rot90.jpg': array([0., 0., 1.], dtype=float32), 'DSC_0104rot90.jpg': array([0., 0., 1.], dtype=float32), 'DSC_0109.jpg': array([0., 0., 1.], dtype=float32), 'DSC_0306rot90.jpg': array([0., 0., 1.], dtype=float32), 'DSC_0107flip.jpg': array([0., 0., 1.], dtype=float32), 'DSC_0303rot90.jpg': array([0., 0., 1.], dtype=float32), 'DSC_0100rot90.jpg': array([0., 0., 1.], dtype=float32), 'DSC_0118rot90.jpg': array([0., 0., 1.], dtype=float32), 'DSC_0323flip.jpg': array([0., 0., 1.], dtype=float32), 'DSC_0106.jpg': array([0., 0., 1.], dtype=float32), 'DSC_0329flip.jpg': array([0., 0., 1.], dtype=float32), 'DSC_0108blur.jpg': array([0., 0., 1.], dtype=float32), 'DSC_0112rot90.jpg': array([0., 0., 1.], dtype=float32), 'DSC_0307flip.jpg': array([0., 0., 1.], dtype=float32), 'DSC_0108flip.jpg': array([0., 0., 1.], dtype=float32), 'DSC_0105flip.jpg': array([0., 0., 1.], dtype=float32), 'DSC_0299blur.jpg': array([0., 0., 1.], dtype=float32), 'DSC_0109rot90.jpg': array([0., 0., 1.], dtype=float32), 'DSC_0113flip.jpg': array([0., 0., 1.], dtype=float32), 'DSC_0117blur.jpg': array([0., 0., 1.], dtype=float32), 'DSC_0296blur.jpg': array([0., 0., 1.], dtype=float32), 'DSC_0333.JPG': array([0., 0., 1.], dtype=float32), 'DSC_0104flip.jpg': array([0., 0., 1.], dtype=float32), 'DSC_0323blur.jpg': array([0., 0., 1.], dtype=float32), 'DSC_0306.JPG': array([0., 0., 1.], dtype=float32), 'DSC_0100.jpg': array([0., 0., 1.], dtype=float32), 'DSC_0332blur.jpg': array([0., 0., 1.], dtype=float32), 'DSC_0109flip.jpg': array([0., 0., 1.], dtype=float32), 'DSC_0325rot90.jpg': array([0., 0., 1.], dtype=float32), 'DSC_0329.jpg': array([0., 0., 1.], dtype=float32), 'DSC_0332rot90.jpg': array([0., 0., 1.], dtype=float32), 'DSC_0300.JPG': array([0., 0., 1.], dtype=float32), 'DSC_0106flip.jpg': array([0., 0., 1.], dtype=float32), 'DSC_0299flip.jpg': array([0., 0., 1.], dtype=float32), 'DSC_0305flip.jpg': array([0., 0., 1.], dtype=float32), 'DSC_0109blur.jpg': array([0., 0., 1.], dtype=float32), 'DSC_0394rot90.jpg': array([0., 0., 1.], dtype=float32), 'DSC_0116.jpg': array([0., 0., 1.], dtype=float32), 'DSC_0112.jpg': array([0., 0., 1.], dtype=float32), 'DSC_0115blur.jpg': array([0., 0., 1.], dtype=float32), 'DSC_0337blur.jpg': array([0., 0., 1.], dtype=float32), 'DSC_0101blur.jpg': array([0., 0., 1.], dtype=float32), 'DSC_0105.jpg': array([0., 0., 1.], dtype=float32), 'DSC_0296flip.jpg': array([0., 0., 1.], dtype=float32), 'DSC_0299rot90.jpg': array([0., 0., 1.], dtype=float32), 'DSC_0301flip.jpg': array([0., 0., 1.], dtype=float32), 'DSC_0323rot90.jpg': array([0., 0., 1.], dtype=float32), 'DSC_0333blur.jpg': array([0., 0., 1.], dtype=float32), 'DSC_0118blur.jpg': array([0., 0., 1.], dtype=float32), 'DSC_0121.jpg': array([0., 0., 1.], dtype=float32), 'DSC_0121rot90.jpg': array([0., 0., 1.], dtype=float32), 'DSC_0301blur.jpg': array([0., 0., 1.], dtype=float32), 'DSC_0107blur.jpg': array([0., 0., 1.], dtype=float32), 'DSC_0295blur.jpg': array([0., 0., 1.], dtype=float32), 'DSC_0302rot90.jpg': array([0., 0., 1.], dtype=float32), 'DSC_0307blur.jpg': array([0., 0., 1.], dtype=float32), 'DSC_0394.jpg': array([0., 0., 1.], dtype=float32), 'DSC_0112blur.jpg': array([0., 0., 1.], dtype=float32), 'DSC_0332.JPG': array([0., 0., 1.], dtype=float32), 'DSC_0110blur.jpg': array([0., 0., 1.], dtype=float32), 'DSC_0117rot90.jpg': array([0., 0., 1.], dtype=float32), 'DSC_0112flip.jpg': array([0., 0., 1.], dtype=float32), 'DSC_0101rot90.jpg': array([0., 0., 1.], dtype=float32), 'DSC_0300blur.jpg': array([0., 0., 1.], dtype=float32), 'DSC_0325blur.jpg': array([0., 0., 1.], dtype=float32), 'DSC_0105rot90.jpg': array([0., 0., 1.], dtype=float32), 'DSC_0292rot90.jpg': array([0., 0., 1.], dtype=float32), 'DSC_0108rot90.jpg': array([0., 0., 1.], dtype=float32), 'DSC_0105blur.jpg': array([0., 0., 1.], dtype=float32), 'DSC_0296.jpg': array([0., 0., 1.], dtype=float32), 'DSC_0301.JPG': array([0., 0., 1.], dtype=float32), 'DSC_0394flip.jpg': array([0., 0., 1.], dtype=float32), 'DSC_0304.JPG': array([0., 0., 1.], dtype=float32), 'DSC_0107.jpg': array([0., 0., 1.], dtype=float32), 'DSC_0114rot90.jpg': array([0., 0., 1.], dtype=float32), 'DSC_0303flip.jpg': array([0., 0., 1.], dtype=float32), 'DSC_0121flip.jpg': array([0., 0., 1.], dtype=float32), 'DSC_0107rot90.jpg': array([0., 0., 1.], dtype=float32), 'DSC_0303.JPG': array([0., 0., 1.], dtype=float32), 'DSC_0115rot90.jpg': array([0., 0., 1.], dtype=float32), 'DSC_0300rot90.jpg': array([0., 0., 1.], dtype=float32), 'DSC_0111.jpg': array([0., 0., 1.], dtype=float32), 'DSC_0307.JPG': array([0., 0., 1.], dtype=float32), 'DSC_0100flip.jpg': array([0., 0., 1.], dtype=float32), 'DSC_0110rot90.jpg': array([0., 0., 1.], dtype=float32), 'DSC_0118.jpg': array([0., 0., 1.], dtype=float32), 'DSC_0295flip.jpg': array([0., 0., 1.], dtype=float32), 'DSC_0117.jpg': array([0., 0., 1.], dtype=float32), 'DSC_0110.jpg': array([0., 0., 1.], dtype=float32), 'DSC_0337rot90.jpg': array([0., 0., 1.], dtype=float32), 'DSC_0119flip.jpg': array([0., 0., 1.], dtype=float32), 'DSC_0111rot90.jpg': array([0., 0., 1.], dtype=float32), 'DSC_0108.jpg': array([0., 0., 1.], dtype=float32), 'DSC_0100blur.jpg': array([0., 0., 1.], dtype=float32), 'DSC_0301rot90.jpg': array([0., 0., 1.], dtype=float32), 'DSC_0302flip.jpg': array([0., 0., 1.], dtype=float32), 'DSC_0333flip.jpg': array([0., 0., 1.], dtype=float32), 'DSC_0391flip.jpg': array([0., 0., 1.], dtype=float32), 'DSC_0323.JPG': array([0., 0., 1.], dtype=float32), 'DSC_0110flip.jpg': array([0., 0., 1.], dtype=float32), 'DSC_0337flip.jpg': array([0., 0., 1.], dtype=float32), 'DSC_0302.JPG': array([0., 0., 1.], dtype=float32), 'DSC_0114.jpg': array([0., 0., 1.], dtype=float32), 'DSC_0332flip.jpg': array([0., 0., 1.], dtype=float32), 'DSC_0305.JPG': array([0., 0., 1.], dtype=float32), 'DSC_0295rot90.jpg': array([0., 0., 1.], dtype=float32), 'DSC_0307rot90.jpg': array([0., 0., 1.], dtype=float32), 'DSC_0114flip.jpg': array([0., 0., 1.], dtype=float32), 'DSC_0104.jpg': array([0., 0., 1.], dtype=float32), 'DSC_0111blur.jpg': array([0., 0., 1.], dtype=float32), 'DSC_0117flip.jpg': array([0., 0., 1.], dtype=float32), 'DSC_0115flip.jpg': array([0., 0., 1.], dtype=float32), 'DSC_0303blur.jpg': array([0., 0., 1.], dtype=float32), 'DSC_0304rot90.jpg': array([0., 0., 1.], dtype=float32), 'DSC_0391rot90.jpg': array([0., 0., 1.], dtype=float32), 'DSC_0296rot90.jpg': array([0., 0., 1.], dtype=float32), 'DSC_0304flip.jpg': array([0., 0., 1.], dtype=float32), 'DSC_0101flip.jpg': array([0., 0., 1.], dtype=float32), 'DSC_0306flip.jpg': array([0., 0., 1.], dtype=float32), 'DSC_0119rot90.jpg': array([0., 0., 1.], dtype=float32), 'DSC_0324rot90.jpg': array([0., 0., 1.], dtype=float32), 'DSC_0324flip.jpg': array([0., 0., 1.], dtype=float32), 'DSC_0106rot90.jpg': array([0., 0., 1.], dtype=float32), 'DSC_0394blur.jpg': array([0., 0., 1.], dtype=float32), 'DSC_0302blur.jpg': array([0., 0., 1.], dtype=float32), 'DSC_0324.JPG': array([0., 0., 1.], dtype=float32), 'DSC_0115.jpg': array([0., 0., 1.], dtype=float32), 'DSC_0114blur.jpg': array([0., 0., 1.], dtype=float32), 'DSC_0121blur.jpg': array([0., 0., 1.], dtype=float32), 'DSC_0119blur.jpg': array([0., 0., 1.], dtype=float32), 'DSC_0391.jpg': array([0., 0., 1.], dtype=float32), 'DSC_0325flip.jpg': array([0., 0., 1.], dtype=float32), 'DSC_0113rot90.jpg': array([0., 0., 1.], dtype=float32), 'DSC_0305rot90.jpg': array([0., 0., 1.], dtype=float32), 'DSC_0119.jpg': array([0., 0., 1.], dtype=float32), 'DSC_0295.JPG': array([0., 0., 1.], dtype=float32), 'DSC_0113blur.jpg': array([0., 0., 1.], dtype=float32), 'DSC_0337.JPG': array([0., 0., 1.], dtype=float32), 'DSC_0333rot90.jpg': array([0., 0., 1.], dtype=float32), 'DSC_0324blur.jpg': array([0., 0., 1.], dtype=float32), 'DSC_0116flip.jpg': array([0., 0., 1.], dtype=float32), 'DSC_0292flip.jpg': array([0., 0., 1.], dtype=float32), 'DSC_0104blur.jpg': array([0., 0., 1.], dtype=float32), 'DSC_0101.jpg': array([0., 0., 1.], dtype=float32), 'DSC_0306blur.jpg': array([0., 0., 1.], dtype=float32), 'DSC_0304blur.jpg': array([0., 0., 1.], dtype=float32), 'DSC_0118flip.jpg': array([0., 0., 1.], dtype=float32), 'DSC_0329rot90.jpg': array([0., 0., 1.], dtype=float32), 'DSC_0507.jpg': array([0., 1., 0.], dtype=float32), 'DSC_0508flip.jpg': array([0., 1., 0.], dtype=float32), 'DSC_0313flip.jpg': array([0., 1., 0.], dtype=float32), 'DSC_0501blur.jpg': array([0., 1., 0.], dtype=float32), 'DSC_0315blur.jpg': array([0., 1., 0.], dtype=float32), 'DSC_0336flip.jpg': array([0., 1., 0.], dtype=float32), 'DSC_0318blur.jpg': array([0., 1., 0.], dtype=float32), 'DSC_0308flip.jpg': array([0., 1., 0.], dtype=float32), 'DSC_0293blur.jpg': array([0., 1., 0.], dtype=float32), 'DSC_0511blur.jpg': array([0., 1., 0.], dtype=float32), 'DSC_0516blur.jpg': array([0., 1., 0.], dtype=float32), 'DSC_0509blur.jpg': array([0., 1., 0.], dtype=float32), 'DSC_0314rot90.jpg': array([0., 1., 0.], dtype=float32), 'DSC_0338flip.jpg': array([0., 1., 0.], dtype=float32), 'DSC_0504.jpg': array([0., 1., 0.], dtype=float32), 'DSC_0510blur.jpg': array([0., 1., 0.], dtype=float32), 'DSC_0514rot90.jpg': array([0., 1., 0.], dtype=float32), 'DSC_0502blur.jpg': array([0., 1., 0.], dtype=float32), 'DSC_0336blur.jpg': array([0., 1., 0.], dtype=float32), 'DSC_0322.jpg': array([0., 1., 0.], dtype=float32), 'DSC_0310flip.jpg': array([0., 1., 0.], dtype=float32), 'DSC_0318flip.jpg': array([0., 1., 0.], dtype=float32), 'DSC_0506rot90.jpg': array([0., 1., 0.], dtype=float32), 'DSC_0339rot90.jpg': array([0., 1., 0.], dtype=float32), 'DSC_0504flip.jpg': array([0., 1., 0.], dtype=float32), 'DSC_0317flip.jpg': array([0., 1., 0.], dtype=float32), 'DSC_0331.JPG': array([0., 1., 0.], dtype=float32), 'DSC_0293flip.jpg': array([0., 1., 0.], dtype=float32), 'DSC_0309rot90.jpg': array([0., 1., 0.], dtype=float32), 'DSC_0509rot90.jpg': array([0., 1., 0.], dtype=float32), 'DSC_0505rot90.jpg': array([0., 1., 0.], dtype=float32), 'DSC_0506blur.jpg': array([0., 1., 0.], dtype=float32), 'DSC_0515.jpg': array([0., 1., 0.], dtype=float32), 'DSC_0501rot90.jpg': array([0., 1., 0.], dtype=float32), 'DSC_0501flip.jpg': array([0., 1., 0.], dtype=float32), 'DSC_0331rot90.jpg': array([0., 1., 0.], dtype=float32), 'DSC_0336.jpg': array([0., 1., 0.], dtype=float32), 'DSC_0338rot90.jpg': array([0., 1., 0.], dtype=float32), 'DSC_0504blur.jpg': array([0., 1., 0.], dtype=float32), 'DSC_0338.JPG': array([0., 1., 0.], dtype=float32), 'DSC_0320flip.jpg': array([0., 1., 0.], dtype=float32), 'DSC_0313.JPG': array([0., 1., 0.], dtype=float32), 'DSC_0320rot90.jpg': array([0., 1., 0.], dtype=float32), 'DSC_0506flip.jpg': array([0., 1., 0.], dtype=float32), 'DSC_0504rot90.jpg': array([0., 1., 0.], dtype=float32), 'DSC_0328rot90.jpg': array([0., 1., 0.], dtype=float32), 'DSC_0512flip.jpg': array([0., 1., 0.], dtype=float32), 'DSC_0339.jpg': array([0., 1., 0.], dtype=float32), 'DSC_0505flip.jpg': array([0., 1., 0.], dtype=float32), 'DSC_0321blur.jpg': array([0., 1., 0.], dtype=float32), 'DSC_0316rot90.jpg': array([0., 1., 0.], dtype=float32), 'DSC_0321rot90.jpg': array([0., 1., 0.], dtype=float32), 'DSC_0502rot90.jpg': array([0., 1., 0.], dtype=float32), 'DSC_0308.JPG': array([0., 1., 0.], dtype=float32), 'DSC_0514.jpg': array([0., 1., 0.], dtype=float32), 'DSC_0515flip.jpg': array([0., 1., 0.], dtype=float32), 'DSC_0315.jpg': array([0., 1., 0.], dtype=float32), 'DSC_0339blur.jpg': array([0., 1., 0.], dtype=float32), 'DSC_0328blur.jpg': array([0., 1., 0.], dtype=float32), 'DSC_0309.JPG': array([0., 1., 0.], dtype=float32), 'DSC_0315flip.jpg': array([0., 1., 0.], dtype=float32), 'DSC_0314blur.jpg': array([0., 1., 0.], dtype=float32), 'DSC_0309blur.jpg': array([0., 1., 0.], dtype=float32), 'DSC_0322blur.jpg': array([0., 1., 0.], dtype=float32), 'DSC_0330.jpg': array([0., 1., 0.], dtype=float32), 'DSC_0312blur.jpg': array([0., 1., 0.], dtype=float32), 'DSC_0335flip.jpg': array([0., 1., 0.], dtype=float32), 'DSC_0514flip.jpg': array([0., 1., 0.], dtype=float32), 'DSC_0317blur.jpg': array([0., 1., 0.], dtype=float32), 'DSC_0510rot90.jpg': array([0., 1., 0.], dtype=float32), 'DSC_0503blur.jpg': array([0., 1., 0.], dtype=float32), 'DSC_0511rot90.jpg': array([0., 1., 0.], dtype=float32), 'DSC_0327.JPG': array([0., 1., 0.], dtype=float32), 'DSC_0330flip.jpg': array([0., 1., 0.], dtype=float32), 'DSC_0317.JPG': array([0., 1., 0.], dtype=float32), 'DSC_0508.jpg': array([0., 1., 0.], dtype=float32), 'DSC_0335blur.jpg': array([0., 1., 0.], dtype=float32), 'DSC_0316blur.jpg': array([0., 1., 0.], dtype=float32), 'DSC_0318rot90.jpg': array([0., 1., 0.], dtype=float32), 'DSC_0330blur.jpg': array([0., 1., 0.], dtype=float32), 'DSC_0510flip.jpg': array([0., 1., 0.], dtype=float32), 'DSC_0327blur.jpg': array([0., 1., 0.], dtype=float32), 'DSC_0513blur.jpg': array([0., 1., 0.], dtype=float32), 'DSC_0327rot90.jpg': array([0., 1., 0.], dtype=float32), 'DSC_0308blur.jpg': array([0., 1., 0.], dtype=float32), 'DSC_0315rot90.jpg': array([0., 1., 0.], dtype=float32), 'DSC_0328.jpg': array([0., 1., 0.], dtype=float32), 'DSC_0321flip.jpg': array([0., 1., 0.], dtype=float32), 'DSC_0507rot90.jpg': array([0., 1., 0.], dtype=float32), 'DSC_0505blur.jpg': array([0., 1., 0.], dtype=float32), 'DSC_0331flip.jpg': array([0., 1., 0.], dtype=float32), 'DSC_0500flip.jpg': array([0., 1., 0.], dtype=float32), 'DSC_0339flip.jpg': array([0., 1., 0.], dtype=float32), 'DSC_0513rot90.jpg': array([0., 1., 0.], dtype=float32), 'DSC_0500rot90.jpg': array([0., 1., 0.], dtype=float32), 'DSC_0330rot90.jpg': array([0., 1., 0.], dtype=float32), 'DSC_0322flip.jpg': array([0., 1., 0.], dtype=float32), 'DSC_0317rot90.jpg': array([0., 1., 0.], dtype=float32), 'DSC_0314.JPG': array([0., 1., 0.], dtype=float32), 'DSC_0506.jpg': array([0., 1., 0.], dtype=float32), 'DSC_0516flip.jpg': array([0., 1., 0.], dtype=float32), 'DSC_0320.JPG': array([0., 1., 0.], dtype=float32), 'DSC_0514blur.jpg': array([0., 1., 0.], dtype=float32), 'DSC_0322rot90.jpg': array([0., 1., 0.], dtype=float32), 'DSC_0318.JPG': array([0., 1., 0.], dtype=float32), 'DSC_0338blur.jpg': array([0., 1., 0.], dtype=float32), 'DSC_0507blur.jpg': array([0., 1., 0.], dtype=float32), 'DSC_0505.jpg': array([0., 1., 0.], dtype=float32), 'DSC_0321.JPG': array([0., 1., 0.], dtype=float32), 'DSC_0511.jpg': array([0., 1., 0.], dtype=float32), 'DSC_0319rot90.jpg': array([0., 1., 0.], dtype=float32), 'DSC_0316flip.jpg': array([0., 1., 0.], dtype=float32), 'DSC_0502.jpg': array([0., 1., 0.], dtype=float32), 'DSC_0313blur.jpg': array([0., 1., 0.], dtype=float32), 'DSC_0335rot90.jpg': array([0., 1., 0.], dtype=float32), 'DSC_0319blur.jpg': array([0., 1., 0.], dtype=float32), 'DSC_0503flip.jpg': array([0., 1., 0.], dtype=float32), 'DSC_0293.JPG': array([0., 1., 0.], dtype=float32), 'DSC_0313rot90.jpg': array([0., 1., 0.], dtype=float32), 'DSC_0335.JPG': array([0., 1., 0.], dtype=float32), 'DSC_0328flip.jpg': array([0., 1., 0.], dtype=float32), 'DSC_0510.jpg': array([0., 1., 0.], dtype=float32), 'DSC_0509flip.jpg': array([0., 1., 0.], dtype=float32), 'DSC_0511flip.jpg': array([0., 1., 0.], dtype=float32), 'DSC_0327flip.jpg': array([0., 1., 0.], dtype=float32), 'DSC_0310rot90.jpg': array([0., 1., 0.], dtype=float32), 'DSC_0508rot90.jpg': array([0., 1., 0.], dtype=float32), 'DSC_0516.jpg': array([0., 1., 0.], dtype=float32), 'DSC_0331blur.jpg': array([0., 1., 0.], dtype=float32), 'DSC_0509.jpg': array([0., 1., 0.], dtype=float32), 'DSC_0508blur.jpg': array([0., 1., 0.], dtype=float32), 'DSC_0314flip.jpg': array([0., 1., 0.], dtype=float32), 'DSC_0512rot90.jpg': array([0., 1., 0.], dtype=float32), 'DSC_0500.jpg': array([0., 1., 0.], dtype=float32), 'DSC_0319flip.jpg': array([0., 1., 0.], dtype=float32), 'DSC_0316.JPG': array([0., 1., 0.], dtype=float32), 'DSC_0336rot90.jpg': array([0., 1., 0.], dtype=float32), 'DSC_0310blur.jpg': array([0., 1., 0.], dtype=float32), 'DSC_0515blur.jpg': array([0., 1., 0.], dtype=float32), 'DSC_0513.jpg': array([0., 1., 0.], dtype=float32), 'DSC_0512blur.jpg': array([0., 1., 0.], dtype=float32), 'DSC_0513flip.jpg': array([0., 1., 0.], dtype=float32), 'DSC_0320blur.jpg': array([0., 1., 0.], dtype=float32), 'DSC_0516rot90.jpg': array([0., 1., 0.], dtype=float32), 'DSC_0319.jpg': array([0., 1., 0.], dtype=float32), 'DSC_0512.jpg': array([0., 1., 0.], dtype=float32), 'DSC_0309flip.jpg': array([0., 1., 0.], dtype=float32), 'DSC_0503rot90.jpg': array([0., 1., 0.], dtype=float32), 'DSC_0507flip.jpg': array([0., 1., 0.], dtype=float32), 'DSC_0503.jpg': array([0., 1., 0.], dtype=float32), 'DSC_0502flip.jpg': array([0., 1., 0.], dtype=float32), 'DSC_0312flip.jpg': array([0., 1., 0.], dtype=float32), 'DSC_0293rot90.jpg': array([0., 1., 0.], dtype=float32), 'DSC_0308rot90.jpg': array([0., 1., 0.], dtype=float32), 'DSC_0515rot90.jpg': array([0., 1., 0.], dtype=float32), 'DSC_0312.JPG': array([0., 1., 0.], dtype=float32), 'DSC_0500blur.jpg': array([0., 1., 0.], dtype=float32), 'DSC_0312rot90.jpg': array([0., 1., 0.], dtype=float32), 'DSC_0501.jpg': array([0., 1., 0.], dtype=float32), 'DSC_0310.JPG': array([0., 1., 0.], dtype=float32)}\n"
          ]
        }
      ],
      "source": [
        "print(img_label)"
      ]
    },
    {
      "cell_type": "code",
      "execution_count": null,
      "metadata": {
        "id": "4kPsNzqHQ_gU"
      },
      "outputs": [],
      "source": [
        "def load_image(image_path):\n",
        "    '''\n",
        "      Converts the image to size = (299,299,3) and normalizes the data\n",
        "      Args :\n",
        "      image_path : str. Image path for processing the image\n",
        "    '''\n",
        "    img = tf.io.read_file(image_path)\n",
        "    img = tf.image.decode_jpeg(img, channels=3)\n",
        "    img = tf.image.resize(img, (299, 299))\n",
        "    # Normalizing the image\n",
        "    img = tf.keras.applications.inception_v3.preprocess_input(img)\n",
        "    return img, image_path"
      ]
    },
    {
      "cell_type": "code",
      "execution_count": null,
      "metadata": {
        "id": "U5_TOSCDQ_dy",
        "colab": {
          "base_uri": "https://localhost:8080/"
        },
        "outputId": "0094d700-94fc-4e1b-b79f-bb8428ccbb25"
      },
      "outputs": [
        {
          "output_type": "stream",
          "name": "stdout",
          "text": [
            "image has a shape of (299, 299, 3)\n",
            "tf.Tensor(1.0, shape=(), dtype=float32)\n"
          ]
        }
      ],
      "source": [
        "# Test code for checking the image shape and max value of image\n",
        "os.chdir('paddy_disease_classification/train')\n",
        "image, path = load_image('DSC_0112blur.jpg')\n",
        "print(f\"image has a shape of {image.shape}\")\n",
        "print(tf.reduce_max(image))\n",
        "os.chdir('/content')"
      ]
    },
    {
      "cell_type": "code",
      "execution_count": null,
      "metadata": {
        "id": "WUKSdu0hRNw_",
        "colab": {
          "base_uri": "https://localhost:8080/"
        },
        "outputId": "92ce8b76-3c7e-4f10-feb9-0cd052f9db85"
      },
      "outputs": [
        {
          "output_type": "stream",
          "name": "stdout",
          "text": [
            "Length of training images = 432\n",
            "Length of training labels = 432\n",
            "Length of validating images = 48\n",
            "Length of validating labels = 48\n"
          ]
        }
      ],
      "source": [
        "# differentiating the complete dataset into training and validating datasets.\n",
        "img_name_train, img_name_val, output_label_train, output_label_val = train_test_split(\n",
        "                                                                    list(img_label.keys()),\n",
        "                                                                    list(img_label.values()),\n",
        "                                                                    test_size=0.1,\n",
        "                                                                    random_state=0)\n",
        "\n",
        "print(f'Length of training images = {len(img_name_train)}')\n",
        "print(f'Length of training labels = {len(output_label_train)}')\n",
        "print(f\"Length of validating images = {len(img_name_val)}\")\n",
        "print(f'Length of validating labels = {len(output_label_val)}')"
      ]
    },
    {
      "cell_type": "code",
      "execution_count": null,
      "metadata": {
        "id": "--oB771ZRNup",
        "colab": {
          "base_uri": "https://localhost:8080/"
        },
        "outputId": "ec2e40b2-8d29-4d84-c098-3417c198c987"
      },
      "outputs": [
        {
          "output_type": "stream",
          "name": "stderr",
          "text": [
            "100%|██████████| 432/432 [00:05<00:00, 74.24it/s]\n",
            "100%|██████████| 48/48 [00:00<00:00, 65.69it/s]\n"
          ]
        }
      ],
      "source": [
        "os.chdir('paddy_disease_classification/train')\n",
        "\n",
        "channels = 3\n",
        "\n",
        "train_images = np.ndarray(shape=(len(img_name_train), IMG_SHAPE, IMG_SHAPE, channels), dtype=np.float32)\n",
        "train_labels = np.ndarray(shape=(len(output_label_train), 3 ), dtype=np.float32)\n",
        "val_images = np.ndarray(shape=(len(img_name_val), IMG_SHAPE, IMG_SHAPE, channels), dtype=np.float32)\n",
        "val_labels = np.ndarray(shape=(len(output_label_val), 3 ), dtype=np.float32)\n",
        "\n",
        "i=0\n",
        "for image in tqdm(list(img_name_train)):\n",
        "  x, path = load_image(image)\n",
        "  train_images[i] = x\n",
        "  train_labels[i] = np.asarray(output_label_train[i])\n",
        "  i += 1\n",
        "\n",
        "\n",
        "i=0\n",
        "for image in tqdm(list(img_name_val)):\n",
        "  x, path = load_image(image)\n",
        "  val_images[i] = x\n",
        "  val_labels[i] = np.asarray(output_label_val[i])\n",
        "  i += 1\n",
        "\n",
        "os.chdir('/content')"
      ]
    },
    {
      "cell_type": "code",
      "execution_count": null,
      "metadata": {
        "id": "m17crgDUnGjl",
        "colab": {
          "base_uri": "https://localhost:8080/"
        },
        "outputId": "83edd3f2-fb7a-4772-ed22-73d77c56b2ec"
      },
      "outputs": [
        {
          "output_type": "execute_result",
          "data": {
            "text/plain": [
              "((432, 299, 299, 3), (432, 3))"
            ]
          },
          "metadata": {},
          "execution_count": 45
        }
      ],
      "source": [
        "train_images.shape, train_labels.shape"
      ]
    },
    {
      "cell_type": "code",
      "execution_count": null,
      "metadata": {
        "id": "v_OwxQiHe60b"
      },
      "outputs": [],
      "source": [
        "paddyNet = Sequential()\n",
        "\n",
        "# Unit 1\n",
        "paddyNet.add(Conv2D(32, (5,5), activation='relu', input_shape=(299, 299, 3)))\n",
        "paddyNet.add(MaxPooling2D(pool_size=(2, 2)))\n",
        "\n",
        "# Unit 2\n",
        "paddyNet.add(Conv2D(16, (5,5), activation='relu'))\n",
        "paddyNet.add(MaxPooling2D(pool_size=(2, 2)))\n",
        "\n",
        "paddyNet.add(Conv2D(8, (5,5), activation='relu'))\n",
        "paddyNet.add(MaxPooling2D(pool_size=(2, 2)))\n",
        "\n",
        "#unit 4\n",
        "paddyNet.add(Flatten())\n",
        "paddyNet.add(Dense(32, activation=\"relu\"))\n",
        "paddyNet.add(Dense(3, activation=\"sigmoid\"))"
      ]
    },
    {
      "cell_type": "code",
      "execution_count": null,
      "metadata": {
        "id": "juzv6ueja2TX",
        "colab": {
          "base_uri": "https://localhost:8080/"
        },
        "outputId": "73b56eba-43ec-45fe-eed8-9529fc0699ef"
      },
      "outputs": [
        {
          "output_type": "stream",
          "name": "stdout",
          "text": [
            "Model: \"sequential\"\n",
            "_________________________________________________________________\n",
            " Layer (type)                Output Shape              Param #   \n",
            "=================================================================\n",
            " conv2d (Conv2D)             (None, 295, 295, 32)      2432      \n",
            "                                                                 \n",
            " max_pooling2d (MaxPooling2  (None, 147, 147, 32)      0         \n",
            " D)                                                              \n",
            "                                                                 \n",
            " conv2d_1 (Conv2D)           (None, 143, 143, 16)      12816     \n",
            "                                                                 \n",
            " max_pooling2d_1 (MaxPoolin  (None, 71, 71, 16)        0         \n",
            " g2D)                                                            \n",
            "                                                                 \n",
            " conv2d_2 (Conv2D)           (None, 67, 67, 8)         3208      \n",
            "                                                                 \n",
            " max_pooling2d_2 (MaxPoolin  (None, 33, 33, 8)         0         \n",
            " g2D)                                                            \n",
            "                                                                 \n",
            " flatten (Flatten)           (None, 8712)              0         \n",
            "                                                                 \n",
            " dense (Dense)               (None, 32)                278816    \n",
            "                                                                 \n",
            " dense_1 (Dense)             (None, 3)                 99        \n",
            "                                                                 \n",
            "=================================================================\n",
            "Total params: 297371 (1.13 MB)\n",
            "Trainable params: 297371 (1.13 MB)\n",
            "Non-trainable params: 0 (0.00 Byte)\n",
            "_________________________________________________________________\n"
          ]
        }
      ],
      "source": [
        "paddyNet.summary()"
      ]
    },
    {
      "cell_type": "code",
      "execution_count": null,
      "metadata": {
        "id": "C9FhzMlRe8xP",
        "colab": {
          "base_uri": "https://localhost:8080/"
        },
        "outputId": "64557239-c66d-42bb-9129-c4dc38bdbc53"
      },
      "outputs": [
        {
          "output_type": "stream",
          "name": "stdout",
          "text": [
            "Epoch 1/10\n",
            "14/14 [==============================] - 18s 196ms/step - loss: 1.1070 - accuracy: 0.4167 - val_loss: 0.9798 - val_accuracy: 0.5208\n",
            "Epoch 2/10\n",
            "14/14 [==============================] - 1s 81ms/step - loss: 0.9482 - accuracy: 0.5370 - val_loss: 0.8428 - val_accuracy: 0.7083\n",
            "Epoch 3/10\n",
            "14/14 [==============================] - 1s 66ms/step - loss: 0.8332 - accuracy: 0.6319 - val_loss: 0.8069 - val_accuracy: 0.7292\n",
            "Epoch 4/10\n",
            "14/14 [==============================] - 1s 65ms/step - loss: 0.7263 - accuracy: 0.6852 - val_loss: 0.6888 - val_accuracy: 0.6875\n",
            "Epoch 5/10\n",
            "14/14 [==============================] - 1s 65ms/step - loss: 0.5348 - accuracy: 0.7778 - val_loss: 0.8311 - val_accuracy: 0.6458\n",
            "Epoch 6/10\n",
            "14/14 [==============================] - 1s 67ms/step - loss: 0.4038 - accuracy: 0.8333 - val_loss: 0.5413 - val_accuracy: 0.7292\n",
            "Epoch 7/10\n",
            "14/14 [==============================] - 1s 65ms/step - loss: 0.2799 - accuracy: 0.8981 - val_loss: 0.5658 - val_accuracy: 0.7083\n",
            "Epoch 8/10\n",
            "14/14 [==============================] - 1s 65ms/step - loss: 0.2163 - accuracy: 0.9167 - val_loss: 0.5712 - val_accuracy: 0.7917\n",
            "Epoch 9/10\n",
            "14/14 [==============================] - 1s 65ms/step - loss: 0.1534 - accuracy: 0.9398 - val_loss: 0.5699 - val_accuracy: 0.8125\n",
            "Epoch 10/10\n",
            "14/14 [==============================] - 1s 66ms/step - loss: 0.1512 - accuracy: 0.9444 - val_loss: 0.6143 - val_accuracy: 0.8542\n"
          ]
        }
      ],
      "source": [
        "paddyNet.compile(optimizer='adam',\n",
        "              loss='categorical_crossentropy',\n",
        "              metrics=['accuracy'])\n",
        "\n",
        "EPOCHS=10\n",
        "\n",
        "paddyNet_history = paddyNet.fit(train_images, train_labels, epochs=EPOCHS,\n",
        "                    validation_data=(val_images, val_labels))"
      ]
    },
    {
      "cell_type": "code",
      "source": [
        "acc = paddyNet_history.history['accuracy']\n",
        "val_acc = paddyNet_history.history['val_accuracy']\n",
        "\n",
        "loss = paddyNet_history.history['loss']\n",
        "val_loss = paddyNet_history.history['val_loss']\n",
        "\n",
        "epochs_range = range(EPOCHS)\n",
        "plt.figure(num=None, figsize=(20,20), dpi=40, facecolor='w', edgecolor='k')\n",
        "\n",
        "plt.subplot(1, 2, 1)\n",
        "plt.plot(epochs_range, acc, label='Training Accuracy')\n",
        "plt.plot(epochs_range, val_acc, label = 'validation Accuracy')\n",
        "plt.legend(loc='lower right',fontsize=20)\n",
        "plt.title('Accuracy Plot',fontsize=30)\n",
        "plt.xlabel('Number of Epochs',fontsize=30)\n",
        "plt.ylabel('Accuracy',fontsize=30)\n",
        "plt.xticks(fontsize=20)\n",
        "plt.yticks(fontsize=20)\n",
        "\n",
        "plt.subplot(1, 2, 2)\n",
        "plt.plot(epochs_range, loss, label='Training Loss')\n",
        "plt.plot(epochs_range, val_loss, label = 'validation Loss')\n",
        "plt.legend(loc='upper right',fontsize=20)\n",
        "plt.title('Loss Plot',fontsize=30)\n",
        "plt.xlabel('Number of Epochs',fontsize=30)\n",
        "plt.ylabel('Loss',fontsize=30)\n",
        "plt.xticks(fontsize=20)\n",
        "plt.yticks(fontsize=20)\n",
        "plt.show()"
      ],
      "metadata": {
        "id": "CTvOUdF7vzem",
        "colab": {
          "base_uri": "https://localhost:8080/",
          "height": 693
        },
        "outputId": "76d49f5b-0949-4ec1-adc1-83d480bdd620"
      },
      "execution_count": null,
      "outputs": [
        {
          "output_type": "display_data",
          "data": {
            "text/plain": [
              "<Figure size 800x800 with 2 Axes>"
            ],
            "image/png": "[encoded data removed]"
          },
          "metadata": {}
        }
      ]
    },
    {
      "cell_type": "code",
      "execution_count": null,
      "metadata": {
        "id": "MmdKTofS2EqN"
      },
      "outputs": [],
      "source": []
    },
    {
      "cell_type": "code",
      "execution_count": null,
      "metadata": {
        "id": "FsTPKKeN2ElN"
      },
      "outputs": [],
      "source": [
        "from tensorflow.keras.applications import InceptionResNetV2"
      ]
    },
    {
      "cell_type": "code",
      "execution_count": null,
      "metadata": {
        "id": "tjC_1QiWQMr8",
        "colab": {
          "base_uri": "https://localhost:8080/"
        },
        "outputId": "e3f6dbe9-7e20-4560-e3bb-0f07b6639c57"
      },
      "outputs": [
        {
          "output_type": "stream",
          "name": "stdout",
          "text": [
            "Downloading data from https://storage.googleapis.com/tensorflow/keras-applications/inception_resnet_v2/inception_resnet_v2_weights_tf_dim_ordering_tf_kernels.h5\n",
            "225209952/225209952 [==============================] - 11s 0us/step\n"
          ]
        }
      ],
      "source": [
        "# Pre trained model\n",
        "inception_resnet_V2_pre_trained = InceptionResNetV2(include_top=True, weights='imagenet', pooling=None)"
      ]
    },
    {
      "cell_type": "code",
      "execution_count": null,
      "metadata": {
        "id": "Z_YrDYD1Av0r"
      },
      "outputs": [],
      "source": [
        "for layer in inception_resnet_V2_pre_trained.layers:\n",
        "    layer.trainable = True\n",
        "\n",
        "predictions = Dense(3, activation='softmax')(inception_resnet_V2_pre_trained.output)\n",
        "inception_resnet_V2 = Model(inputs=inception_resnet_V2_pre_trained.input, outputs=predictions)"
      ]
    },
    {
      "cell_type": "code",
      "execution_count": null,
      "metadata": {
        "id": "kJHq-EpKUO6h",
        "colab": {
          "base_uri": "https://localhost:8080/"
        },
        "outputId": "972c8267-2fb5-4723-8d90-db578e512270"
      },
      "outputs": [
        {
          "output_type": "stream",
          "name": "stdout",
          "text": [
            "Epoch 1/20\n",
            "44/44 [==============================] - 131s 556ms/step - loss: 1.0977 - accuracy: 0.4097 - val_loss: 1.0988 - val_accuracy: 0.3542\n",
            "Epoch 2/20\n",
            "44/44 [==============================] - 15s 352ms/step - loss: 1.0916 - accuracy: 0.6065 - val_loss: 1.0871 - val_accuracy: 0.4583\n",
            "Epoch 3/20\n",
            "44/44 [==============================] - 16s 356ms/step - loss: 1.0767 - accuracy: 0.7269 - val_loss: 1.0769 - val_accuracy: 0.5833\n",
            "Epoch 4/20\n",
            "44/44 [==============================] - 16s 363ms/step - loss: 1.0635 - accuracy: 0.8519 - val_loss: 1.0647 - val_accuracy: 0.6667\n",
            "Epoch 5/20\n",
            "44/44 [==============================] - 16s 366ms/step - loss: 1.0550 - accuracy: 0.8750 - val_loss: 1.0577 - val_accuracy: 0.7917\n",
            "Epoch 6/20\n",
            "44/44 [==============================] - 16s 369ms/step - loss: 1.0524 - accuracy: 0.8727 - val_loss: 1.0530 - val_accuracy: 0.8333\n",
            "Epoch 7/20\n",
            "44/44 [==============================] - 17s 378ms/step - loss: 1.0490 - accuracy: 0.8958 - val_loss: 1.0475 - val_accuracy: 0.8958\n",
            "Epoch 8/20\n",
            "44/44 [==============================] - 16s 373ms/step - loss: 1.0465 - accuracy: 0.8958 - val_loss: 1.0433 - val_accuracy: 0.9583\n",
            "Epoch 9/20\n",
            "44/44 [==============================] - 16s 372ms/step - loss: 1.0441 - accuracy: 0.9190 - val_loss: 1.0428 - val_accuracy: 0.9375\n",
            "Epoch 10/20\n",
            "44/44 [==============================] - 16s 369ms/step - loss: 1.0415 - accuracy: 0.9398 - val_loss: 1.0434 - val_accuracy: 0.9167\n",
            "Epoch 11/20\n",
            "44/44 [==============================] - 16s 368ms/step - loss: 1.0397 - accuracy: 0.9329 - val_loss: 1.0384 - val_accuracy: 0.9792\n",
            "Epoch 12/20\n",
            "44/44 [==============================] - 16s 369ms/step - loss: 1.0366 - accuracy: 0.9630 - val_loss: 1.0396 - val_accuracy: 0.9375\n",
            "Epoch 13/20\n",
            "44/44 [==============================] - 16s 372ms/step - loss: 1.0357 - accuracy: 0.9468 - val_loss: 1.0406 - val_accuracy: 0.9375\n",
            "Epoch 14/20\n",
            "44/44 [==============================] - 16s 371ms/step - loss: 1.0338 - accuracy: 0.9583 - val_loss: 1.0362 - val_accuracy: 0.9583\n",
            "Epoch 15/20\n",
            "44/44 [==============================] - 16s 368ms/step - loss: 1.0334 - accuracy: 0.9560 - val_loss: 1.0360 - val_accuracy: 0.9375\n",
            "Epoch 16/20\n",
            "44/44 [==============================] - 16s 368ms/step - loss: 1.0338 - accuracy: 0.9444 - val_loss: 1.0389 - val_accuracy: 0.9167\n",
            "Epoch 17/20\n",
            "44/44 [==============================] - 16s 370ms/step - loss: 1.0334 - accuracy: 0.9352 - val_loss: 1.0359 - val_accuracy: 0.9167\n",
            "Epoch 18/20\n",
            "44/44 [==============================] - 16s 369ms/step - loss: 1.0316 - accuracy: 0.9468 - val_loss: 1.0331 - val_accuracy: 0.9375\n",
            "Epoch 19/20\n",
            "44/44 [==============================] - 16s 371ms/step - loss: 1.0302 - accuracy: 0.9491 - val_loss: 1.0314 - val_accuracy: 0.9583\n",
            "Epoch 20/20\n",
            "44/44 [==============================] - 16s 370ms/step - loss: 1.0298 - accuracy: 0.9352 - val_loss: 1.0383 - val_accuracy: 0.8958\n"
          ]
        }
      ],
      "source": [
        "adam = tf.keras.optimizers.Adam(\n",
        "    learning_rate=0.00001, beta_1=0.9, beta_2=0.9999, epsilon=1e-08,\n",
        "    amsgrad=True, name='Adam' )\n",
        "\n",
        "inception_resnet_V2.compile(\n",
        "  optimizer=adam,\n",
        "  loss='categorical_crossentropy',\n",
        "  metrics=['accuracy'])\n",
        "\n",
        "EPOCHS = 20\n",
        "history_inception_resnet_v2 = inception_resnet_V2.fit(\n",
        "    train_images, train_labels,\n",
        "    epochs=EPOCHS,\n",
        "    batch_size=10,\n",
        "    validation_data=(val_images, val_labels)\n",
        ")"
      ]
    },
    {
      "cell_type": "code",
      "execution_count": null,
      "metadata": {
        "id": "Ph8zjWnCBWou"
      },
      "outputs": [],
      "source": [
        "acc = history_inception_resnet_v2.history['accuracy']\n",
        "val_acc = history_inception_resnet_v2.history['val_accuracy']\n",
        "\n",
        "loss = history_inception_resnet_v2.history['loss']\n",
        "val_loss = history_inception_resnet_v2.history['val_loss']"
      ]
    },
    {
      "cell_type": "code",
      "source": [],
      "metadata": {
        "id": "XcbFs5RXvDxO"
      },
      "execution_count": null,
      "outputs": []
    },
    {
      "cell_type": "code",
      "source": [
        "epochs_range = range(EPOCHS)\n",
        "plt.figure(num=None, figsize=(20,20), dpi=40, facecolor='w', edgecolor='k')\n",
        "\n",
        "plt.subplot(1, 2, 1)\n",
        "plt.plot(epochs_range, acc, label='Training Accuracy')\n",
        "plt.plot(epochs_range, val_acc, label = 'validation Accuracy')\n",
        "plt.legend(loc='lower right',fontsize=20)\n",
        "plt.title('Accuracy Plot',fontsize=30)\n",
        "plt.xlabel('Number of Epochs',fontsize=30)\n",
        "plt.ylabel('Accuracy',fontsize=30)\n",
        "plt.xticks(fontsize=20)\n",
        "plt.yticks(fontsize=20)\n",
        "\n",
        "plt.subplot(1, 2, 2)\n",
        "plt.plot(epochs_range, loss, label='Training Loss')\n",
        "plt.plot(epochs_range, val_loss, label = 'validation Loss')\n",
        "plt.legend(loc='upper right',fontsize=20)\n",
        "plt.title('Loss Plot',fontsize=30)\n",
        "plt.xlabel('Number of Epochs',fontsize=30)\n",
        "plt.ylabel('Loss',fontsize=30)\n",
        "plt.xticks(fontsize=20)\n",
        "plt.yticks(fontsize=20)\n",
        "plt.show()"
      ],
      "metadata": {
        "id": "trwvAlg-u619",
        "colab": {
          "base_uri": "https://localhost:8080/",
          "height": 693
        },
        "outputId": "00198ae4-07b4-482a-cd24-7886c3bbcf45"
      },
      "execution_count": null,
      "outputs": [
        {
          "output_type": "display_data",
          "data": {
            "text/plain": [
              "<Figure size 800x800 with 2 Axes>"
            ],
            "image/png": "[encoded data removed]"
          },
          "metadata": {}
        }
      ]
    },
    {
      "cell_type": "code",
      "source": [
        "# acc = history_inception_resnet_v2.history['accuracy']\n",
        "# val_acc = history_inception_resnet_v2.history['val_accuracy']\n",
        "\n",
        "# loss = history_inception_resnet_v2.history['loss']\n",
        "# val_loss = history_inception_resnet_v2.history['val_loss']\n",
        "\n",
        "# epochs_range = range(5)\n",
        "# plt.figure(num=None, figsize=(20,20), dpi=40, facecolor='w', edgecolor='k')\n",
        "\n",
        "# plt.subplot(1, 2, 1)\n",
        "# plt.plot(epochs_range, acc[0:len(acc)-1], label='Training Accuracy')\n",
        "# plt.plot(epochs_range, val_acc[0:len(val_acc)-1], label = 'validation Accuracy')\n",
        "# plt.legend(loc='lower right',fontsize=20)\n",
        "# plt.title('Accuracy Plot',fontsize=30)\n",
        "# plt.xlabel('Number of Epochs',fontsize=30)\n",
        "# plt.ylabel('Accuracy',fontsize=30)\n",
        "# plt.xticks(fontsize=20)\n",
        "# plt.yticks(fontsize=20)\n",
        "\n",
        "# plt.subplot(1, 2, 2)\n",
        "# plt.plot(epochs_range, loss[0:len(loss)-1], label='Training Loss')\n",
        "# plt.plot(epochs_range, val_loss[0:len(val_loss)-1], label = 'validation Loss')\n",
        "# plt.legend(loc='upper right',fontsize=20)\n",
        "# plt.title('Loss Plot',fontsize=30)\n",
        "# plt.xlabel('Number of Epochs',fontsize=30)\n",
        "# plt.ylabel('Loss',fontsize=30)\n",
        "# plt.xticks(fontsize=20)\n",
        "# plt.yticks(fontsize=20)\n",
        "# plt.show()"
      ],
      "metadata": {
        "id": "OrdgZoizn8TC"
      },
      "execution_count": null,
      "outputs": []
    },
    {
      "cell_type": "code",
      "execution_count": null,
      "metadata": {
        "id": "FsbFGw_vYxRw"
      },
      "outputs": [],
      "source": [
        "# # saving the model\n",
        "\n",
        "# export_path_keras = \"./model.h5\"\n",
        "# print(export_path_keras)\n",
        "\n",
        "# inception_resnet_V2.save(export_path_keras)"
      ]
    },
    {
      "cell_type": "code",
      "execution_count": null,
      "metadata": {
        "id": "4XxSltrp7fKm"
      },
      "outputs": [],
      "source": [
        "# retrain = tf.keras.models.load_model(export_path_keras)"
      ]
    },
    {
      "cell_type": "code",
      "execution_count": null,
      "metadata": {
        "id": "NmaaxKpl7rc2"
      },
      "outputs": [],
      "source": [
        "# EPOCHS = 10\n",
        "# history = reloaded.fit(train_data_gen,\n",
        "#                     epochs=EPOCHS,\n",
        "#                     batch_size=10)"
      ]
    },
    {
      "cell_type": "code",
      "execution_count": null,
      "metadata": {
        "id": "TsqrycN28c_v"
      },
      "outputs": [],
      "source": [
        "# acc = history.history['accuracy']\n",
        "\n",
        "# loss = history.history['loss']\n",
        "\n",
        "# epochs_range = range(EPOCHS)\n",
        "\n",
        "# plt.figure(figsize=(8, 8))\n",
        "# plt.subplot(1, 2, 1)\n",
        "# plt.plot(epochs_range, acc, label='Training Accuracy')\n",
        "# plt.legend(loc='lower right')\n",
        "# plt.title('Training Accuracy')\n",
        "\n",
        "# plt.subplot(1, 2, 2)\n",
        "# plt.plot(epochs_range, loss, label='Training Loss')\n",
        "# plt.legend(loc='upper right')\n",
        "# plt.title('Training Loss')\n",
        "# plt.show()"
      ]
    },
    {
      "cell_type": "code",
      "execution_count": null,
      "metadata": {
        "id": "MSHyt-ZoDVtl"
      },
      "outputs": [],
      "source": []
    },
    {
      "cell_type": "code",
      "execution_count": null,
      "metadata": {
        "id": "yu8Oaw1XYOM5"
      },
      "outputs": [],
      "source": [
        "# export_path_sm = \"./inception_resnet_v2\"\n",
        "# print(export_path_sm)\n",
        "\n",
        "# tf.saved_model.save(model, export_path_sm)"
      ]
    },
    {
      "cell_type": "code",
      "execution_count": null,
      "metadata": {
        "id": "vWnyTCe3YP1N"
      },
      "outputs": [],
      "source": [
        "# !zip -r /content/PaddyNet /content/paddynet\n",
        "# files.download(\"PaddyNet.zip\")"
      ]
    },
    {
      "cell_type": "markdown",
      "source": [
        "def Get_Results_Inception_Resnet_V2(folder):\n",
        "  '''\n",
        "    Generates results for Inception_Resnet_V2 model\n",
        "      Folder : (str). : Image_directory\n",
        "  '''\n",
        "  previous_path = os.getcwd()\n",
        "  os.chdir(folder)\n",
        "  current_path = os.getcwd()\n",
        "  predicts = []\n",
        "\n",
        "  for image in tqdm(list(os.listdir(current_path))):\n",
        "    # img = cv2.imread(image)\n",
        "    # median = cv2.medianBlur(img, 5)\n",
        "    # im = Image.fromarray(median)\n",
        "    # im.save(image)\n",
        "\n",
        "    img = keras.preprocessing.image.load_img(image, target_size=(299,299, 3))\n",
        "    img = keras.preprocessing.image.img_to_array(img)\n",
        "    img = np.expand_dims(img, axis=0)\n",
        "    img = tf.keras.applications.inception_v3.preprocess_input(img)\n",
        "\n",
        "    result_inception_resnet_v2['image_names'].append(image)\n",
        "    predicts.append(inception_resnet_V2.predict(img)[0])\n",
        "\n",
        "    if (folder=='Bacterial leaf blight'):\n",
        "      result_inception_resnet_v2['ground_truths'].append(np.asarray([1,0,0]))\n",
        "    elif (folder=='Brown spot'):\n",
        "      result_inception_resnet_v2['ground_truths'].append(np.asarray([0,0,1]))\n",
        "    else:\n",
        "      result_inception_resnet_v2['ground_truths'].append(np.asarray([0,1,0]))\n",
        "\n",
        "  result_inception_resnet_v2['predictions'].append(predicts)"
      ],
      "metadata": {
        "id": "JuOKJym-oSzq"
      }
    },
    {
      "cell_type": "code",
      "source": [],
      "metadata": {
        "id": "ME4tZYHg5V2G"
      },
      "execution_count": null,
      "outputs": []
    },
    {
      "cell_type": "code",
      "execution_count": null,
      "metadata": {
        "id": "MLCXi8aroSz8",
        "colab": {
          "base_uri": "https://localhost:8080/"
        },
        "outputId": "9a940db9-7546-4272-ee5e-5d191fe317af"
      },
      "outputs": [
        {
          "output_type": "stream",
          "name": "stderr",
          "text": [
            "\r  0%|          | 0/20 [00:00<?, ?it/s]"
          ]
        },
        {
          "output_type": "stream",
          "name": "stdout",
          "text": [
            "1/1 [==============================] - 4s 4s/step\n"
          ]
        },
        {
          "output_type": "stream",
          "name": "stderr",
          "text": [
            "\r  5%|▌         | 1/20 [00:04<01:21,  4.31s/it]"
          ]
        },
        {
          "output_type": "stream",
          "name": "stdout",
          "text": [
            "1/1 [==============================] - 0s 38ms/step\n"
          ]
        },
        {
          "output_type": "stream",
          "name": "stderr",
          "text": [
            "\r 10%|█         | 2/20 [00:04<00:33,  1.86s/it]"
          ]
        },
        {
          "output_type": "stream",
          "name": "stdout",
          "text": [
            "1/1 [==============================] - 0s 37ms/step\n",
            "1/1 [==============================] - 0s 37ms/step\n"
          ]
        },
        {
          "output_type": "stream",
          "name": "stderr",
          "text": [
            "\r 20%|██        | 4/20 [00:04<00:12,  1.32it/s]"
          ]
        },
        {
          "output_type": "stream",
          "name": "stdout",
          "text": [
            "1/1 [==============================] - 0s 36ms/step\n",
            "1/1 [==============================] - 0s 41ms/step\n"
          ]
        },
        {
          "output_type": "stream",
          "name": "stderr",
          "text": [
            "\r 30%|███       | 6/20 [00:04<00:06,  2.26it/s]"
          ]
        },
        {
          "output_type": "stream",
          "name": "stdout",
          "text": [
            "1/1 [==============================] - 0s 36ms/step\n"
          ]
        },
        {
          "output_type": "stream",
          "name": "stderr",
          "text": [
            "\r 35%|███▌      | 7/20 [00:04<00:04,  2.74it/s]"
          ]
        },
        {
          "output_type": "stream",
          "name": "stdout",
          "text": [
            "1/1 [==============================] - 0s 36ms/step\n",
            "1/1 [==============================] - 0s 36ms/step\n"
          ]
        },
        {
          "output_type": "stream",
          "name": "stderr",
          "text": [
            "\r 45%|████▌     | 9/20 [00:05<00:02,  3.98it/s]"
          ]
        },
        {
          "output_type": "stream",
          "name": "stdout",
          "text": [
            "1/1 [==============================] - 0s 39ms/step\n"
          ]
        },
        {
          "output_type": "stream",
          "name": "stderr",
          "text": [
            "\r 50%|█████     | 10/20 [00:05<00:02,  4.47it/s]"
          ]
        },
        {
          "output_type": "stream",
          "name": "stdout",
          "text": [
            "1/1 [==============================] - 0s 35ms/step\n"
          ]
        },
        {
          "output_type": "stream",
          "name": "stderr",
          "text": [
            "\r 55%|█████▌    | 11/20 [00:05<00:01,  4.99it/s]"
          ]
        },
        {
          "output_type": "stream",
          "name": "stdout",
          "text": [
            "1/1 [==============================] - 0s 36ms/step\n"
          ]
        },
        {
          "output_type": "stream",
          "name": "stderr",
          "text": [
            "\r 60%|██████    | 12/20 [00:05<00:01,  5.36it/s]"
          ]
        },
        {
          "output_type": "stream",
          "name": "stdout",
          "text": [
            "1/1 [==============================] - 0s 38ms/step\n"
          ]
        },
        {
          "output_type": "stream",
          "name": "stderr",
          "text": [
            "\r 65%|██████▌   | 13/20 [00:05<00:01,  6.09it/s]"
          ]
        },
        {
          "output_type": "stream",
          "name": "stdout",
          "text": [
            "1/1 [==============================] - 0s 38ms/step\n"
          ]
        },
        {
          "output_type": "stream",
          "name": "stderr",
          "text": [
            "\r 70%|███████   | 14/20 [00:05<00:00,  6.83it/s]"
          ]
        },
        {
          "output_type": "stream",
          "name": "stdout",
          "text": [
            "1/1 [==============================] - 0s 36ms/step\n",
            "1/1 [==============================] - 0s 45ms/step\n"
          ]
        },
        {
          "output_type": "stream",
          "name": "stderr",
          "text": [
            "\r 80%|████████  | 16/20 [00:06<00:00,  7.53it/s]"
          ]
        },
        {
          "output_type": "stream",
          "name": "stdout",
          "text": [
            "1/1 [==============================] - 0s 37ms/step\n"
          ]
        },
        {
          "output_type": "stream",
          "name": "stderr",
          "text": [
            "\r 85%|████████▌ | 17/20 [00:06<00:00,  7.50it/s]"
          ]
        },
        {
          "output_type": "stream",
          "name": "stdout",
          "text": [
            "1/1 [==============================] - 0s 35ms/step\n"
          ]
        },
        {
          "output_type": "stream",
          "name": "stderr",
          "text": [
            "\r 90%|█████████ | 18/20 [00:06<00:00,  7.56it/s]"
          ]
        },
        {
          "output_type": "stream",
          "name": "stdout",
          "text": [
            "1/1 [==============================] - 0s 35ms/step\n"
          ]
        },
        {
          "output_type": "stream",
          "name": "stderr",
          "text": [
            "\r 95%|█████████▌| 19/20 [00:06<00:00,  7.59it/s]"
          ]
        },
        {
          "output_type": "stream",
          "name": "stdout",
          "text": [
            "1/1 [==============================] - 0s 38ms/step\n"
          ]
        },
        {
          "output_type": "stream",
          "name": "stderr",
          "text": [
            "100%|██████████| 20/20 [00:06<00:00,  3.06it/s]\n",
            "  0%|          | 0/20 [00:00<?, ?it/s]"
          ]
        },
        {
          "output_type": "stream",
          "name": "stdout",
          "text": [
            "1/1 [==============================] - 0s 35ms/step\n"
          ]
        },
        {
          "output_type": "stream",
          "name": "stderr",
          "text": [
            "\r  5%|▌         | 1/20 [00:00<00:02,  8.10it/s]"
          ]
        },
        {
          "output_type": "stream",
          "name": "stdout",
          "text": [
            "1/1 [==============================] - 0s 37ms/step\n",
            "1/1 [==============================] - 0s 36ms/step\n"
          ]
        },
        {
          "output_type": "stream",
          "name": "stderr",
          "text": [
            "\r 15%|█▌        | 3/20 [00:00<00:01,  9.71it/s]"
          ]
        },
        {
          "output_type": "stream",
          "name": "stdout",
          "text": [
            "1/1 [==============================] - 0s 38ms/step\n"
          ]
        },
        {
          "output_type": "stream",
          "name": "stderr",
          "text": [
            "\r 20%|██        | 4/20 [00:00<00:01,  9.00it/s]"
          ]
        },
        {
          "output_type": "stream",
          "name": "stdout",
          "text": [
            "1/1 [==============================] - 0s 35ms/step\n"
          ]
        },
        {
          "output_type": "stream",
          "name": "stderr",
          "text": [
            "\r 25%|██▌       | 5/20 [00:00<00:01,  8.72it/s]"
          ]
        },
        {
          "output_type": "stream",
          "name": "stdout",
          "text": [
            "1/1 [==============================] - 0s 35ms/step\n"
          ]
        },
        {
          "output_type": "stream",
          "name": "stderr",
          "text": [
            "\r 30%|███       | 6/20 [00:00<00:01,  8.52it/s]"
          ]
        },
        {
          "output_type": "stream",
          "name": "stdout",
          "text": [
            "1/1 [==============================] - 0s 35ms/step\n",
            "1/1 [==============================] - 0s 37ms/step\n"
          ]
        },
        {
          "output_type": "stream",
          "name": "stderr",
          "text": [
            "\r 40%|████      | 8/20 [00:00<00:01,  8.70it/s]"
          ]
        },
        {
          "output_type": "stream",
          "name": "stdout",
          "text": [
            "1/1 [==============================] - 0s 40ms/step\n"
          ]
        },
        {
          "output_type": "stream",
          "name": "stderr",
          "text": [
            "\r 45%|████▌     | 9/20 [00:01<00:01,  8.90it/s]"
          ]
        },
        {
          "output_type": "stream",
          "name": "stdout",
          "text": [
            "1/1 [==============================] - 0s 40ms/step\n"
          ]
        },
        {
          "output_type": "stream",
          "name": "stderr",
          "text": [
            "\r 50%|█████     | 10/20 [00:01<00:01,  8.60it/s]"
          ]
        },
        {
          "output_type": "stream",
          "name": "stdout",
          "text": [
            "1/1 [==============================] - 0s 39ms/step\n"
          ]
        },
        {
          "output_type": "stream",
          "name": "stderr",
          "text": [
            "\r 55%|█████▌    | 11/20 [00:01<00:01,  8.36it/s]"
          ]
        },
        {
          "output_type": "stream",
          "name": "stdout",
          "text": [
            "1/1 [==============================] - 0s 36ms/step\n"
          ]
        },
        {
          "output_type": "stream",
          "name": "stderr",
          "text": [
            "\r 60%|██████    | 12/20 [00:01<00:00,  8.76it/s]"
          ]
        },
        {
          "output_type": "stream",
          "name": "stdout",
          "text": [
            "1/1 [==============================] - 0s 45ms/step\n"
          ]
        },
        {
          "output_type": "stream",
          "name": "stderr",
          "text": [
            "\r 65%|██████▌   | 13/20 [00:01<00:00,  8.95it/s]"
          ]
        },
        {
          "output_type": "stream",
          "name": "stdout",
          "text": [
            "1/1 [==============================] - 0s 37ms/step\n"
          ]
        },
        {
          "output_type": "stream",
          "name": "stderr",
          "text": [
            "\r 70%|███████   | 14/20 [00:01<00:00,  8.67it/s]"
          ]
        },
        {
          "output_type": "stream",
          "name": "stdout",
          "text": [
            "1/1 [==============================] - 0s 41ms/step\n"
          ]
        },
        {
          "output_type": "stream",
          "name": "stderr",
          "text": [
            "\r 75%|███████▌  | 15/20 [00:01<00:00,  8.44it/s]"
          ]
        },
        {
          "output_type": "stream",
          "name": "stdout",
          "text": [
            "1/1 [==============================] - 0s 36ms/step\n"
          ]
        },
        {
          "output_type": "stream",
          "name": "stderr",
          "text": [
            "\r 80%|████████  | 16/20 [00:01<00:00,  8.39it/s]"
          ]
        },
        {
          "output_type": "stream",
          "name": "stdout",
          "text": [
            "1/1 [==============================] - 0s 35ms/step\n"
          ]
        },
        {
          "output_type": "stream",
          "name": "stderr",
          "text": [
            "\r 85%|████████▌ | 17/20 [00:01<00:00,  8.69it/s]"
          ]
        },
        {
          "output_type": "stream",
          "name": "stdout",
          "text": [
            "1/1 [==============================] - 0s 36ms/step\n"
          ]
        },
        {
          "output_type": "stream",
          "name": "stderr",
          "text": [
            "\r 90%|█████████ | 18/20 [00:02<00:00,  8.56it/s]"
          ]
        },
        {
          "output_type": "stream",
          "name": "stdout",
          "text": [
            "1/1 [==============================] - 0s 38ms/step\n"
          ]
        },
        {
          "output_type": "stream",
          "name": "stderr",
          "text": [
            "\r 95%|█████████▌| 19/20 [00:02<00:00,  8.86it/s]"
          ]
        },
        {
          "output_type": "stream",
          "name": "stdout",
          "text": [
            "1/1 [==============================] - 0s 37ms/step\n"
          ]
        },
        {
          "output_type": "stream",
          "name": "stderr",
          "text": [
            "100%|██████████| 20/20 [00:02<00:00,  8.77it/s]\n",
            "  0%|          | 0/20 [00:00<?, ?it/s]"
          ]
        },
        {
          "output_type": "stream",
          "name": "stdout",
          "text": [
            "1/1 [==============================] - 0s 37ms/step\n"
          ]
        },
        {
          "output_type": "stream",
          "name": "stderr",
          "text": [
            "\r  5%|▌         | 1/20 [00:00<00:02,  7.42it/s]"
          ]
        },
        {
          "output_type": "stream",
          "name": "stdout",
          "text": [
            "1/1 [==============================] - 0s 35ms/step\n"
          ]
        },
        {
          "output_type": "stream",
          "name": "stderr",
          "text": [
            "\r 10%|█         | 2/20 [00:00<00:02,  7.38it/s]"
          ]
        },
        {
          "output_type": "stream",
          "name": "stdout",
          "text": [
            "1/1 [==============================] - 0s 36ms/step\n"
          ]
        },
        {
          "output_type": "stream",
          "name": "stderr",
          "text": [
            "\r 15%|█▌        | 3/20 [00:00<00:02,  7.97it/s]"
          ]
        },
        {
          "output_type": "stream",
          "name": "stdout",
          "text": [
            "1/1 [==============================] - 0s 38ms/step\n"
          ]
        },
        {
          "output_type": "stream",
          "name": "stderr",
          "text": [
            "\r 20%|██        | 4/20 [00:00<00:01,  8.29it/s]"
          ]
        },
        {
          "output_type": "stream",
          "name": "stdout",
          "text": [
            "1/1 [==============================] - 0s 39ms/step\n"
          ]
        },
        {
          "output_type": "stream",
          "name": "stderr",
          "text": [
            "\r 25%|██▌       | 5/20 [00:00<00:01,  8.39it/s]"
          ]
        },
        {
          "output_type": "stream",
          "name": "stdout",
          "text": [
            "1/1 [==============================] - 0s 38ms/step\n"
          ]
        },
        {
          "output_type": "stream",
          "name": "stderr",
          "text": [
            "\r 30%|███       | 6/20 [00:00<00:01,  8.49it/s]"
          ]
        },
        {
          "output_type": "stream",
          "name": "stdout",
          "text": [
            "1/1 [==============================] - 0s 36ms/step\n"
          ]
        },
        {
          "output_type": "stream",
          "name": "stderr",
          "text": [
            "\r 35%|███▌      | 7/20 [00:00<00:01,  8.13it/s]"
          ]
        },
        {
          "output_type": "stream",
          "name": "stdout",
          "text": [
            "1/1 [==============================] - 0s 60ms/step\n"
          ]
        },
        {
          "output_type": "stream",
          "name": "stderr",
          "text": [
            "\r 40%|████      | 8/20 [00:01<00:01,  7.35it/s]"
          ]
        },
        {
          "output_type": "stream",
          "name": "stdout",
          "text": [
            "1/1 [==============================] - 0s 53ms/step\n"
          ]
        },
        {
          "output_type": "stream",
          "name": "stderr",
          "text": [
            "\r 45%|████▌     | 9/20 [00:01<00:01,  7.20it/s]"
          ]
        },
        {
          "output_type": "stream",
          "name": "stdout",
          "text": [
            "1/1 [==============================] - 0s 63ms/step\n"
          ]
        },
        {
          "output_type": "stream",
          "name": "stderr",
          "text": [
            "\r 50%|█████     | 10/20 [00:01<00:01,  7.02it/s]"
          ]
        },
        {
          "output_type": "stream",
          "name": "stdout",
          "text": [
            "1/1 [==============================] - 0s 53ms/step\n"
          ]
        },
        {
          "output_type": "stream",
          "name": "stderr",
          "text": [
            "\r 55%|█████▌    | 11/20 [00:01<00:01,  6.36it/s]"
          ]
        },
        {
          "output_type": "stream",
          "name": "stdout",
          "text": [
            "1/1 [==============================] - 0s 56ms/step\n"
          ]
        },
        {
          "output_type": "stream",
          "name": "stderr",
          "text": [
            "\r 60%|██████    | 12/20 [00:01<00:01,  6.28it/s]"
          ]
        },
        {
          "output_type": "stream",
          "name": "stdout",
          "text": [
            "1/1 [==============================] - 0s 52ms/step\n"
          ]
        },
        {
          "output_type": "stream",
          "name": "stderr",
          "text": [
            "\r 65%|██████▌   | 13/20 [00:01<00:01,  6.41it/s]"
          ]
        },
        {
          "output_type": "stream",
          "name": "stdout",
          "text": [
            "1/1 [==============================] - 0s 53ms/step\n"
          ]
        },
        {
          "output_type": "stream",
          "name": "stderr",
          "text": [
            "\r 70%|███████   | 14/20 [00:01<00:00,  6.49it/s]"
          ]
        },
        {
          "output_type": "stream",
          "name": "stdout",
          "text": [
            "1/1 [==============================] - 0s 61ms/step\n"
          ]
        },
        {
          "output_type": "stream",
          "name": "stderr",
          "text": [
            "\r 75%|███████▌  | 15/20 [00:02<00:00,  6.38it/s]"
          ]
        },
        {
          "output_type": "stream",
          "name": "stdout",
          "text": [
            "1/1 [==============================] - 0s 63ms/step\n"
          ]
        },
        {
          "output_type": "stream",
          "name": "stderr",
          "text": [
            "\r 80%|████████  | 16/20 [00:02<00:00,  6.31it/s]"
          ]
        },
        {
          "output_type": "stream",
          "name": "stdout",
          "text": [
            "1/1 [==============================] - 0s 53ms/step\n"
          ]
        },
        {
          "output_type": "stream",
          "name": "stderr",
          "text": [
            "\r 85%|████████▌ | 17/20 [00:02<00:00,  6.51it/s]"
          ]
        },
        {
          "output_type": "stream",
          "name": "stdout",
          "text": [
            "1/1 [==============================] - 0s 55ms/step\n"
          ]
        },
        {
          "output_type": "stream",
          "name": "stderr",
          "text": [
            "\r 90%|█████████ | 18/20 [00:02<00:00,  6.32it/s]"
          ]
        },
        {
          "output_type": "stream",
          "name": "stdout",
          "text": [
            "1/1 [==============================] - 0s 52ms/step\n"
          ]
        },
        {
          "output_type": "stream",
          "name": "stderr",
          "text": [
            "\r 95%|█████████▌| 19/20 [00:02<00:00,  6.31it/s]"
          ]
        },
        {
          "output_type": "stream",
          "name": "stdout",
          "text": [
            "1/1 [==============================] - 0s 54ms/step\n"
          ]
        },
        {
          "output_type": "stream",
          "name": "stderr",
          "text": [
            "100%|██████████| 20/20 [00:02<00:00,  6.79it/s]\n"
          ]
        }
      ],
      "source": [
        "result_inception_resnet_v2 = {'predictions':[],'image_names':[],'ground_truths':[]}\n",
        "os.chdir('paddy_disease_classification/testing')\n",
        "\n",
        "for folder in training_classes:\n",
        "  Get_Results_Inception_Resnet_V2(folder)\n",
        "\n",
        "os.chdir('/content')\n",
        "result_inception_resnet_v2['predictions'] = np.asarray(result_inception_resnet_v2['predictions']).reshape((60, 3))"
      ]
    },
    {
      "cell_type": "code",
      "execution_count": null,
      "metadata": {
        "id": "tAoS7tYfsvtg",
        "colab": {
          "base_uri": "https://localhost:8080/"
        },
        "outputId": "bf3992b1-ba0f-4a5a-f9ed-e78e1832d4ba"
      },
      "outputs": [
        {
          "output_type": "stream",
          "name": "stdout",
          "text": [
            "[[1 0 0]\n",
            " [1 0 0]\n",
            " [1 0 0]\n",
            " [1 0 0]\n",
            " [1 0 0]\n",
            " [1 0 0]\n",
            " [1 0 0]\n",
            " [1 0 0]\n",
            " [1 0 0]\n",
            " [1 0 0]\n",
            " [1 0 0]\n",
            " [1 0 0]\n",
            " [1 0 0]\n",
            " [1 0 0]\n",
            " [1 0 0]\n",
            " [1 0 0]\n",
            " [1 0 0]\n",
            " [1 0 0]\n",
            " [1 0 0]\n",
            " [1 0 0]\n",
            " [0 0 1]\n",
            " [0 0 1]\n",
            " [0 0 1]\n",
            " [0 0 1]\n",
            " [0 0 1]\n",
            " [0 0 1]\n",
            " [0 0 1]\n",
            " [0 0 1]\n",
            " [0 0 1]\n",
            " [0 0 1]\n",
            " [0 0 1]\n",
            " [0 0 1]\n",
            " [0 0 1]\n",
            " [0 0 1]\n",
            " [0 0 1]\n",
            " [0 0 1]\n",
            " [0 0 1]\n",
            " [0 0 1]\n",
            " [0 0 1]\n",
            " [0 0 1]\n",
            " [0 1 0]\n",
            " [0 1 0]\n",
            " [0 1 0]\n",
            " [0 1 0]\n",
            " [0 1 0]\n",
            " [0 1 0]\n",
            " [0 1 0]\n",
            " [0 1 0]\n",
            " [0 1 0]\n",
            " [0 1 0]\n",
            " [0 1 0]\n",
            " [0 1 0]\n",
            " [0 1 0]\n",
            " [0 1 0]\n",
            " [0 1 0]\n",
            " [0 1 0]\n",
            " [0 1 0]\n",
            " [0 1 0]\n",
            " [0 1 0]\n",
            " [0 1 0]]\n",
            "[[0.36205977 0.31572327 0.32221696]\n",
            " [0.36206684 0.31572047 0.32221264]\n",
            " [0.36100647 0.31613526 0.3228582 ]\n",
            " [0.3620286  0.31573734 0.32223403]\n",
            " [0.3503462  0.33368644 0.31596738]\n",
            " [0.3620433  0.31573898 0.32221776]\n",
            " [0.32027367 0.3459748  0.33375156]\n",
            " [0.3379572  0.3279267  0.33411607]\n",
            " [0.36201465 0.3157572  0.32222813]\n",
            " [0.3602147  0.316709   0.3230763 ]\n",
            " [0.34998575 0.3231332  0.32688108]\n",
            " [0.36203906 0.31573102 0.32222992]\n",
            " [0.36206326 0.31572497 0.32221177]\n",
            " [0.3620233  0.31575564 0.32222107]\n",
            " [0.35806152 0.31841674 0.3235218 ]\n",
            " [0.36196586 0.31575856 0.32227555]\n",
            " [0.345479   0.324383   0.33013803]\n",
            " [0.36157125 0.3160221  0.32240668]\n",
            " [0.34727135 0.32954833 0.32318035]\n",
            " [0.34773177 0.3188859  0.33338237]\n",
            " [0.32811338 0.31845507 0.35343155]\n",
            " [0.3253335  0.31223658 0.36242995]\n",
            " [0.30074903 0.34816933 0.3510816 ]\n",
            " [0.32570702 0.31469077 0.35960218]\n",
            " [0.32602492 0.31432822 0.35964683]\n",
            " [0.32532695 0.31221446 0.3624586 ]\n",
            " [0.3271536  0.31733024 0.35551614]\n",
            " [0.3256521  0.31512433 0.3592236 ]\n",
            " [0.32576066 0.31419662 0.36004266]\n",
            " [0.32533005 0.3122266  0.36244333]\n",
            " [0.3006781  0.3481987  0.35112315]\n",
            " [0.31323722 0.34514624 0.34161657]\n",
            " [0.3281207  0.31847602 0.3534033 ]\n",
            " [0.32533097 0.312228   0.36244097]\n",
            " [0.30068094 0.34819487 0.35112417]\n",
            " [0.3253298  0.3122249  0.3624453 ]\n",
            " [0.32532704 0.31221482 0.3624581 ]\n",
            " [0.32564813 0.31332177 0.36103007]\n",
            " [0.30498084 0.34214702 0.35287213]\n",
            " [0.32578424 0.31573978 0.35847598]\n",
            " [0.3140843  0.35396647 0.3319493 ]\n",
            " [0.3125428  0.35751358 0.32994363]\n",
            " [0.31248683 0.35759026 0.32992294]\n",
            " [0.3125384  0.35751745 0.3299441 ]\n",
            " [0.33609366 0.35263443 0.3112719 ]\n",
            " [0.31257096 0.3569148  0.33051422]\n",
            " [0.30908164 0.34752464 0.34339374]\n",
            " [0.34118646 0.32409614 0.3347174 ]\n",
            " [0.31242758 0.35757783 0.32999456]\n",
            " [0.3046168  0.3504146  0.3449686 ]\n",
            " [0.3124953  0.35756853 0.32993615]\n",
            " [0.33597258 0.35277507 0.31125236]\n",
            " [0.31259194 0.35746482 0.32994333]\n",
            " [0.33527333 0.33141482 0.33331183]\n",
            " [0.31249055 0.3575796  0.32992986]\n",
            " [0.33461726 0.34939766 0.31598508]\n",
            " [0.33666164 0.35189682 0.3114415 ]\n",
            " [0.3123941  0.35768566 0.3299202 ]\n",
            " [0.33597958 0.35287252 0.31114793]\n",
            " [0.3152285  0.35490322 0.32986826]]\n",
            "(60, 3)\n",
            "(60, 3)\n"
          ]
        }
      ],
      "source": [
        "print(np.asarray(result_inception_resnet_v2['ground_truths']))\n",
        "print(np.asarray(result_inception_resnet_v2['predictions']))\n",
        "print(np.asarray(result_inception_resnet_v2['ground_truths']).shape)\n",
        "print(np.asarray(result_inception_resnet_v2['predictions']).shape)"
      ]
    },
    {
      "cell_type": "code",
      "execution_count": null,
      "metadata": {
        "id": "RbHHNKOXNNco",
        "colab": {
          "base_uri": "https://localhost:8080/"
        },
        "outputId": "dd32bdbe-8dae-4fc2-8a81-5ee889f84ec2"
      },
      "outputs": [
        {
          "output_type": "stream",
          "name": "stdout",
          "text": [
            "[[1 0 0]\n",
            " [1 0 0]\n",
            " [1 0 0]\n",
            " [1 0 0]\n",
            " [1 0 0]\n",
            " [1 0 0]\n",
            " [0 1 0]\n",
            " [1 0 0]\n",
            " [1 0 0]\n",
            " [1 0 0]\n",
            " [1 0 0]\n",
            " [1 0 0]\n",
            " [1 0 0]\n",
            " [1 0 0]\n",
            " [1 0 0]\n",
            " [1 0 0]\n",
            " [1 0 0]\n",
            " [1 0 0]\n",
            " [1 0 0]\n",
            " [1 0 0]\n",
            " [0 0 1]\n",
            " [0 0 1]\n",
            " [0 0 1]\n",
            " [0 0 1]\n",
            " [0 0 1]\n",
            " [0 0 1]\n",
            " [0 0 1]\n",
            " [0 0 1]\n",
            " [0 0 1]\n",
            " [0 0 1]\n",
            " [0 0 1]\n",
            " [0 1 0]\n",
            " [0 0 1]\n",
            " [0 0 1]\n",
            " [0 0 1]\n",
            " [0 0 1]\n",
            " [0 0 1]\n",
            " [0 0 1]\n",
            " [0 0 1]\n",
            " [0 0 1]\n",
            " [0 1 0]\n",
            " [0 1 0]\n",
            " [0 1 0]\n",
            " [0 1 0]\n",
            " [0 1 0]\n",
            " [0 1 0]\n",
            " [0 1 0]\n",
            " [1 0 0]\n",
            " [0 1 0]\n",
            " [0 1 0]\n",
            " [0 1 0]\n",
            " [0 1 0]\n",
            " [0 1 0]\n",
            " [1 0 0]\n",
            " [0 1 0]\n",
            " [0 1 0]\n",
            " [0 1 0]\n",
            " [0 1 0]\n",
            " [0 1 0]\n",
            " [0 1 0]]\n",
            "(60, 3)\n"
          ]
        }
      ],
      "source": [
        "pred = np.asarray(result_inception_resnet_v2['predictions'])\n",
        "pred = np.argmax(pred, axis=1).reshape(-1)\n",
        "pred = np.asarray(np.eye(len(training_classes),dtype=int)[pred])\n",
        "print(pred)\n",
        "print(pred.shape)"
      ]
    },
    {
      "cell_type": "code",
      "execution_count": null,
      "metadata": {
        "id": "CPTnc2zp_3xW"
      },
      "outputs": [],
      "source": [
        "fpr = dict()\n",
        "tpr = dict()\n",
        "roc_auc = dict()\n",
        "for i in range(len(training_classes)):\n",
        "    fpr[i], tpr[i], _ = roc_curve(result_inception_resnet_v2['ground_truths'][i], result_inception_resnet_v2['predictions'][i])\n",
        "    roc_auc[i] = auc(fpr[i], tpr[i])\n",
        "\n",
        "# Compute micro-average ROC curve and ROC area\n",
        "fpr[\"micro\"], tpr[\"micro\"], _ = roc_curve(np.asarray(result_inception_resnet_v2['ground_truths']).ravel(),np.asarray(result_inception_resnet_v2['predictions']).ravel())\n",
        "roc_auc[\"micro\"] = auc(fpr[\"micro\"], tpr[\"micro\"])"
      ]
    },
    {
      "cell_type": "code",
      "execution_count": null,
      "metadata": {
        "id": "agjajm5fy2nP",
        "colab": {
          "base_uri": "https://localhost:8080/",
          "height": 507
        },
        "outputId": "d2a95b30-cb12-4e85-e72e-655cd30cae6c"
      },
      "outputs": [
        {
          "output_type": "stream",
          "name": "stderr",
          "text": [
            "<ipython-input-68-ece62020e290>:7: DeprecationWarning: scipy.interp is deprecated and will be removed in SciPy 2.0.0, use numpy.interp instead\n",
            "  mean_tpr += interp(all_fpr, fpr[i], tpr[i])\n"
          ]
        },
        {
          "output_type": "display_data",
          "data": {
            "text/plain": [
              "<Figure size 640x480 with 1 Axes>"
            ],
            "image/png": "[encoded data removed]"
          },
          "metadata": {}
        }
      ],
      "source": [
        "# First aggregate all false positive rates\n",
        "all_fpr = np.unique(np.concatenate([fpr[i] for i in range(len(training_classes))]))\n",
        "\n",
        "# Then interpolate all ROC curves at this points\n",
        "mean_tpr = np.zeros_like(all_fpr)\n",
        "for i in range(len(training_classes)):\n",
        "    mean_tpr += interp(all_fpr, fpr[i], tpr[i])\n",
        "\n",
        "# Finally average it and compute AUC\n",
        "mean_tpr /= len(training_classes)\n",
        "\n",
        "fpr[\"macro\"] = all_fpr\n",
        "tpr[\"macro\"] = mean_tpr\n",
        "roc_auc[\"macro\"] = auc(fpr[\"macro\"], tpr[\"macro\"])\n",
        "\n",
        "# Plot all ROC curves\n",
        "lw = 2\n",
        "plt.figure()\n",
        "plt.plot(fpr[\"micro\"], tpr[\"micro\"],\n",
        "         label='micro-average ROC curve (area = {0:0.2f})'\n",
        "               ''.format(roc_auc[\"micro\"]),\n",
        "         color='deeppink', linestyle=':', linewidth=4)\n",
        "\n",
        "plt.plot(fpr[\"macro\"], tpr[\"macro\"],\n",
        "         label='macro-average ROC curve (area = {0:0.2f})'\n",
        "               ''.format(roc_auc[\"macro\"]),\n",
        "         color='navy', linestyle=':', linewidth=4)\n",
        "\n",
        "colors = cycle(['aqua', 'darkorange', 'cornflowerblue'])\n",
        "for i, color in zip(range(len(training_classes)), colors):\n",
        "    plt.plot(fpr[i], tpr[i], color=color, lw=lw,\n",
        "             label='ROC curve of class {0} (area = {1:0.2f})'\n",
        "             ''.format(i, roc_auc[i]))\n",
        "\n",
        "plt.plot([0, 1], [0, 1], 'k--', lw=lw)\n",
        "plt.xlim([0.0, 1.0])\n",
        "plt.ylim([0.0, 1.05])\n",
        "plt.xlabel('False Positive Rate')\n",
        "plt.ylabel('True Positive Rate')\n",
        "plt.title('Receiver operating characteristic using Inception-Resnet-V2')\n",
        "plt.legend(loc=\"lower right\")\n",
        "plt.show()\n"
      ]
    },
    {
      "cell_type": "code",
      "execution_count": null,
      "metadata": {
        "id": "A-qACXlUFyU_",
        "colab": {
          "base_uri": "https://localhost:8080/",
          "height": 449
        },
        "outputId": "4bd15de0-be5a-45a4-c365-4c23c0db6160"
      },
      "outputs": [
        {
          "output_type": "display_data",
          "data": {
            "text/plain": [
              "<Figure size 640x480 with 2 Axes>"
            ],
            "image/png": "[encoded data removed]"
          },
          "metadata": {}
        }
      ],
      "source": [
        "data = {'y_Actual': [np.where(r==1)[0][0] for r in np.asarray(result_inception_resnet_v2['ground_truths'])],\n",
        "        'y_Predicted': [np.where(r==1)[0][0] for r in pred]\n",
        "        }\n",
        "\n",
        "df = pd.DataFrame(data, columns=['y_Actual','y_Predicted'])\n",
        "confusion_matrix = pd.crosstab(df['y_Actual'], df['y_Predicted'], rownames=['Actual'], colnames=['Predicted'])\n",
        "\n",
        "sn.heatmap(confusion_matrix, annot=True, annot_kws={\"size\": 16})\n",
        "plt.show()"
      ]
    },
    {
      "cell_type": "code",
      "source": [
        "score, acc = inception_resnet_V2.evaluate(val_images, val_labels, verbose = 0)"
      ],
      "metadata": {
        "id": "aHrwH_EX7I1p"
      },
      "execution_count": null,
      "outputs": []
    },
    {
      "cell_type": "code",
      "source": [
        "print(acc)"
      ],
      "metadata": {
        "id": "x9A3HTwz_-7m",
        "colab": {
          "base_uri": "https://localhost:8080/"
        },
        "outputId": "90f92e61-4bde-4ca3-926d-c234e765e90e"
      },
      "execution_count": null,
      "outputs": [
        {
          "output_type": "stream",
          "name": "stdout",
          "text": [
            "0.8958333134651184\n"
          ]
        }
      ]
    },
    {
      "cell_type": "code",
      "execution_count": null,
      "metadata": {
        "id": "LJGm-ByN2MFP",
        "colab": {
          "base_uri": "https://localhost:8080/",
          "height": 192
        },
        "outputId": "10d56637-c165-433a-af31-5cbee49942c6"
      },
      "outputs": [
        {
          "output_type": "error",
          "ename": "NameError",
          "evalue": "ignored",
          "traceback": [
            "\u001b[0;31m---------------------------------------------------------------------------\u001b[0m",
            "\u001b[0;31mNameError\u001b[0m                                 Traceback (most recent call last)",
            "\u001b[0;32m<ipython-input-72-d71bc4636e29>\u001b[0m in \u001b[0;36m<cell line: 2>\u001b[0;34m()\u001b[0m\n\u001b[1;32m      1\u001b[0m \u001b[0msaved_model_path\u001b[0m \u001b[0;34m=\u001b[0m \u001b[0;34m\"model\"\u001b[0m\u001b[0;34m\u001b[0m\u001b[0;34m\u001b[0m\u001b[0m\n\u001b[0;32m----> 2\u001b[0;31m \u001b[0minception_V3\u001b[0m\u001b[0;34m.\u001b[0m\u001b[0msave\u001b[0m\u001b[0;34m(\u001b[0m\u001b[0msaved_model_path\u001b[0m\u001b[0;34m)\u001b[0m\u001b[0;34m\u001b[0m\u001b[0;34m\u001b[0m\u001b[0m\n\u001b[0m",
            "\u001b[0;31mNameError\u001b[0m: name 'inception_V3' is not defined"
          ]
        }
      ],
      "source": [
        "saved_model_path = \"model\"\n",
        "inception_V3.save(saved_model_path)"
      ]
    },
    {
      "cell_type": "code",
      "execution_count": null,
      "metadata": {
        "id": "qwneWWQL2MFV"
      },
      "outputs": [],
      "source": [
        "!tensorflowjs_converter --input_format=keras {saved_model_path} ./"
      ]
    },
    {
      "cell_type": "code",
      "execution_count": null,
      "metadata": {
        "id": "IgV2jfW02MFZ"
      },
      "outputs": [],
      "source": [
        "tfjs.converters.save_keras_model(inception_V3,'OutputModel')"
      ]
    },
    {
      "cell_type": "code",
      "execution_count": null,
      "metadata": {
        "id": "jBFsyudM2MFe"
      },
      "outputs": [],
      "source": [
        "!zip -r /content/tfjs_model.zip /content/OutputModel"
      ]
    },
    {
      "cell_type": "code",
      "execution_count": null,
      "metadata": {
        "id": "u7XbXl-iFxtM"
      },
      "outputs": [],
      "source": []
    },
    {
      "cell_type": "code",
      "execution_count": null,
      "metadata": {
        "id": "aGxJzON7XHvY"
      },
      "outputs": [],
      "source": [
        "pwd"
      ]
    },
    {
      "cell_type": "code",
      "execution_count": null,
      "metadata": {
        "id": "k21XnO7iXHym"
      },
      "outputs": [],
      "source": [
        "retrain = tf.keras.models.load_model(\"./unet_lane_weights.h5\")"
      ]
    },
    {
      "cell_type": "code",
      "execution_count": null,
      "metadata": {
        "id": "8Xjc7shpy2hz"
      },
      "outputs": [],
      "source": [
        ".tfjs.converters.save_keras_model(inception_V3,'OutputModel')"
      ]
    },
    {
      "cell_type": "code",
      "execution_count": null,
      "metadata": {
        "id": "PhEP1lfDsvrA"
      },
      "outputs": [],
      "source": []
    },
    {
      "cell_type": "code",
      "execution_count": null,
      "metadata": {
        "id": "pZ4DK49nbDx3"
      },
      "outputs": [],
      "source": [
        "inception_resnet_V2.summary()"
      ]
    },
    {
      "cell_type": "code",
      "execution_count": null,
      "metadata": {
        "id": "pkzlDJKNP2Ni"
      },
      "outputs": [],
      "source": [
        "os.chdir('/content')"
      ]
    },
    {
      "cell_type": "code",
      "execution_count": null,
      "metadata": {
        "id": "lVKn48jAa-lP"
      },
      "outputs": [],
      "source": [
        "os.chdir('paddy_disease_classification/testing/Leaf smut')\n",
        "test_image = plt.imread('DSC_0293.JPG')\n",
        "img = keras.preprocessing.image.load_img('DSC_0293.JPG', target_size=(299,299, 3))\n",
        "img = keras.preprocessing.image.img_to_array(img)\n",
        "img = np.expand_dims(img, axis=0)\n",
        "img = tf.keras.applications.inception_v3.preprocess_input(img)\n",
        "plt.imshow(test_image)\n",
        "os.chdir('/content')"
      ]
    },
    {
      "cell_type": "code",
      "execution_count": null,
      "metadata": {
        "id": "OlKzWymsbRlK"
      },
      "outputs": [],
      "source": [
        "layer_name = 'block8_1_conv'\n",
        "\n",
        "# Taking output from 'block8_1_conv'\n",
        "layer_output = inception_resnet_V2.get_layer(layer_name).output\n",
        "\n",
        "# Generating a substance model from the pre_trained_model.\n",
        "# model with input layer of pre_trained_model and output layer of 'mixed_7a'\n",
        "feature_extraction_model_1 = tf.keras.Model(inputs=inception_resnet_V2.input, outputs=layer_output)\n",
        "\n",
        "# Extracting the features\n",
        "result = feature_extraction_model_1.predict(img)\n",
        "print(result.shape)\n",
        "print(inception_resnet_V2.predict(img)[0])"
      ]
    },
    {
      "cell_type": "code",
      "execution_count": null,
      "metadata": {
        "id": "cu0-sDoubdWm"
      },
      "outputs": [],
      "source": [
        "\n",
        "'''\tPlotting Various Features obtained from feature_extraction_model. '''\n",
        "plot_limit = 4\n",
        "index = 1\n",
        "i=1500\n",
        "plt.figure(num=None, figsize=(20, 20), dpi=80, facecolor='w', edgecolor='k')\n",
        "for _ in range(plot_limit):\n",
        "\tfor _ in range(plot_limit):\n",
        "\t\t# specify subplot and turn of axis\n",
        "\t\tax = plt.subplot(plot_limit, plot_limit, index)\n",
        "\t\tax.set_xticks([])\n",
        "\t\tax.set_yticks([])\n",
        "\t\t# plot filter channel in grayscale\n",
        "\t\tplt.imshow(result[0, :, :, i-1])\n",
        "\t\tindex += 1;i-=1\n",
        "# show the figure\n",
        "plt.show()\n",
        "# Saving the Plot for future reference.\n",
        "plt.savefig('Activations1.png')"
      ]
    },
    {
      "cell_type": "code",
      "execution_count": null,
      "metadata": {
        "id": "gabC1FTaPVqH"
      },
      "outputs": [],
      "source": [
        "# PLoting various features from the feature_extraction_model\n",
        "plot_limit = 4\n",
        "index = 1\n",
        "layer_no = 1087\n",
        "plt.figure(num=None, figsize=(20, 20), dpi=80, facecolor='w', edgecolor='k')\n",
        "for _ in range(plot_limit):\n",
        "\tfor _ in range(plot_limit):\n",
        "\t\t# specify subplot and turn of axis\n",
        "\t\tax = plt.subplot(plot_limit, plot_limit, index)\n",
        "\t\tax.set_xticks([])\n",
        "\t\tax.set_yticks([])\n",
        "\t\t# plot filter channel in grayscale\n",
        "\t\tplt.imshow(result[0, :, :, layer_no],aspect=\"auto\")\n",
        "\t\tindex += 1;layer_no -= 1;\n",
        "# show the figure\n",
        "plt.show()\n",
        "plt.savefig('Activations2.png')"
      ]
    },
    {
      "cell_type": "code",
      "execution_count": null,
      "metadata": {
        "id": "q2MphuNHh3i4"
      },
      "outputs": [],
      "source": []
    },
    {
      "cell_type": "code",
      "execution_count": null,
      "metadata": {
        "id": "DjZH9gHkh3lz"
      },
      "outputs": [],
      "source": []
    },
    {
      "cell_type": "code",
      "execution_count": null,
      "metadata": {
        "id": "mzueNj-Dh3qW"
      },
      "outputs": [],
      "source": []
    },
    {
      "cell_type": "code",
      "execution_count": null,
      "metadata": {
        "id": "dr21mnbFdFf8"
      },
      "outputs": [],
      "source": []
    },
    {
      "cell_type": "code",
      "execution_count": null,
      "metadata": {
        "id": "fu1yu9OJdFdj"
      },
      "outputs": [],
      "source": []
    },
    {
      "cell_type": "code",
      "execution_count": null,
      "metadata": {
        "id": "Dojd8sXQdFbD"
      },
      "outputs": [],
      "source": []
    },
    {
      "cell_type": "code",
      "execution_count": null,
      "metadata": {
        "id": "F82PmT3Wh3tK"
      },
      "outputs": [],
      "source": [
        "# Pre trained model\n",
        "inception_V3_pre_trained = InceptionV3(include_top=True, weights='imagenet')"
      ]
    },
    {
      "cell_type": "code",
      "execution_count": null,
      "metadata": {
        "id": "OnFJvw3Fh3ye"
      },
      "outputs": [],
      "source": [
        "for layer in inception_V3_pre_trained.layers:\n",
        "    layer.trainable = True\n",
        "\n",
        "predictions = Dense(3, activation='softmax')(inception_V3_pre_trained.output)\n",
        "inception_V3 = Model(inputs=inception_V3_pre_trained.input, outputs=predictions)"
      ]
    },
    {
      "cell_type": "code",
      "execution_count": null,
      "metadata": {
        "id": "u6gEe3Qph31W"
      },
      "outputs": [],
      "source": [
        "adam = tf.keras.optimizers.Adam(\n",
        "    learning_rate=0.00001, beta_1=0.9, beta_2=0.9999, epsilon=1e-08,\n",
        "    amsgrad=True, name='Adam' )\n",
        "\n",
        "inception_V3.compile(\n",
        "  optimizer=adam,\n",
        "  loss='categorical_crossentropy',\n",
        "  metrics=['accuracy',tf.keras.metrics.AUC()])\n",
        "\n",
        "EPOCHS = 20\n",
        "history_inception_V3 = inception_V3.fit(\n",
        "    train_images, train_labels,\n",
        "    epochs=EPOCHS,\n",
        "    batch_size=10,\n",
        "    validation_data=(val_images, val_labels)\n",
        ")"
      ]
    },
    {
      "cell_type": "code",
      "execution_count": null,
      "metadata": {
        "id": "powA4qE-euaY"
      },
      "outputs": [],
      "source": [
        "acc = [0.4544,0.6605,0.7400,0.7950,0.8365,0.8905,0.9058,0.9252,0.9321,0.9429,0.9445,0.9606,0.9722,0.9769,0.9615,0.9730,0.9745,0.9815,0.9884,0.9892]\n",
        "\n",
        "val_acc = [0.5100,0.7292,0.8333,0.8333,0.8750,0.8758,0.8967,0.8958,0.9050,0.8958,0.9267,0.9583,0.9792,0.9575,0.9375,0.9367,0.9475,0.9583,0.9575,0.9575]\n",
        "\n",
        "loss = [1.0977,1.0912,1.0798,1.0698,1.0615,1.0542,1.0490,1.0429,1.0398,1.0377,1.0318,1.0332,1.0300,1.0284,1.0277,1.0284,1.0258,1.0247,1.0229,1.0248]\n",
        "val_loss = [1.0927,1.0836,1.0744,1.0634,1.0559,1.0484,1.0451,1.0425,1.0417,1.0389,1.0372,1.0335,1.0323,1.0325,1.0325,1.0322,1.0293,1.0271,1.0279,1.0297]\n",
        "\n",
        "\n",
        "# loss: 1.0977 - accuracy: 0.4144 - auc: 0.5312 - val_loss: 1.0927 - val_accuracy: 0.5000 - val_auc: 0.6842\n",
        "# loss: 1.0912 - accuracy: 0.6505 - auc: 0.6614 - val_loss: 1.0836 - val_accuracy: 0.7292 - val_auc: 0.7574\n",
        "# loss: 1.0798 - accuracy: 0.7500 - auc: 0.7930 - val_loss: 1.0744 - val_accuracy: 0.8333 - val_auc: 0.8835\n",
        "# loss: 1.0698 - accuracy: 0.7940 - auc: 0.8866 - val_loss: 1.0634 - val_accuracy: 0.8333 - val_auc: 0.9154\n",
        "# loss: 1.0615 - accuracy: 0.8565 - auc: 0.9225 - val_loss: 1.0559 - val_accuracy: 0.8750 - val_auc: 0.9593\n",
        "# loss: 1.0542 - accuracy: 0.9005 - auc: 0.9503 - val_loss: 1.0484 - val_accuracy: 0.8958 - val_auc: 0.9596\n",
        "# loss: 1.0490 - accuracy: 0.8958 - auc: 0.9587 - val_loss: 1.0451 - val_accuracy: 0.9167 - val_auc: 0.9591\n",
        "# loss: 1.0429 - accuracy: 0.9352 - auc: 0.9778 - val_loss: 1.0425 - val_accuracy: 0.8958 - val_auc: 0.9599\n",
        "# loss: 1.0398 - accuracy: 0.9421 - auc: 0.9796 - val_loss: 1.0417 - val_accuracy: 0.8750 - val_auc: 0.9629\n",
        "# loss: 1.0377 - accuracy: 0.9329 - auc: 0.9798 - val_loss: 1.0389 - val_accuracy: 0.8958 - val_auc: 0.9528\n",
        "# loss: 1.0318 - accuracy: 0.9745 - auc: 0.9883 - val_loss: 1.0372 - val_accuracy: 0.9167 - val_auc: 0.9746\n",
        "# loss: 1.0332 - accuracy: 0.9606 - auc: 0.9744 - val_loss: 1.0335 - val_accuracy: 0.9583 - val_auc: 0.9830\n",
        "# loss: 1.0300 - accuracy: 0.9722 - auc: 0.9899 - val_loss: 1.0323 - val_accuracy: 0.9792 - val_auc: 0.9775\n",
        "# loss: 1.0284 - accuracy: 0.9769 - auc: 0.9911 - val_loss: 1.0325 - val_accuracy: 0.9375 - val_auc: 0.9721\n",
        "# loss: 1.0277 - accuracy: 0.9815 - auc: 0.9940 - val_loss: 1.0325 - val_accuracy: 0.9375 - val_auc: 0.9628\n",
        "# loss: 1.0284 - accuracy: 0.9630 - auc: 0.9877 - val_loss: 1.0322 - val_accuracy: 0.9167 - val_auc: 0.9604\n",
        "# loss: 1.0258 - accuracy: 0.9745 - auc: 0.9919 - val_loss: 1.0293 - val_accuracy: 0.9375 - val_auc: 0.9673\n",
        "# loss: 1.0247 - accuracy: 0.9815 - auc: 0.9928 - val_loss: 1.0271 - val_accuracy: 0.9583 - val_auc: 0.9692\n",
        "# loss: 1.0229 - accuracy: 0.9884 - auc: 0.9984 - val_loss: 1.0279 - val_accuracy: 0.9375 - val_auc: 0.9690\n",
        "# loss: 1.0248 - accuracy: 0.9792 - auc: 0.9848 - val_loss: 1.0297 - val_accuracy: 0.9375 - val_auc: 0.9596]"
      ]
    },
    {
      "cell_type": "code",
      "execution_count": null,
      "metadata": {
        "id": "ItUxJVWZiEax"
      },
      "outputs": [],
      "source": [
        "acc = history_inception_V3.history['accuracy']\n",
        "val_acc = history_inception_V3.history['val_accuracy']\n",
        "\n",
        "loss = history_inception_V3.history['loss']\n",
        "val_loss = history_inception_V3.history['val_loss']\n",
        "\n",
        "epochs_range = range(20)\n",
        "plt.figure(num=None, figsize=(20,20), dpi=40, facecolor='w', edgecolor='k')\n",
        "\n",
        "plt.subplot(1, 2, 1)\n",
        "plt.plot(epochs_range, acc, label='Training Accuracy')\n",
        "plt.plot(epochs_range, val_acc, label = 'validation Accuracy')\n",
        "plt.legend(loc='lower right',fontsize=20)\n",
        "plt.title('Accuracy Plot',fontsize=30)\n",
        "plt.xlabel('Number of Epochs',fontsize=30)\n",
        "plt.ylabel('Accuracy',fontsize=30)\n",
        "plt.xticks(fontsize=20)\n",
        "plt.yticks(fontsize=20)\n",
        "\n",
        "plt.subplot(1, 2, 2)\n",
        "plt.plot(epochs_range, loss, label='Training Loss')\n",
        "plt.plot(epochs_range, val_loss, label = 'validation Loss')\n",
        "plt.legend(loc='upper right',fontsize=20)\n",
        "plt.title('Loss Plot',fontsize=30)\n",
        "plt.xlabel('Number of Epochs',fontsize=30)\n",
        "plt.ylabel('Loss',fontsize=30)\n",
        "plt.xticks(fontsize=20)\n",
        "plt.yticks(fontsize=20)\n",
        "plt.show()"
      ]
    },
    {
      "cell_type": "code",
      "execution_count": null,
      "metadata": {
        "id": "akKhAEGBecGM"
      },
      "outputs": [],
      "source": [
        "print(len(acc))\n",
        "tmplist = []\n",
        "t = 0\n",
        "for i in range(0,len(acc)):\n",
        "  tmplist.append(acc[i])\n",
        "  tmplist.append((acc[i-1]+acc[i])/2)\n",
        "print(tmplist)\n",
        "\n",
        "print(len(acc))\n",
        "tmplist2 = []\n",
        "t = 0\n",
        "for i in range(0,len(loss)):\n",
        "  tmplist2.append(loss[i])\n",
        "  tmplist2.append((loss[i-1]+loss[i])/2)\n",
        "print(tmplist)"
      ]
    },
    {
      "cell_type": "code",
      "execution_count": null,
      "metadata": {
        "id": "k2bGiWDBjY3m"
      },
      "outputs": [],
      "source": [
        "!pip install tensorflowjs"
      ]
    },
    {
      "cell_type": "code",
      "execution_count": null,
      "metadata": {
        "id": "MU-jIhY_-ytP"
      },
      "outputs": [],
      "source": [
        "import tensorflowjs as tfjs"
      ]
    },
    {
      "cell_type": "code",
      "execution_count": null,
      "metadata": {
        "id": "NMelROcGiN-i"
      },
      "outputs": [],
      "source": [
        "# # saving the model\n",
        "\n",
        "# export_path_keras = \"./model.h5\"\n",
        "# print(export_path_keras)\n",
        "\n",
        "# model.save(export_path_keras)"
      ]
    },
    {
      "cell_type": "code",
      "execution_count": null,
      "metadata": {
        "id": "xJ8cCEvBiN-n"
      },
      "outputs": [],
      "source": [
        "# export_path_sm = \"./inception_V3\"\n",
        "# print(export_path_sm)\n",
        "\n",
        "# tf.saved_model.save(model, export_path_sm)"
      ]
    },
    {
      "cell_type": "code",
      "execution_count": null,
      "metadata": {
        "id": "wDFk_sN2iN-p"
      },
      "outputs": [],
      "source": [
        "# !zip -r /content/PaddyNet /content/paddynet\n",
        "# files.download(\"PaddyNet.zip\")"
      ]
    },
    {
      "cell_type": "code",
      "execution_count": null,
      "metadata": {
        "id": "JZZLYmQiNeLx"
      },
      "outputs": [],
      "source": [
        "def Get_Results_Inception_V3(folder):\n",
        "  '''\n",
        "    Generates results for Inception_Resnet_V2 model\n",
        "      Folder : (str). : Image_directory\n",
        "  '''\n",
        "  previous_path = os.getcwd()\n",
        "  os.chdir(folder)\n",
        "  current_path = os.getcwd()\n",
        "  predicts = []\n",
        "\n",
        "  for image in tqdm(list(os.listdir(current_path))):\n",
        "    # img = cv2.imread(image)\n",
        "    # median = cv2.medianBlur(img, 5)\n",
        "    # im = Image.fromarray(median)\n",
        "    # im.save(image)\n",
        "\n",
        "    img = keras.preprocessing.image.load_img(image, target_size=(299,299, 3))\n",
        "    img = keras.preprocessing.image.img_to_array(img)\n",
        "    img = np.expand_dims(img, axis=0)\n",
        "    img = tf.keras.applications.inception_v3.preprocess_input(img)\n",
        "\n",
        "    result_inception_v3['image_names'].append(image)\n",
        "    predicts.append(inception_V3.predict(img)[0])\n",
        "\n",
        "    if (folder=='Bacterial leaf blight'):\n",
        "      result_inception_v3['ground_truths'].append(np.asarray([1,0,0]))\n",
        "    elif (folder=='Brown spot'):\n",
        "      result_inception_v3['ground_truths'].append(np.asarray([0,0,1]))\n",
        "    else:\n",
        "      result_inception_v3['ground_truths'].append(np.asarray([0,1,0]))\n",
        "\n",
        "  result_inception_v3['predictions'].append(predicts)\n",
        "  os.chdir(previous_path)"
      ]
    },
    {
      "cell_type": "code",
      "execution_count": null,
      "metadata": {
        "id": "ZJBZNTYdNSRD"
      },
      "outputs": [],
      "source": [
        "result_inception_v3 = {'predictions':[],'image_names':[],'ground_truths':[]}\n",
        "os.chdir('paddy_disease_classification/testing')\n",
        "\n",
        "for folder in training_classes:\n",
        "  Get_Results_Inception_V3(folder)\n",
        "\n",
        "os.chdir('/content')\n",
        "result_inception_v3['predictions'] = np.asarray(result_inception_v3['predictions']).reshape((60, 3))"
      ]
    },
    {
      "cell_type": "code",
      "execution_count": null,
      "metadata": {
        "id": "erem_7veNSRi"
      },
      "outputs": [],
      "source": [
        "print(np.asarray(result_inception_v3['ground_truths']))\n",
        "print(np.asarray(result_inception_v3['predictions']))\n",
        "print(np.asarray(result_inception_v3['ground_truths']).shape)\n",
        "print(np.asarray(result_inception_v3['predictions']).shape)"
      ]
    },
    {
      "cell_type": "code",
      "execution_count": null,
      "metadata": {
        "id": "f9TFl5C4NSRn"
      },
      "outputs": [],
      "source": [
        "pred = np.asarray(result_inception_v3['predictions'])\n",
        "pred = np.argmax(pred, axis=1).reshape(-1)\n",
        "pred = np.asarray(np.eye(len(training_classes),dtype=int)[pred])\n",
        "print(pred)\n",
        "print(pred.shape)"
      ]
    },
    {
      "cell_type": "code",
      "execution_count": null,
      "metadata": {
        "id": "HoTGHXXUNSRr"
      },
      "outputs": [],
      "source": [
        "fpr = dict()\n",
        "tpr = dict()\n",
        "roc_auc = dict()\n",
        "for i in range(len(training_classes)):\n",
        "    fpr[i], tpr[i], _ = roc_curve(result_inception_v3['ground_truths'][i], result_inception_v3['predictions'][i])\n",
        "    roc_auc[i] = auc(fpr[i], tpr[i])\n",
        "\n",
        "# Compute micro-average ROC curve and ROC area\n",
        "fpr[\"micro\"], tpr[\"micro\"], _ = roc_curve(np.asarray(result_inception_v3['ground_truths']).ravel(),np.asarray(result_inception_v3['predictions']).ravel())\n",
        "roc_auc[\"micro\"] = auc(fpr[\"micro\"], tpr[\"micro\"])"
      ]
    },
    {
      "cell_type": "code",
      "execution_count": null,
      "metadata": {
        "id": "6LobYmmQNSRv"
      },
      "outputs": [],
      "source": [
        "# First aggregate all false positive rates\n",
        "all_fpr = np.unique(np.concatenate([fpr[i] for i in range(len(training_classes))]))\n",
        "\n",
        "# Then interpolate all ROC curves at this points\n",
        "mean_tpr = np.zeros_like(all_fpr)\n",
        "for i in range(len(training_classes)):\n",
        "    mean_tpr += interp(all_fpr, fpr[i], tpr[i])\n",
        "\n",
        "# Finally average it and compute AUC\n",
        "mean_tpr /= len(training_classes)\n",
        "\n",
        "fpr[\"macro\"] = all_fpr\n",
        "tpr[\"macro\"] = mean_tpr\n",
        "roc_auc[\"macro\"] = auc(fpr[\"macro\"], tpr[\"macro\"])\n",
        "\n",
        "# Plot all ROC curves\n",
        "lw = 2\n",
        "plt.figure()\n",
        "plt.plot(fpr[\"micro\"], tpr[\"micro\"],\n",
        "         label='micro-average ROC curve (area = {0:0.2f})'\n",
        "               ''.format(roc_auc[\"micro\"]),\n",
        "         color='deeppink', linestyle=':', linewidth=4)\n",
        "\n",
        "plt.plot(fpr[\"macro\"], tpr[\"macro\"],\n",
        "         label='macro-average ROC curve (area = {0:0.2f})'\n",
        "               ''.format(roc_auc[\"macro\"]),\n",
        "         color='navy', linestyle=':', linewidth=4)\n",
        "\n",
        "colors = cycle(['aqua', 'darkorange', 'cornflowerblue'])\n",
        "for i, color in zip(range(len(training_classes)), colors):\n",
        "    plt.plot(fpr[i], tpr[i], color=color, lw=lw,\n",
        "             label='ROC curve of class {0} (area = {1:0.2f})'\n",
        "             ''.format(i, roc_auc[i]))\n",
        "\n",
        "plt.plot([0, 1], [0, 1], 'k--', lw=lw)\n",
        "plt.xlim([0.0, 1.0])\n",
        "plt.ylim([0.0, 1.05])\n",
        "plt.xlabel('False Positive Rate')\n",
        "plt.ylabel('True Positive Rate')\n",
        "plt.title('Receiver operating characteristic using Inception-V3')\n",
        "plt.legend(loc=\"lower right\")\n",
        "plt.show()"
      ]
    },
    {
      "cell_type": "code",
      "execution_count": null,
      "metadata": {
        "id": "f_CSzTjFNSRz"
      },
      "outputs": [],
      "source": [
        "data = {'y_Actual': [np.where(r==1)[0][0] for r in np.asarray(result_inception_v3['ground_truths'])],\n",
        "        'y_Predicted': [np.where(r==1)[0][0] for r in pred]\n",
        "        }\n",
        "\n",
        "df = pd.DataFrame(data, columns=['y_Actual','y_Predicted'])\n",
        "confusion_matrix = pd.crosstab(df['y_Actual'], df['y_Predicted'], rownames=['Actual'], colnames=['Predicted'])\n",
        "\n",
        "sn.heatmap(confusion_matrix, annot=True)\n",
        "plt.show()"
      ]
    },
    {
      "cell_type": "code",
      "execution_count": null,
      "metadata": {
        "id": "lNoQW44NkEGn"
      },
      "outputs": [],
      "source": [
        "saved_model_path = \"model\"\n",
        "inception_V3.save(saved_model_path)"
      ]
    },
    {
      "cell_type": "code",
      "execution_count": null,
      "metadata": {
        "id": "ZcG8O13YkEGr"
      },
      "outputs": [],
      "source": [
        "!tensorflowjs_converter --input_format=keras {saved_model_path} ./"
      ]
    },
    {
      "cell_type": "code",
      "execution_count": null,
      "metadata": {
        "id": "Kt1DzvADkEGt"
      },
      "outputs": [],
      "source": [
        "tfjs.converters.save_keras_model(inception_V3,'OutputModel')"
      ]
    },
    {
      "cell_type": "code",
      "execution_count": null,
      "metadata": {
        "id": "NQkuZPMNj-pB"
      },
      "outputs": [],
      "source": [
        "!zip -r /content/tfjs_model /OutputModel"
      ]
    },
    {
      "cell_type": "code",
      "execution_count": null,
      "metadata": {
        "id": "a_WeAPSmNSR3"
      },
      "outputs": [],
      "source": [
        "# plt.plot(history_inception_resnet_v2.history['auc_01'])"
      ]
    },
    {
      "cell_type": "code",
      "execution_count": null,
      "metadata": {
        "id": "G7zMZUQRiN-u"
      },
      "outputs": [],
      "source": [
        "inception_V3.summary()"
      ]
    },
    {
      "cell_type": "code",
      "execution_count": null,
      "metadata": {
        "id": "TtPCkVTpiN-1"
      },
      "outputs": [],
      "source": [
        "os.chdir('/content')"
      ]
    },
    {
      "cell_type": "code",
      "execution_count": null,
      "metadata": {
        "id": "2dbHugFPiN-3"
      },
      "outputs": [],
      "source": [
        "os.chdir('paddy_disease_classification/testing/Leaf smut')\n",
        "test_image = plt.imread('DSC_0293.JPG')\n",
        "img = keras.preprocessing.image.load_img('DSC_0293.JPG', target_size=(299,299, 3))\n",
        "img = keras.preprocessing.image.img_to_array(img)\n",
        "img = np.expand_dims(img, axis=0)\n",
        "img = tf.keras.applications.inception_v3.preprocess_input(img)\n",
        "plt.imshow(test_image)\n",
        "os.chdir('/content')"
      ]
    },
    {
      "cell_type": "code",
      "execution_count": null,
      "metadata": {
        "id": "tsPLKwz_iN-6"
      },
      "outputs": [],
      "source": [
        "layer_name = 'conv2d_302'\n",
        "\n",
        "# Taking output from 'block8_1_conv'\n",
        "layer_output = inception_V3.get_layer(layer_name).output\n",
        "\n",
        "# Generating a substance model from the pre_trained_model.\n",
        "# model with input layer of pre_trained_model and output layer of 'mixed_7a'\n",
        "feature_extraction_model_2 = tf.keras.Model(inputs=inception_V3.input, outputs=layer_output)\n",
        "\n",
        "# Extracting the features\n",
        "result = feature_extraction_model_2.predict(img)\n",
        "print(result.shape)"
      ]
    },
    {
      "cell_type": "code",
      "execution_count": null,
      "metadata": {
        "id": "SnPP8LwUiN-8"
      },
      "outputs": [],
      "source": [
        "\n",
        "'''\tPlotting Various Features obtained from feature_extraction_model. '''\n",
        "plot_limit = 4\n",
        "index = 1\n",
        "i=96\n",
        "plt.figure(num=None, figsize=(20, 20), dpi=80, facecolor='w', edgecolor='k')\n",
        "for _ in range(plot_limit):\n",
        "\tfor _ in range(plot_limit):\n",
        "\t\t# specify subplot and turn of axis\n",
        "\t\tax = plt.subplot(plot_limit, plot_limit, index)\n",
        "\t\tax.set_xticks([])\n",
        "\t\tax.set_yticks([])\n",
        "\t\t# plot filter channel in grayscale\n",
        "\t\tplt.imshow(result[0, :, :, i-1])\n",
        "\t\tindex += 1;i-=1\n",
        "# show the figure\n",
        "plt.show()\n",
        "# Saving the Plot for future reference.\n",
        "plt.savefig('Activations1.png')"
      ]
    },
    {
      "cell_type": "code",
      "execution_count": null,
      "metadata": {
        "id": "23gxnyARiN--"
      },
      "outputs": [],
      "source": [
        "# PLoting various features from the feature_extraction_model\n",
        "plot_limit = 4\n",
        "index = 1\n",
        "layer_no = 32\n",
        "plt.figure(num=None, figsize=(20, 20), dpi=80, facecolor='w', edgecolor='k')\n",
        "for _ in range(plot_limit):\n",
        "\tfor _ in range(plot_limit):\n",
        "\t\t# specify subplot and turn of axis\n",
        "\t\tax = plt.subplot(plot_limit, plot_limit, index)\n",
        "\t\tax.set_xticks([])\n",
        "\t\tax.set_yticks([])\n",
        "\t\t# plot filter channel in grayscale\n",
        "\t\tplt.imshow(result[0, :, :, layer_no],aspect=\"auto\")\n",
        "\t\tindex += 1;layer_no -= 1;\n",
        "# show the figure\n",
        "plt.show()\n",
        "plt.savefig('Activations2.png')"
      ]
    },
    {
      "cell_type": "code",
      "execution_count": null,
      "metadata": {
        "id": "7G4r-DWDkZOU"
      },
      "outputs": [],
      "source": []
    },
    {
      "cell_type": "code",
      "execution_count": null,
      "metadata": {
        "id": "9G7rCVJ7hoYw"
      },
      "outputs": [],
      "source": []
    },
    {
      "cell_type": "code",
      "execution_count": null,
      "metadata": {
        "id": "ix_nENyjhdoq"
      },
      "outputs": [],
      "source": []
    },
    {
      "cell_type": "code",
      "execution_count": null,
      "metadata": {
        "id": "2Ppp35sxhdmM"
      },
      "outputs": [],
      "source": []
    },
    {
      "cell_type": "code",
      "execution_count": null,
      "metadata": {
        "id": "PYXoueuFnLRP"
      },
      "outputs": [],
      "source": []
    },
    {
      "cell_type": "code",
      "execution_count": null,
      "metadata": {
        "id": "PJf2XbVjnLUd"
      },
      "outputs": [],
      "source": []
    },
    {
      "cell_type": "code",
      "execution_count": null,
      "metadata": {
        "id": "FO_4XaiOsJli"
      },
      "outputs": [],
      "source": [
        "def load_image_resnet(image_path):\n",
        "    '''\n",
        "      Converts the image to size = (299,299,3) and normalizes the data\n",
        "      Args :\n",
        "      image_path : str. Image path for processing the image\n",
        "    '''\n",
        "    img = tf.io.read_file(image_path)\n",
        "    img = tf.image.decode_jpeg(img, channels=3)\n",
        "    img = tf.image.resize(img, (224, 224))\n",
        "    # Normalizing the image\n",
        "    img = tf.keras.applications.inception_v3.preprocess_input(img)\n",
        "    return img, image_path"
      ]
    },
    {
      "cell_type": "code",
      "execution_count": null,
      "metadata": {
        "id": "e77dvpp1sJlp"
      },
      "outputs": [],
      "source": [
        "os.chdir('paddy_disease_classification/train')\n",
        "\n",
        "channels = 3\n",
        "\n",
        "train_images_resnet = np.ndarray(shape=(len(img_name_train), 224, 224, channels), dtype=np.float32)\n",
        "train_labels_resnet = np.ndarray(shape=(len(output_label_train), 3 ), dtype=np.float32)\n",
        "val_images_resnet = np.ndarray(shape=(len(img_name_val), 224, 224, channels), dtype=np.float32)\n",
        "val_labels_resnet = np.ndarray(shape=(len(output_label_val), 3 ), dtype=np.float32)\n",
        "\n",
        "i=0\n",
        "for image in tqdm(list(img_name_train)):\n",
        "  x, path = load_image_resnet(image)\n",
        "  train_images_resnet[i] = x\n",
        "  train_labels_resnet[i] = np.asarray(output_label_train[i])\n",
        "  i += 1\n",
        "\n",
        "\n",
        "i=0\n",
        "for image in tqdm(list(img_name_val)):\n",
        "  x, path = load_image_resnet(image)\n",
        "  val_images_resnet[i] = x\n",
        "  os.chdir('/content')\n",
        "  val_labels_resnet[i] = np.asarray(output_label_val[i])\n",
        "  i += 1\n",
        "\n",
        "os.chdir('/content')"
      ]
    },
    {
      "cell_type": "code",
      "execution_count": null,
      "metadata": {
        "id": "9GJPEzENsJls"
      },
      "outputs": [],
      "source": [
        "train_images.shape, train_labels.shape"
      ]
    },
    {
      "cell_type": "code",
      "execution_count": null,
      "metadata": {
        "id": "7gbcqYqanL0D"
      },
      "outputs": [],
      "source": []
    },
    {
      "cell_type": "code",
      "execution_count": null,
      "metadata": {
        "id": "mcoqni9wnjnx"
      },
      "outputs": [],
      "source": [
        "# Pre trained model\n",
        "resnet_50_pre_trained = ResNet50(include_top=True, weights='imagenet')"
      ]
    },
    {
      "cell_type": "code",
      "execution_count": null,
      "metadata": {
        "id": "shcfsrN6njn4"
      },
      "outputs": [],
      "source": [
        "for layer in resnet_50_pre_trained.layers:\n",
        "    layer.trainable = True\n",
        "\n",
        "predictions = Dense(3, activation='softmax')(resnet_50_pre_trained.output)\n",
        "resnet_50 = Model(inputs=resnet_50_pre_trained.input, outputs=predictions)"
      ]
    },
    {
      "cell_type": "code",
      "execution_count": null,
      "metadata": {
        "id": "GeqtW0gLnjn6"
      },
      "outputs": [],
      "source": [
        "adam = tf.keras.optimizers.Adam(\n",
        "    learning_rate=0.00001, beta_1=0.9, beta_2=0.9999, epsilon=1e-08,\n",
        "    amsgrad=True, name='Adam' )\n",
        "\n",
        "resnet_50.compile(\n",
        "  optimizer=adam,\n",
        "  loss='categorical_crossentropy',\n",
        "  metrics=['accuracy',tf.keras.metrics.AUC()])\n",
        "\n",
        "EPOCHS = 20\n",
        "history_resnet_50 = resnet_50.fit(\n",
        "    train_images_resnet, train_labels_resnet,\n",
        "    epochs=EPOCHS,\n",
        "    batch_size=20\n",
        ")"
      ]
    },
    {
      "cell_type": "code",
      "execution_count": null,
      "metadata": {
        "id": "9U8zvay-njn8"
      },
      "outputs": [],
      "source": [
        "acc = history_resnet_50.history['accuracy']\n",
        "# val_acc = history_resnet_50.history['val_accuracy']\n",
        "\n",
        "loss = history_resnet_50.history['loss']\n",
        "# val_loss = history_resnet_50.history['val_loss']\n",
        "\n",
        "epochs_range = range(EPOCHS)\n",
        "plt.figure(num=None, figsize=(20,20), dpi=40, facecolor='w', edgecolor='k')\n",
        "\n",
        "plt.subplot(1, 2, 1)\n",
        "plt.plot(epochs_range, acc, label='Training Accuracy')\n",
        "# plt.plot(epochs_range, val_acc, label = 'validation Accuracy')\n",
        "plt.legend(loc='lower right',fontsize=20)\n",
        "plt.title('Accuracy Plot',fontsize=30)\n",
        "plt.xlabel('Number of Epochs',fontsize=30)\n",
        "plt.ylabel('Accuracy',fontsize=30)\n",
        "plt.xticks(fontsize=20)\n",
        "plt.yticks(fontsize=20)\n",
        "\n",
        "plt.subplot(1, 2, 2)\n",
        "plt.plot(epochs_range, loss, label='Training Loss')\n",
        "# plt.plot(epochs_range, val_loss, label = 'validation Loss')\n",
        "plt.legend(loc='upper right',fontsize=20)\n",
        "plt.title('Loss Plot',fontsize=30)\n",
        "plt.xlabel('Number of Epochs',fontsize=30)\n",
        "plt.ylabel('Loss')\n",
        "plt.xticks(fontsize=20)\n",
        "plt.yticks(fontsize=20)\n",
        "plt.show()"
      ]
    },
    {
      "cell_type": "code",
      "execution_count": null,
      "metadata": {
        "id": "3wPfCPFznjn_"
      },
      "outputs": [],
      "source": [
        "# # saving the model\n",
        "\n",
        "# export_path_keras = \"./model.h5\"\n",
        "# print(export_path_keras)\n",
        "\n",
        "# model.save(export_path_keras)"
      ]
    },
    {
      "cell_type": "code",
      "execution_count": null,
      "metadata": {
        "id": "htp2arB2njoB"
      },
      "outputs": [],
      "source": [
        "# export_path_sm = \"./inception_V3\"\n",
        "# print(export_path_sm)\n",
        "\n",
        "# tf.saved_model.save(model, export_path_sm)"
      ]
    },
    {
      "cell_type": "code",
      "execution_count": null,
      "metadata": {
        "id": "yHB8FyNnnjoE"
      },
      "outputs": [],
      "source": [
        "# !zip -r /content/PaddyNet /content/paddynet\n",
        "# files.download(\"PaddyNet.zip\")"
      ]
    },
    {
      "cell_type": "code",
      "execution_count": null,
      "metadata": {
        "id": "S6KWt9IhPeLD"
      },
      "outputs": [],
      "source": [
        "def Get_Resnet_50(folder):\n",
        "  '''\n",
        "    Generates results for Inception_Resnet_V2 model\n",
        "      Folder : (str). : Image_directory\n",
        "  '''\n",
        "  previous_path = os.getcwd()\n",
        "  os.chdir(folder)\n",
        "  current_path = os.getcwd()\n",
        "  predicts = []\n",
        "\n",
        "  for image in tqdm(list(os.listdir(current_path))):\n",
        "    # img = cv2.imread(image)\n",
        "    # median = cv2.medianBlur(img, 5)\n",
        "    # im = Image.fromarray(median)\n",
        "    # im.save(image)\n",
        "\n",
        "    img = keras.preprocessing.image.load_img(image, target_size=(299,299, 3))\n",
        "    img = keras.preprocessing.image.img_to_array(img)\n",
        "    img = np.expand_dims(img, axis=0)\n",
        "    img = tf.keras.applications.inception_v3.preprocess_input(img)\n",
        "\n",
        "    result_resnet_50['image_names'].append(image)\n",
        "    predicts.append(resnet_50.predict(img)[0])\n",
        "\n",
        "    if (folder=='Bacterial leaf blight'):\n",
        "      result_resnet_50['ground_truths'].append(np.asarray([1,0,0]))\n",
        "    elif (folder=='Brown spot'):\n",
        "      result_resnet_50['ground_truths'].append(np.asarray([0,0,1]))\n",
        "    else:\n",
        "      result_resnet_50['ground_truths'].append(np.asarray([0,1,0]))\n",
        "\n",
        "  result_resnet_50['predictions'].append(predicts)\n",
        "  os.chdir(previous_path)"
      ]
    },
    {
      "cell_type": "code",
      "execution_count": null,
      "metadata": {
        "id": "d1-41oBcPeLO"
      },
      "outputs": [],
      "source": [
        "result_resnet_50 = {'predictions':[],'image_names':[],'ground_truths':[]}\n",
        "os.chdir('paddy_disease_classification/testing')\n",
        "\n",
        "for folder in training_classes:\n",
        "  Get_Resnet_50(folder)\n",
        "\n",
        "os.chdir('/content')\n",
        "result_resnet_50['predictions'] = np.asarray(result_resnet_50['predictions']).reshape((60, 3))"
      ]
    },
    {
      "cell_type": "code",
      "execution_count": null,
      "metadata": {
        "id": "_cNYDGh1PeLU"
      },
      "outputs": [],
      "source": [
        "print(np.asarray(result_resnet_50['ground_truths']))\n",
        "print(np.asarray(result_resnet_50['predictions']))\n",
        "print(np.asarray(result_resnet_50['ground_truths']).shape)\n",
        "print(np.asarray(result_resnet_50['predictions']).shape)"
      ]
    },
    {
      "cell_type": "code",
      "execution_count": null,
      "metadata": {
        "id": "n3dGy6d4PeLb"
      },
      "outputs": [],
      "source": [
        "pred = np.asarray(result_resnet_50['predictions'])\n",
        "pred = np.argmax(pred, axis=1).reshape(-1)\n",
        "pred = np.asarray(np.eye(len(training_classes),dtype=int)[pred])\n",
        "print(pred)\n",
        "print(pred.shape)"
      ]
    },
    {
      "cell_type": "code",
      "execution_count": null,
      "metadata": {
        "id": "ESh8976SPeLf"
      },
      "outputs": [],
      "source": [
        "fpr = dict()\n",
        "tpr = dict()\n",
        "roc_auc = dict()\n",
        "for i in range(len(training_classes)):\n",
        "    fpr[i], tpr[i], _ = roc_curve(result_resnet_50['ground_truths'][i], result_resnet_50['predictions'][i])\n",
        "    roc_auc[i] = auc(fpr[i], tpr[i])\n",
        "\n",
        "# Compute micro-average ROC curve and ROC area\n",
        "fpr[\"micro\"], tpr[\"micro\"], _ = roc_curve(np.asarray(result_resnet_50['ground_truths']).ravel(),np.asarray(result_resnet_50['predictions']).ravel())\n",
        "roc_auc[\"micro\"] = auc(fpr[\"micro\"], tpr[\"micro\"])"
      ]
    },
    {
      "cell_type": "code",
      "execution_count": null,
      "metadata": {
        "id": "mywsoVBdPeLj"
      },
      "outputs": [],
      "source": [
        "# First aggregate all false positive rates\n",
        "all_fpr = np.unique(np.concatenate([fpr[i] for i in range(len(training_classes))]))\n",
        "\n",
        "# Then interpolate all ROC curves at this points\n",
        "mean_tpr = np.zeros_like(all_fpr)\n",
        "for i in range(len(training_classes)):\n",
        "    mean_tpr += interp(all_fpr, fpr[i], tpr[i])\n",
        "\n",
        "# Finally average it and compute AUC\n",
        "mean_tpr /= len(training_classes)\n",
        "\n",
        "fpr[\"macro\"] = all_fpr\n",
        "tpr[\"macro\"] = mean_tpr\n",
        "roc_auc[\"macro\"] = auc(fpr[\"macro\"], tpr[\"macro\"])\n",
        "\n",
        "# Plot all ROC curves\n",
        "lw = 2\n",
        "plt.figure()\n",
        "plt.plot(fpr[\"micro\"], tpr[\"micro\"],\n",
        "         label='micro-average ROC curve (area = {0:0.2f})'\n",
        "               ''.format(roc_auc[\"micro\"]),\n",
        "         color='deeppink', linestyle=':', linewidth=4)\n",
        "\n",
        "plt.plot(fpr[\"macro\"], tpr[\"macro\"],\n",
        "         label='macro-average ROC curve (area = {0:0.2f})'\n",
        "               ''.format(roc_auc[\"macro\"]),\n",
        "         color='navy', linestyle=':', linewidth=4)\n",
        "\n",
        "colors = cycle(['aqua', 'darkorange', 'cornflowerblue'])\n",
        "for i, color in zip(range(len(training_classes)), colors):\n",
        "    plt.plot(fpr[i], tpr[i], color=color, lw=lw,\n",
        "             label='ROC curve of class {0} (area = {1:0.2f})'\n",
        "             ''.format(i, roc_auc[i]))\n",
        "\n",
        "plt.plot([0, 1], [0, 1], 'k--', lw=lw)\n",
        "plt.xlim([0.0, 1.0])\n",
        "plt.ylim([0.0, 1.05])\n",
        "plt.xlabel('False Positive Rate')\n",
        "plt.ylabel('True Positive Rate')\n",
        "plt.title('Receiver operating characteristic to Paddy Disease Classifer')\n",
        "plt.legend(loc=\"lower right\")\n",
        "plt.show()\n"
      ]
    },
    {
      "cell_type": "code",
      "execution_count": null,
      "metadata": {
        "id": "idJ5NWi4PeLm"
      },
      "outputs": [],
      "source": [
        "data = {'y_Actual': [np.where(r==1)[0][0] for r in np.asarray(result_resnet_50['ground_truths'])],\n",
        "        'y_Predicted': [np.where(r==1)[0][0] for r in pred]\n",
        "        }\n",
        "\n",
        "df = pd.DataFrame(data, columns=['y_Actual','y_Predicted'])\n",
        "confusion_matrix = pd.crosstab(df['y_Actual'], df['y_Predicted'], rownames=['Actual'], colnames=['Predicted'])\n",
        "\n",
        "sn.heatmap(confusion_matrix, annot=True)\n",
        "plt.show()"
      ]
    },
    {
      "cell_type": "code",
      "execution_count": null,
      "metadata": {
        "id": "JLlg2OPvnjoK"
      },
      "outputs": [],
      "source": [
        "os.chdir('/content')"
      ]
    },
    {
      "cell_type": "code",
      "execution_count": null,
      "metadata": {
        "id": "-nK1BmK9mB9k"
      },
      "outputs": [],
      "source": []
    },
    {
      "cell_type": "code",
      "execution_count": null,
      "metadata": {
        "id": "26IN4kKA0ySi"
      },
      "outputs": [],
      "source": [
        "model = tf.keras.models.Sequential([\n",
        "    tf.keras.layers.Conv2D(32, (3,3), input_shape=(150, 150, 3), activation='relu'),\n",
        "    tf.keras.layers.MaxPooling2D(2,2),\n",
        "    tf.keras.layers.Conv2D(64, (3,3), activation='relu'),\n",
        "    tf.keras.layers.MaxPooling2D(2,2),\n",
        "    tf.keras.layers.Conv2D(128, (3, 3), activation='relu'),\n",
        "    tf.keras.layers.MaxPooling2D(2,2),\n",
        "    tf.keras.layers.Flatten(),\n",
        "    tf.keras.layers.Dense(512, activation='relu'),\n",
        "    tf.keras.layers.Dense(128, activation='relu'),\n",
        "    tf.keras.layers.Dense(1, activation='sigmoid')\n",
        "])\n",
        "\n",
        "model.compile(optimizer=RMSprop(lr=0.001), loss='binary_crossentropy', metrics=['acc'])"
      ]
    }
  ],
  "metadata": {
    "accelerator": "GPU",
    "colab": {
      "provenance": [],
      "include_colab_link": true
    },
    "kernelspec": {
      "display_name": "Python 3",
      "name": "python3"
    }
  },
  "nbformat": 4,
  "nbformat_minor": 0
}